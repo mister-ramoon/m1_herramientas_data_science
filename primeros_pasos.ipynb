{
 "cells": [
  {
   "cell_type": "markdown",
   "id": "74ae7729-663d-4e2b-a37b-d3c6c2d56456",
   "metadata": {},
   "source": [
    "# Titulo\n",
    "## Subtitulo\n",
    "### Texto\n",
    "\n",
    "Este es mi primer notebook\n",
    "\n",
    "Texto en *curisva*, o también _cursiva_\n",
    "Texto en **negrita**, o también __Negrita__\n",
    "\n",
    "* uno\n",
    "* dos\n",
    "* tres"
   ]
  },
  {
   "cell_type": "markdown",
   "id": "12ff09e3-589d-4a98-9e00-d57d9c33bab6",
   "metadata": {},
   "source": [
    "1. Uno\n",
    "2. Dos\n",
    "3. elemento 1\n",
    "    * elemento 1\n",
    "    * elemnto 2\n",
    "4. elemento 2"
   ]
  },
  {
   "cell_type": "code",
   "execution_count": 23,
   "id": "e22181c2-a4d1-4b5f-bab7-34f0458bf081",
   "metadata": {},
   "outputs": [],
   "source": [
    "a = 8"
   ]
  },
  {
   "cell_type": "code",
   "execution_count": 24,
   "id": "9d20214d-fc95-4be1-9f4d-8db6a0e2dd21",
   "metadata": {},
   "outputs": [],
   "source": [
    "a = 8 devuelve 8"
   ]
  },
  {
   "cell_type": "code",
   "execution_count": 25,
   "id": "95876ef1-1c87-44bb-a396-5b4bb6e9af62",
   "metadata": {},
   "outputs": [
    {
     "ename": "SyntaxError",
     "evalue": "invalid syntax (2817465241.py, line 1)",
     "output_type": "error",
     "traceback": [
      "\u001b[1;36m  Cell \u001b[1;32mIn[25], line 1\u001b[1;36m\u001b[0m\n\u001b[1;33m    ===\u001b[0m\n\u001b[1;37m    ^\u001b[0m\n\u001b[1;31mSyntaxError\u001b[0m\u001b[1;31m:\u001b[0m invalid syntax\n"
     ]
    }
   ],
   "source": [
    "=== \n",
    "Esto es una línea\n",
    "esto es otra linea\n",
    "==="
   ]
  },
  {
   "cell_type": "code",
   "execution_count": null,
   "id": "12873c41-de96-4f4e-9ea1-193109181ad3",
   "metadata": {},
   "outputs": [],
   "source": [
    "sum()"
   ]
  }
 ],
 "metadata": {
  "kernelspec": {
   "display_name": "Python 3 (ipykernel)",
   "language": "python",
   "name": "python3"
  },
  "language_info": {
   "codemirror_mode": {
    "name": "ipython",
    "version": 3
   },
   "file_extension": ".py",
   "mimetype": "text/x-python",
   "name": "python",
   "nbconvert_exporter": "python",
   "pygments_lexer": "ipython3",
   "version": "3.12.4"
  }
 },
 "nbformat": 4,
 "nbformat_minor": 5
}
