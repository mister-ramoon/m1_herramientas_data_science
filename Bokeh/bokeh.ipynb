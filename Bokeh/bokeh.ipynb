{
 "cells": [
  {
   "cell_type": "markdown",
   "id": "9c198852-843a-4454-91c5-47f4a224a99d",
   "metadata": {},
   "source": [
    "# Boken"
   ]
  },
  {
   "cell_type": "code",
   "execution_count": 37,
   "id": "a780958f-9908-4989-a067-1f161f1d76f7",
   "metadata": {},
   "outputs": [
    {
     "data": {
      "text/html": [
       "    <style>\n",
       "        .bk-notebook-logo {\n",
       "            display: block;\n",
       "            width: 20px;\n",
       "            height: 20px;\n",
       "            background-image: url(data:image/png;base64,iVBORw0KGgoAAAANSUhEUgAAABQAAAAUCAYAAACNiR0NAAAABHNCSVQICAgIfAhkiAAAAAlwSFlzAAALEgAACxIB0t1+/AAAABx0RVh0U29mdHdhcmUAQWRvYmUgRmlyZXdvcmtzIENTNui8sowAAAOkSURBVDiNjZRtaJVlGMd/1/08zzln5zjP1LWcU9N0NkN8m2CYjpgQYQXqSs0I84OLIC0hkEKoPtiH3gmKoiJDU7QpLgoLjLIQCpEsNJ1vqUOdO7ppbuec5+V+rj4ctwzd8IIbbi6u+8f1539dt3A78eXC7QizUF7gyV1fD1Yqg4JWz84yffhm0qkFqBogB9rM8tZdtwVsPUhWhGcFJngGeWrPzHm5oaMmkfEg1usvLFyc8jLRqDOMru7AyC8saQr7GG7f5fvDeH7Ej8CM66nIF+8yngt6HWaKh7k49Soy9nXurCi1o3qUbS3zWfrYeQDTB/Qj6kX6Ybhw4B+bOYoLKCC9H3Nu/leUTZ1JdRWkkn2ldcCamzrcf47KKXdAJllSlxAOkRgyHsGC/zRday5Qld9DyoM4/q/rUoy/CXh3jzOu3bHUVZeU+DEn8FInkPBFlu3+nW3Nw0mk6vCDiWg8CeJaxEwuHS3+z5RgY+YBR6V1Z1nxSOfoaPa4LASWxxdNp+VWTk7+4vzaou8v8PN+xo+KY2xsw6une2frhw05CTYOmQvsEhjhWjn0bmXPjpE1+kplmmkP3suftwTubK9Vq22qKmrBhpY4jvd5afdRA3wGjFAgcnTK2s4hY0/GPNIb0nErGMCRxWOOX64Z8RAC4oCXdklmEvcL8o0BfkNK4lUg9HTl+oPlQxdNo3Mg4Nv175e/1LDGzZen30MEjRUtmXSfiTVu1kK8W4txyV6BMKlbgk3lMwYCiusNy9fVfvvwMxv8Ynl6vxoByANLTWplvuj/nF9m2+PDtt1eiHPBr1oIfhCChQMBw6Aw0UulqTKZdfVvfG7VcfIqLG9bcldL/+pdWTLxLUy8Qq38heUIjh4XlzZxzQm19lLFlr8vdQ97rjZVOLf8nclzckbcD4wxXMidpX30sFd37Fv/GtwwhzhxGVAprjbg0gCAEeIgwCZyTV2Z1REEW8O4py0wsjeloKoMr6iCY6dP92H6Vw/oTyICIthibxjm/DfN9lVz8IqtqKYLUXfoKVMVQVVJOElGjrnnUt9T9wbgp8AyYKaGlqingHZU/uG2NTZSVqwHQTWkx9hxjkpWDaCg6Ckj5qebgBVbT3V3NNXMSiWSDdGV3hrtzla7J+duwPOToIg42ChPQOQjspnSlp1V+Gjdged7+8UN5CRAV7a5EdFNwCjEaBR27b3W890TE7g24NAP/mMDXRWrGoFPQI9ls/MWO2dWFAar/xcOIImbbpA3zgAAAABJRU5ErkJggg==);\n",
       "        }\n",
       "    </style>\n",
       "    <div>\n",
       "        <a href=\"https://bokeh.org\" target=\"_blank\" class=\"bk-notebook-logo\"></a>\n",
       "        <span id=\"e0738cbe-f646-402b-a789-3bf51ca29716\">Loading BokehJS ...</span>\n",
       "    </div>\n"
      ]
     },
     "metadata": {},
     "output_type": "display_data"
    },
    {
     "data": {
      "application/javascript": [
       "'use strict';\n",
       "(function(root) {\n",
       "  function now() {\n",
       "    return new Date();\n",
       "  }\n",
       "\n",
       "  const force = true;\n",
       "\n",
       "  if (typeof root._bokeh_onload_callbacks === \"undefined\" || force === true) {\n",
       "    root._bokeh_onload_callbacks = [];\n",
       "    root._bokeh_is_loading = undefined;\n",
       "  }\n",
       "\n",
       "const JS_MIME_TYPE = 'application/javascript';\n",
       "  const HTML_MIME_TYPE = 'text/html';\n",
       "  const EXEC_MIME_TYPE = 'application/vnd.bokehjs_exec.v0+json';\n",
       "  const CLASS_NAME = 'output_bokeh rendered_html';\n",
       "\n",
       "  /**\n",
       "   * Render data to the DOM node\n",
       "   */\n",
       "  function render(props, node) {\n",
       "    const script = document.createElement(\"script\");\n",
       "    node.appendChild(script);\n",
       "  }\n",
       "\n",
       "  /**\n",
       "   * Handle when an output is cleared or removed\n",
       "   */\n",
       "  function handleClearOutput(event, handle) {\n",
       "    function drop(id) {\n",
       "      const view = Bokeh.index.get_by_id(id)\n",
       "      if (view != null) {\n",
       "        view.model.document.clear()\n",
       "        Bokeh.index.delete(view)\n",
       "      }\n",
       "    }\n",
       "\n",
       "    const cell = handle.cell;\n",
       "\n",
       "    const id = cell.output_area._bokeh_element_id;\n",
       "    const server_id = cell.output_area._bokeh_server_id;\n",
       "\n",
       "    // Clean up Bokeh references\n",
       "    if (id != null) {\n",
       "      drop(id)\n",
       "    }\n",
       "\n",
       "    if (server_id !== undefined) {\n",
       "      // Clean up Bokeh references\n",
       "      const cmd_clean = \"from bokeh.io.state import curstate; print(curstate().uuid_to_server['\" + server_id + \"'].get_sessions()[0].document.roots[0]._id)\";\n",
       "      cell.notebook.kernel.execute(cmd_clean, {\n",
       "        iopub: {\n",
       "          output: function(msg) {\n",
       "            const id = msg.content.text.trim()\n",
       "            drop(id)\n",
       "          }\n",
       "        }\n",
       "      });\n",
       "      // Destroy server and session\n",
       "      const cmd_destroy = \"import bokeh.io.notebook as ion; ion.destroy_server('\" + server_id + \"')\";\n",
       "      cell.notebook.kernel.execute(cmd_destroy);\n",
       "    }\n",
       "  }\n",
       "\n",
       "  /**\n",
       "   * Handle when a new output is added\n",
       "   */\n",
       "  function handleAddOutput(event, handle) {\n",
       "    const output_area = handle.output_area;\n",
       "    const output = handle.output;\n",
       "\n",
       "    // limit handleAddOutput to display_data with EXEC_MIME_TYPE content only\n",
       "    if ((output.output_type != \"display_data\") || (!Object.prototype.hasOwnProperty.call(output.data, EXEC_MIME_TYPE))) {\n",
       "      return\n",
       "    }\n",
       "\n",
       "    const toinsert = output_area.element.find(\".\" + CLASS_NAME.split(' ')[0]);\n",
       "\n",
       "    if (output.metadata[EXEC_MIME_TYPE][\"id\"] !== undefined) {\n",
       "      toinsert[toinsert.length - 1].firstChild.textContent = output.data[JS_MIME_TYPE];\n",
       "      // store reference to embed id on output_area\n",
       "      output_area._bokeh_element_id = output.metadata[EXEC_MIME_TYPE][\"id\"];\n",
       "    }\n",
       "    if (output.metadata[EXEC_MIME_TYPE][\"server_id\"] !== undefined) {\n",
       "      const bk_div = document.createElement(\"div\");\n",
       "      bk_div.innerHTML = output.data[HTML_MIME_TYPE];\n",
       "      const script_attrs = bk_div.children[0].attributes;\n",
       "      for (let i = 0; i < script_attrs.length; i++) {\n",
       "        toinsert[toinsert.length - 1].firstChild.setAttribute(script_attrs[i].name, script_attrs[i].value);\n",
       "        toinsert[toinsert.length - 1].firstChild.textContent = bk_div.children[0].textContent\n",
       "      }\n",
       "      // store reference to server id on output_area\n",
       "      output_area._bokeh_server_id = output.metadata[EXEC_MIME_TYPE][\"server_id\"];\n",
       "    }\n",
       "  }\n",
       "\n",
       "  function register_renderer(events, OutputArea) {\n",
       "\n",
       "    function append_mime(data, metadata, element) {\n",
       "      // create a DOM node to render to\n",
       "      const toinsert = this.create_output_subarea(\n",
       "        metadata,\n",
       "        CLASS_NAME,\n",
       "        EXEC_MIME_TYPE\n",
       "      );\n",
       "      this.keyboard_manager.register_events(toinsert);\n",
       "      // Render to node\n",
       "      const props = {data: data, metadata: metadata[EXEC_MIME_TYPE]};\n",
       "      render(props, toinsert[toinsert.length - 1]);\n",
       "      element.append(toinsert);\n",
       "      return toinsert\n",
       "    }\n",
       "\n",
       "    /* Handle when an output is cleared or removed */\n",
       "    events.on('clear_output.CodeCell', handleClearOutput);\n",
       "    events.on('delete.Cell', handleClearOutput);\n",
       "\n",
       "    /* Handle when a new output is added */\n",
       "    events.on('output_added.OutputArea', handleAddOutput);\n",
       "\n",
       "    /**\n",
       "     * Register the mime type and append_mime function with output_area\n",
       "     */\n",
       "    OutputArea.prototype.register_mime_type(EXEC_MIME_TYPE, append_mime, {\n",
       "      /* Is output safe? */\n",
       "      safe: true,\n",
       "      /* Index of renderer in `output_area.display_order` */\n",
       "      index: 0\n",
       "    });\n",
       "  }\n",
       "\n",
       "  // register the mime type if in Jupyter Notebook environment and previously unregistered\n",
       "  if (root.Jupyter !== undefined) {\n",
       "    const events = require('base/js/events');\n",
       "    const OutputArea = require('notebook/js/outputarea').OutputArea;\n",
       "\n",
       "    if (OutputArea.prototype.mime_types().indexOf(EXEC_MIME_TYPE) == -1) {\n",
       "      register_renderer(events, OutputArea);\n",
       "    }\n",
       "  }\n",
       "  if (typeof (root._bokeh_timeout) === \"undefined\" || force === true) {\n",
       "    root._bokeh_timeout = Date.now() + 5000;\n",
       "    root._bokeh_failed_load = false;\n",
       "  }\n",
       "\n",
       "  const NB_LOAD_WARNING = {'data': {'text/html':\n",
       "     \"<div style='background-color: #fdd'>\\n\"+\n",
       "     \"<p>\\n\"+\n",
       "     \"BokehJS does not appear to have successfully loaded. If loading BokehJS from CDN, this \\n\"+\n",
       "     \"may be due to a slow or bad network connection. Possible fixes:\\n\"+\n",
       "     \"</p>\\n\"+\n",
       "     \"<ul>\\n\"+\n",
       "     \"<li>re-rerun `output_notebook()` to attempt to load from CDN again, or</li>\\n\"+\n",
       "     \"<li>use INLINE resources instead, as so:</li>\\n\"+\n",
       "     \"</ul>\\n\"+\n",
       "     \"<code>\\n\"+\n",
       "     \"from bokeh.resources import INLINE\\n\"+\n",
       "     \"output_notebook(resources=INLINE)\\n\"+\n",
       "     \"</code>\\n\"+\n",
       "     \"</div>\"}};\n",
       "\n",
       "  function display_loaded(error = null) {\n",
       "    const el = document.getElementById(\"e0738cbe-f646-402b-a789-3bf51ca29716\");\n",
       "    if (el != null) {\n",
       "      const html = (() => {\n",
       "        if (typeof root.Bokeh === \"undefined\") {\n",
       "          if (error == null) {\n",
       "            return \"BokehJS is loading ...\";\n",
       "          } else {\n",
       "            return \"BokehJS failed to load.\";\n",
       "          }\n",
       "        } else {\n",
       "          const prefix = `BokehJS ${root.Bokeh.version}`;\n",
       "          if (error == null) {\n",
       "            return `${prefix} successfully loaded.`;\n",
       "          } else {\n",
       "            return `${prefix} <b>encountered errors</b> while loading and may not function as expected.`;\n",
       "          }\n",
       "        }\n",
       "      })();\n",
       "      el.innerHTML = html;\n",
       "\n",
       "      if (error != null) {\n",
       "        const wrapper = document.createElement(\"div\");\n",
       "        wrapper.style.overflow = \"auto\";\n",
       "        wrapper.style.height = \"5em\";\n",
       "        wrapper.style.resize = \"vertical\";\n",
       "        const content = document.createElement(\"div\");\n",
       "        content.style.fontFamily = \"monospace\";\n",
       "        content.style.whiteSpace = \"pre-wrap\";\n",
       "        content.style.backgroundColor = \"rgb(255, 221, 221)\";\n",
       "        content.textContent = error.stack ?? error.toString();\n",
       "        wrapper.append(content);\n",
       "        el.append(wrapper);\n",
       "      }\n",
       "    } else if (Date.now() < root._bokeh_timeout) {\n",
       "      setTimeout(() => display_loaded(error), 100);\n",
       "    }\n",
       "  }\n",
       "\n",
       "  function run_callbacks() {\n",
       "    try {\n",
       "      root._bokeh_onload_callbacks.forEach(function(callback) {\n",
       "        if (callback != null)\n",
       "          callback();\n",
       "      });\n",
       "    } finally {\n",
       "      delete root._bokeh_onload_callbacks\n",
       "    }\n",
       "    console.debug(\"Bokeh: all callbacks have finished\");\n",
       "  }\n",
       "\n",
       "  function load_libs(css_urls, js_urls, callback) {\n",
       "    if (css_urls == null) css_urls = [];\n",
       "    if (js_urls == null) js_urls = [];\n",
       "\n",
       "    root._bokeh_onload_callbacks.push(callback);\n",
       "    if (root._bokeh_is_loading > 0) {\n",
       "      console.debug(\"Bokeh: BokehJS is being loaded, scheduling callback at\", now());\n",
       "      return null;\n",
       "    }\n",
       "    if (js_urls == null || js_urls.length === 0) {\n",
       "      run_callbacks();\n",
       "      return null;\n",
       "    }\n",
       "    console.debug(\"Bokeh: BokehJS not loaded, scheduling load and callback at\", now());\n",
       "    root._bokeh_is_loading = css_urls.length + js_urls.length;\n",
       "\n",
       "    function on_load() {\n",
       "      root._bokeh_is_loading--;\n",
       "      if (root._bokeh_is_loading === 0) {\n",
       "        console.debug(\"Bokeh: all BokehJS libraries/stylesheets loaded\");\n",
       "        run_callbacks()\n",
       "      }\n",
       "    }\n",
       "\n",
       "    function on_error(url) {\n",
       "      console.error(\"failed to load \" + url);\n",
       "    }\n",
       "\n",
       "    for (let i = 0; i < css_urls.length; i++) {\n",
       "      const url = css_urls[i];\n",
       "      const element = document.createElement(\"link\");\n",
       "      element.onload = on_load;\n",
       "      element.onerror = on_error.bind(null, url);\n",
       "      element.rel = \"stylesheet\";\n",
       "      element.type = \"text/css\";\n",
       "      element.href = url;\n",
       "      console.debug(\"Bokeh: injecting link tag for BokehJS stylesheet: \", url);\n",
       "      document.body.appendChild(element);\n",
       "    }\n",
       "\n",
       "    for (let i = 0; i < js_urls.length; i++) {\n",
       "      const url = js_urls[i];\n",
       "      const element = document.createElement('script');\n",
       "      element.onload = on_load;\n",
       "      element.onerror = on_error.bind(null, url);\n",
       "      element.async = false;\n",
       "      element.src = url;\n",
       "      console.debug(\"Bokeh: injecting script tag for BokehJS library: \", url);\n",
       "      document.head.appendChild(element);\n",
       "    }\n",
       "  };\n",
       "\n",
       "  function inject_raw_css(css) {\n",
       "    const element = document.createElement(\"style\");\n",
       "    element.appendChild(document.createTextNode(css));\n",
       "    document.body.appendChild(element);\n",
       "  }\n",
       "\n",
       "  const js_urls = [\"https://cdn.bokeh.org/bokeh/release/bokeh-3.4.1.min.js\", \"https://cdn.bokeh.org/bokeh/release/bokeh-gl-3.4.1.min.js\", \"https://cdn.bokeh.org/bokeh/release/bokeh-widgets-3.4.1.min.js\", \"https://cdn.bokeh.org/bokeh/release/bokeh-tables-3.4.1.min.js\", \"https://cdn.bokeh.org/bokeh/release/bokeh-mathjax-3.4.1.min.js\"];\n",
       "  const css_urls = [];\n",
       "\n",
       "  const inline_js = [    function(Bokeh) {\n",
       "      Bokeh.set_log_level(\"info\");\n",
       "    },\n",
       "function(Bokeh) {\n",
       "    }\n",
       "  ];\n",
       "\n",
       "  function run_inline_js() {\n",
       "    if (root.Bokeh !== undefined || force === true) {\n",
       "      try {\n",
       "            for (let i = 0; i < inline_js.length; i++) {\n",
       "      inline_js[i].call(root, root.Bokeh);\n",
       "    }\n",
       "\n",
       "      } catch (error) {display_loaded(error);throw error;\n",
       "      }if (force === true) {\n",
       "        display_loaded();\n",
       "      }} else if (Date.now() < root._bokeh_timeout) {\n",
       "      setTimeout(run_inline_js, 100);\n",
       "    } else if (!root._bokeh_failed_load) {\n",
       "      console.log(\"Bokeh: BokehJS failed to load within specified timeout.\");\n",
       "      root._bokeh_failed_load = true;\n",
       "    } else if (force !== true) {\n",
       "      const cell = $(document.getElementById(\"e0738cbe-f646-402b-a789-3bf51ca29716\")).parents('.cell').data().cell;\n",
       "      cell.output_area.append_execute_result(NB_LOAD_WARNING)\n",
       "    }\n",
       "  }\n",
       "\n",
       "  if (root._bokeh_is_loading === 0) {\n",
       "    console.debug(\"Bokeh: BokehJS loaded, going straight to plotting\");\n",
       "    run_inline_js();\n",
       "  } else {\n",
       "    load_libs(css_urls, js_urls, function() {\n",
       "      console.debug(\"Bokeh: BokehJS plotting callback run at\", now());\n",
       "      run_inline_js();\n",
       "    });\n",
       "  }\n",
       "}(window));"
      ],
      "application/vnd.bokehjs_load.v0+json": "'use strict';\n(function(root) {\n  function now() {\n    return new Date();\n  }\n\n  const force = true;\n\n  if (typeof root._bokeh_onload_callbacks === \"undefined\" || force === true) {\n    root._bokeh_onload_callbacks = [];\n    root._bokeh_is_loading = undefined;\n  }\n\n\n  if (typeof (root._bokeh_timeout) === \"undefined\" || force === true) {\n    root._bokeh_timeout = Date.now() + 5000;\n    root._bokeh_failed_load = false;\n  }\n\n  const NB_LOAD_WARNING = {'data': {'text/html':\n     \"<div style='background-color: #fdd'>\\n\"+\n     \"<p>\\n\"+\n     \"BokehJS does not appear to have successfully loaded. If loading BokehJS from CDN, this \\n\"+\n     \"may be due to a slow or bad network connection. Possible fixes:\\n\"+\n     \"</p>\\n\"+\n     \"<ul>\\n\"+\n     \"<li>re-rerun `output_notebook()` to attempt to load from CDN again, or</li>\\n\"+\n     \"<li>use INLINE resources instead, as so:</li>\\n\"+\n     \"</ul>\\n\"+\n     \"<code>\\n\"+\n     \"from bokeh.resources import INLINE\\n\"+\n     \"output_notebook(resources=INLINE)\\n\"+\n     \"</code>\\n\"+\n     \"</div>\"}};\n\n  function display_loaded(error = null) {\n    const el = document.getElementById(\"e0738cbe-f646-402b-a789-3bf51ca29716\");\n    if (el != null) {\n      const html = (() => {\n        if (typeof root.Bokeh === \"undefined\") {\n          if (error == null) {\n            return \"BokehJS is loading ...\";\n          } else {\n            return \"BokehJS failed to load.\";\n          }\n        } else {\n          const prefix = `BokehJS ${root.Bokeh.version}`;\n          if (error == null) {\n            return `${prefix} successfully loaded.`;\n          } else {\n            return `${prefix} <b>encountered errors</b> while loading and may not function as expected.`;\n          }\n        }\n      })();\n      el.innerHTML = html;\n\n      if (error != null) {\n        const wrapper = document.createElement(\"div\");\n        wrapper.style.overflow = \"auto\";\n        wrapper.style.height = \"5em\";\n        wrapper.style.resize = \"vertical\";\n        const content = document.createElement(\"div\");\n        content.style.fontFamily = \"monospace\";\n        content.style.whiteSpace = \"pre-wrap\";\n        content.style.backgroundColor = \"rgb(255, 221, 221)\";\n        content.textContent = error.stack ?? error.toString();\n        wrapper.append(content);\n        el.append(wrapper);\n      }\n    } else if (Date.now() < root._bokeh_timeout) {\n      setTimeout(() => display_loaded(error), 100);\n    }\n  }\n\n  function run_callbacks() {\n    try {\n      root._bokeh_onload_callbacks.forEach(function(callback) {\n        if (callback != null)\n          callback();\n      });\n    } finally {\n      delete root._bokeh_onload_callbacks\n    }\n    console.debug(\"Bokeh: all callbacks have finished\");\n  }\n\n  function load_libs(css_urls, js_urls, callback) {\n    if (css_urls == null) css_urls = [];\n    if (js_urls == null) js_urls = [];\n\n    root._bokeh_onload_callbacks.push(callback);\n    if (root._bokeh_is_loading > 0) {\n      console.debug(\"Bokeh: BokehJS is being loaded, scheduling callback at\", now());\n      return null;\n    }\n    if (js_urls == null || js_urls.length === 0) {\n      run_callbacks();\n      return null;\n    }\n    console.debug(\"Bokeh: BokehJS not loaded, scheduling load and callback at\", now());\n    root._bokeh_is_loading = css_urls.length + js_urls.length;\n\n    function on_load() {\n      root._bokeh_is_loading--;\n      if (root._bokeh_is_loading === 0) {\n        console.debug(\"Bokeh: all BokehJS libraries/stylesheets loaded\");\n        run_callbacks()\n      }\n    }\n\n    function on_error(url) {\n      console.error(\"failed to load \" + url);\n    }\n\n    for (let i = 0; i < css_urls.length; i++) {\n      const url = css_urls[i];\n      const element = document.createElement(\"link\");\n      element.onload = on_load;\n      element.onerror = on_error.bind(null, url);\n      element.rel = \"stylesheet\";\n      element.type = \"text/css\";\n      element.href = url;\n      console.debug(\"Bokeh: injecting link tag for BokehJS stylesheet: \", url);\n      document.body.appendChild(element);\n    }\n\n    for (let i = 0; i < js_urls.length; i++) {\n      const url = js_urls[i];\n      const element = document.createElement('script');\n      element.onload = on_load;\n      element.onerror = on_error.bind(null, url);\n      element.async = false;\n      element.src = url;\n      console.debug(\"Bokeh: injecting script tag for BokehJS library: \", url);\n      document.head.appendChild(element);\n    }\n  };\n\n  function inject_raw_css(css) {\n    const element = document.createElement(\"style\");\n    element.appendChild(document.createTextNode(css));\n    document.body.appendChild(element);\n  }\n\n  const js_urls = [\"https://cdn.bokeh.org/bokeh/release/bokeh-3.4.1.min.js\", \"https://cdn.bokeh.org/bokeh/release/bokeh-gl-3.4.1.min.js\", \"https://cdn.bokeh.org/bokeh/release/bokeh-widgets-3.4.1.min.js\", \"https://cdn.bokeh.org/bokeh/release/bokeh-tables-3.4.1.min.js\", \"https://cdn.bokeh.org/bokeh/release/bokeh-mathjax-3.4.1.min.js\"];\n  const css_urls = [];\n\n  const inline_js = [    function(Bokeh) {\n      Bokeh.set_log_level(\"info\");\n    },\nfunction(Bokeh) {\n    }\n  ];\n\n  function run_inline_js() {\n    if (root.Bokeh !== undefined || force === true) {\n      try {\n            for (let i = 0; i < inline_js.length; i++) {\n      inline_js[i].call(root, root.Bokeh);\n    }\n\n      } catch (error) {display_loaded(error);throw error;\n      }if (force === true) {\n        display_loaded();\n      }} else if (Date.now() < root._bokeh_timeout) {\n      setTimeout(run_inline_js, 100);\n    } else if (!root._bokeh_failed_load) {\n      console.log(\"Bokeh: BokehJS failed to load within specified timeout.\");\n      root._bokeh_failed_load = true;\n    } else if (force !== true) {\n      const cell = $(document.getElementById(\"e0738cbe-f646-402b-a789-3bf51ca29716\")).parents('.cell').data().cell;\n      cell.output_area.append_execute_result(NB_LOAD_WARNING)\n    }\n  }\n\n  if (root._bokeh_is_loading === 0) {\n    console.debug(\"Bokeh: BokehJS loaded, going straight to plotting\");\n    run_inline_js();\n  } else {\n    load_libs(css_urls, js_urls, function() {\n      console.debug(\"Bokeh: BokehJS plotting callback run at\", now());\n      run_inline_js();\n    });\n  }\n}(window));"
     },
     "metadata": {},
     "output_type": "display_data"
    }
   ],
   "source": [
    "from bokeh.io import output_notebook, show\n",
    "\n",
    "output_notebook()"
   ]
  },
  {
   "cell_type": "code",
   "execution_count": 38,
   "id": "6a69f996-9ec0-4a31-9a43-db9d59d9f541",
   "metadata": {},
   "outputs": [],
   "source": [
    "from bokeh.plotting import figure\n",
    "p = figure(width=400, height=400)"
   ]
  },
  {
   "cell_type": "markdown",
   "id": "273ee873-9ecc-4388-ae69-a5a85e3f1cd3",
   "metadata": {},
   "source": [
    "### Gráfico de líneas"
   ]
  },
  {
   "cell_type": "code",
   "execution_count": 60,
   "id": "94f3b8f5-65e3-43ec-b94c-4c959c920102",
   "metadata": {},
   "outputs": [
    {
     "data": {
      "text/html": [
       "\n",
       "  <div id=\"e40dd1dc-2dfa-4727-9d93-745c2ba538dd\" data-root-id=\"p1118\" style=\"display: contents;\"></div>\n"
      ]
     },
     "metadata": {},
     "output_type": "display_data"
    },
    {
     "data": {
      "application/javascript": [
       "(function(root) {\n",
       "  function embed_document(root) {\n",
       "  const docs_json = {\"93f02ba3-3583-4e78-8075-3eaf96775fcd\":{\"version\":\"3.4.1\",\"title\":\"Bokeh Application\",\"roots\":[{\"type\":\"object\",\"name\":\"Figure\",\"id\":\"p1118\",\"attributes\":{\"width\":500,\"height\":500,\"x_range\":{\"type\":\"object\",\"name\":\"DataRange1d\",\"id\":\"p1119\"},\"y_range\":{\"type\":\"object\",\"name\":\"DataRange1d\",\"id\":\"p1120\"},\"x_scale\":{\"type\":\"object\",\"name\":\"LinearScale\",\"id\":\"p1127\"},\"y_scale\":{\"type\":\"object\",\"name\":\"LinearScale\",\"id\":\"p1128\"},\"title\":{\"type\":\"object\",\"name\":\"Title\",\"id\":\"p1125\"},\"renderers\":[{\"type\":\"object\",\"name\":\"GlyphRenderer\",\"id\":\"p1156\",\"attributes\":{\"data_source\":{\"type\":\"object\",\"name\":\"ColumnDataSource\",\"id\":\"p1150\",\"attributes\":{\"selected\":{\"type\":\"object\",\"name\":\"Selection\",\"id\":\"p1151\",\"attributes\":{\"indices\":[],\"line_indices\":[]}},\"selection_policy\":{\"type\":\"object\",\"name\":\"UnionRenderers\",\"id\":\"p1152\"},\"data\":{\"type\":\"map\",\"entries\":[[\"x\",[1,2,3,4,5,6,7,8]],[\"y\",[20,3,12,28,15,6,19,11]]]}}},\"view\":{\"type\":\"object\",\"name\":\"CDSView\",\"id\":\"p1157\",\"attributes\":{\"filter\":{\"type\":\"object\",\"name\":\"AllIndices\",\"id\":\"p1158\"}}},\"glyph\":{\"type\":\"object\",\"name\":\"Circle\",\"id\":\"p1153\",\"attributes\":{\"x\":{\"type\":\"field\",\"field\":\"x\"},\"y\":{\"type\":\"field\",\"field\":\"y\"},\"line_color\":{\"type\":\"value\",\"value\":\"red\"},\"line_alpha\":{\"type\":\"value\",\"value\":0.5},\"line_width\":{\"type\":\"value\",\"value\":5},\"fill_color\":{\"type\":\"value\",\"value\":\"red\"},\"hatch_color\":{\"type\":\"value\",\"value\":\"red\"}}},\"nonselection_glyph\":{\"type\":\"object\",\"name\":\"Circle\",\"id\":\"p1154\",\"attributes\":{\"x\":{\"type\":\"field\",\"field\":\"x\"},\"y\":{\"type\":\"field\",\"field\":\"y\"},\"line_color\":{\"type\":\"value\",\"value\":\"red\"},\"line_alpha\":{\"type\":\"value\",\"value\":0.1},\"line_width\":{\"type\":\"value\",\"value\":5},\"fill_color\":{\"type\":\"value\",\"value\":\"red\"},\"fill_alpha\":{\"type\":\"value\",\"value\":0.1},\"hatch_color\":{\"type\":\"value\",\"value\":\"red\"},\"hatch_alpha\":{\"type\":\"value\",\"value\":0.1}}},\"muted_glyph\":{\"type\":\"object\",\"name\":\"Circle\",\"id\":\"p1155\",\"attributes\":{\"x\":{\"type\":\"field\",\"field\":\"x\"},\"y\":{\"type\":\"field\",\"field\":\"y\"},\"line_color\":{\"type\":\"value\",\"value\":\"red\"},\"line_alpha\":{\"type\":\"value\",\"value\":0.2},\"line_width\":{\"type\":\"value\",\"value\":5},\"fill_color\":{\"type\":\"value\",\"value\":\"red\"},\"fill_alpha\":{\"type\":\"value\",\"value\":0.2},\"hatch_color\":{\"type\":\"value\",\"value\":\"red\"},\"hatch_alpha\":{\"type\":\"value\",\"value\":0.2}}}}},{\"type\":\"object\",\"name\":\"GlyphRenderer\",\"id\":\"p1165\",\"attributes\":{\"data_source\":{\"type\":\"object\",\"name\":\"ColumnDataSource\",\"id\":\"p1159\",\"attributes\":{\"selected\":{\"type\":\"object\",\"name\":\"Selection\",\"id\":\"p1160\",\"attributes\":{\"indices\":[],\"line_indices\":[]}},\"selection_policy\":{\"type\":\"object\",\"name\":\"UnionRenderers\",\"id\":\"p1161\"},\"data\":{\"type\":\"map\",\"entries\":[[\"x\",[1,2,3,4,5,6,7,8]],[\"y\",[20,3,12,28,15,6,19,11]]]}}},\"view\":{\"type\":\"object\",\"name\":\"CDSView\",\"id\":\"p1166\",\"attributes\":{\"filter\":{\"type\":\"object\",\"name\":\"AllIndices\",\"id\":\"p1167\"}}},\"glyph\":{\"type\":\"object\",\"name\":\"Line\",\"id\":\"p1162\",\"attributes\":{\"x\":{\"type\":\"field\",\"field\":\"x\"},\"y\":{\"type\":\"field\",\"field\":\"y\"},\"line_color\":\"#1f77b4\"}},\"nonselection_glyph\":{\"type\":\"object\",\"name\":\"Line\",\"id\":\"p1163\",\"attributes\":{\"x\":{\"type\":\"field\",\"field\":\"x\"},\"y\":{\"type\":\"field\",\"field\":\"y\"},\"line_color\":\"#1f77b4\",\"line_alpha\":0.1}},\"muted_glyph\":{\"type\":\"object\",\"name\":\"Line\",\"id\":\"p1164\",\"attributes\":{\"x\":{\"type\":\"field\",\"field\":\"x\"},\"y\":{\"type\":\"field\",\"field\":\"y\"},\"line_color\":\"#1f77b4\",\"line_alpha\":0.2}}}},{\"type\":\"object\",\"name\":\"GlyphRenderer\",\"id\":\"p1174\",\"attributes\":{\"data_source\":{\"type\":\"object\",\"name\":\"ColumnDataSource\",\"id\":\"p1168\",\"attributes\":{\"selected\":{\"type\":\"object\",\"name\":\"Selection\",\"id\":\"p1169\",\"attributes\":{\"indices\":[],\"line_indices\":[]}},\"selection_policy\":{\"type\":\"object\",\"name\":\"UnionRenderers\",\"id\":\"p1170\"},\"data\":{\"type\":\"map\",\"entries\":[[\"x\",[1,2,3,4,5,6,7,8]],[\"y\",[20,3,12,28,15,6,19,11]]]}}},\"view\":{\"type\":\"object\",\"name\":\"CDSView\",\"id\":\"p1175\",\"attributes\":{\"filter\":{\"type\":\"object\",\"name\":\"AllIndices\",\"id\":\"p1176\"}}},\"glyph\":{\"type\":\"object\",\"name\":\"Line\",\"id\":\"p1171\",\"attributes\":{\"x\":{\"type\":\"field\",\"field\":\"x\"},\"y\":{\"type\":\"field\",\"field\":\"y\"},\"line_color\":\"red\",\"line_alpha\":0.5,\"line_width\":5}},\"nonselection_glyph\":{\"type\":\"object\",\"name\":\"Line\",\"id\":\"p1172\",\"attributes\":{\"x\":{\"type\":\"field\",\"field\":\"x\"},\"y\":{\"type\":\"field\",\"field\":\"y\"},\"line_color\":\"red\",\"line_alpha\":0.1,\"line_width\":5}},\"muted_glyph\":{\"type\":\"object\",\"name\":\"Line\",\"id\":\"p1173\",\"attributes\":{\"x\":{\"type\":\"field\",\"field\":\"x\"},\"y\":{\"type\":\"field\",\"field\":\"y\"},\"line_color\":\"red\",\"line_alpha\":0.2,\"line_width\":5}}}},{\"type\":\"object\",\"name\":\"GlyphRenderer\",\"id\":\"p1183\",\"attributes\":{\"data_source\":{\"type\":\"object\",\"name\":\"ColumnDataSource\",\"id\":\"p1177\",\"attributes\":{\"selected\":{\"type\":\"object\",\"name\":\"Selection\",\"id\":\"p1178\",\"attributes\":{\"indices\":[],\"line_indices\":[]}},\"selection_policy\":{\"type\":\"object\",\"name\":\"UnionRenderers\",\"id\":\"p1179\"},\"data\":{\"type\":\"map\",\"entries\":[[\"x\",[1,2,3,4,5,6,7,8]],[\"y\",[20,3,12,28,15,6,19,11]]]}}},\"view\":{\"type\":\"object\",\"name\":\"CDSView\",\"id\":\"p1184\",\"attributes\":{\"filter\":{\"type\":\"object\",\"name\":\"AllIndices\",\"id\":\"p1185\"}}},\"glyph\":{\"type\":\"object\",\"name\":\"Line\",\"id\":\"p1180\",\"attributes\":{\"x\":{\"type\":\"field\",\"field\":\"x\"},\"y\":{\"type\":\"field\",\"field\":\"y\"},\"line_color\":\"#1f77b4\"}},\"nonselection_glyph\":{\"type\":\"object\",\"name\":\"Line\",\"id\":\"p1181\",\"attributes\":{\"x\":{\"type\":\"field\",\"field\":\"x\"},\"y\":{\"type\":\"field\",\"field\":\"y\"},\"line_color\":\"#1f77b4\",\"line_alpha\":0.1}},\"muted_glyph\":{\"type\":\"object\",\"name\":\"Line\",\"id\":\"p1182\",\"attributes\":{\"x\":{\"type\":\"field\",\"field\":\"x\"},\"y\":{\"type\":\"field\",\"field\":\"y\"},\"line_color\":\"#1f77b4\",\"line_alpha\":0.2}}}},{\"type\":\"object\",\"name\":\"GlyphRenderer\",\"id\":\"p1192\",\"attributes\":{\"data_source\":{\"type\":\"object\",\"name\":\"ColumnDataSource\",\"id\":\"p1186\",\"attributes\":{\"selected\":{\"type\":\"object\",\"name\":\"Selection\",\"id\":\"p1187\",\"attributes\":{\"indices\":[],\"line_indices\":[]}},\"selection_policy\":{\"type\":\"object\",\"name\":\"UnionRenderers\",\"id\":\"p1188\"},\"data\":{\"type\":\"map\",\"entries\":[[\"x\",[1,2,3,4,5,6,7,8]],[\"y\",[20,3,12,28,15,6,19,11]]]}}},\"view\":{\"type\":\"object\",\"name\":\"CDSView\",\"id\":\"p1193\",\"attributes\":{\"filter\":{\"type\":\"object\",\"name\":\"AllIndices\",\"id\":\"p1194\"}}},\"glyph\":{\"type\":\"object\",\"name\":\"Line\",\"id\":\"p1189\",\"attributes\":{\"x\":{\"type\":\"field\",\"field\":\"x\"},\"y\":{\"type\":\"field\",\"field\":\"y\"},\"line_color\":\"#1f77b4\"}},\"nonselection_glyph\":{\"type\":\"object\",\"name\":\"Line\",\"id\":\"p1190\",\"attributes\":{\"x\":{\"type\":\"field\",\"field\":\"x\"},\"y\":{\"type\":\"field\",\"field\":\"y\"},\"line_color\":\"#1f77b4\",\"line_alpha\":0.1}},\"muted_glyph\":{\"type\":\"object\",\"name\":\"Line\",\"id\":\"p1191\",\"attributes\":{\"x\":{\"type\":\"field\",\"field\":\"x\"},\"y\":{\"type\":\"field\",\"field\":\"y\"},\"line_color\":\"#1f77b4\",\"line_alpha\":0.2}}}},{\"type\":\"object\",\"name\":\"GlyphRenderer\",\"id\":\"p1201\",\"attributes\":{\"data_source\":{\"type\":\"object\",\"name\":\"ColumnDataSource\",\"id\":\"p1195\",\"attributes\":{\"selected\":{\"type\":\"object\",\"name\":\"Selection\",\"id\":\"p1196\",\"attributes\":{\"indices\":[],\"line_indices\":[]}},\"selection_policy\":{\"type\":\"object\",\"name\":\"UnionRenderers\",\"id\":\"p1197\"},\"data\":{\"type\":\"map\",\"entries\":[[\"x\",[1,2,3,4,5,6,7,8]],[\"y\",[20,3,12,28,15,6,19,11]]]}}},\"view\":{\"type\":\"object\",\"name\":\"CDSView\",\"id\":\"p1202\",\"attributes\":{\"filter\":{\"type\":\"object\",\"name\":\"AllIndices\",\"id\":\"p1203\"}}},\"glyph\":{\"type\":\"object\",\"name\":\"Line\",\"id\":\"p1198\",\"attributes\":{\"x\":{\"type\":\"field\",\"field\":\"x\"},\"y\":{\"type\":\"field\",\"field\":\"y\"},\"line_color\":\"#1f77b4\"}},\"nonselection_glyph\":{\"type\":\"object\",\"name\":\"Line\",\"id\":\"p1199\",\"attributes\":{\"x\":{\"type\":\"field\",\"field\":\"x\"},\"y\":{\"type\":\"field\",\"field\":\"y\"},\"line_color\":\"#1f77b4\",\"line_alpha\":0.1}},\"muted_glyph\":{\"type\":\"object\",\"name\":\"Line\",\"id\":\"p1200\",\"attributes\":{\"x\":{\"type\":\"field\",\"field\":\"x\"},\"y\":{\"type\":\"field\",\"field\":\"y\"},\"line_color\":\"#1f77b4\",\"line_alpha\":0.2}}}},{\"type\":\"object\",\"name\":\"GlyphRenderer\",\"id\":\"p1210\",\"attributes\":{\"data_source\":{\"type\":\"object\",\"name\":\"ColumnDataSource\",\"id\":\"p1204\",\"attributes\":{\"selected\":{\"type\":\"object\",\"name\":\"Selection\",\"id\":\"p1205\",\"attributes\":{\"indices\":[],\"line_indices\":[]}},\"selection_policy\":{\"type\":\"object\",\"name\":\"UnionRenderers\",\"id\":\"p1206\"},\"data\":{\"type\":\"map\",\"entries\":[[\"x\",[1,2,3,4,5,6,7,8]],[\"y\",[20,3,12,28,15,6,19,11]]]}}},\"view\":{\"type\":\"object\",\"name\":\"CDSView\",\"id\":\"p1211\",\"attributes\":{\"filter\":{\"type\":\"object\",\"name\":\"AllIndices\",\"id\":\"p1212\"}}},\"glyph\":{\"type\":\"object\",\"name\":\"Line\",\"id\":\"p1207\",\"attributes\":{\"x\":{\"type\":\"field\",\"field\":\"x\"},\"y\":{\"type\":\"field\",\"field\":\"y\"},\"line_color\":\"#1f77b4\"}},\"nonselection_glyph\":{\"type\":\"object\",\"name\":\"Line\",\"id\":\"p1208\",\"attributes\":{\"x\":{\"type\":\"field\",\"field\":\"x\"},\"y\":{\"type\":\"field\",\"field\":\"y\"},\"line_color\":\"#1f77b4\",\"line_alpha\":0.1}},\"muted_glyph\":{\"type\":\"object\",\"name\":\"Line\",\"id\":\"p1209\",\"attributes\":{\"x\":{\"type\":\"field\",\"field\":\"x\"},\"y\":{\"type\":\"field\",\"field\":\"y\"},\"line_color\":\"#1f77b4\",\"line_alpha\":0.2}}}},{\"type\":\"object\",\"name\":\"GlyphRenderer\",\"id\":\"p1219\",\"attributes\":{\"data_source\":{\"type\":\"object\",\"name\":\"ColumnDataSource\",\"id\":\"p1213\",\"attributes\":{\"selected\":{\"type\":\"object\",\"name\":\"Selection\",\"id\":\"p1214\",\"attributes\":{\"indices\":[],\"line_indices\":[]}},\"selection_policy\":{\"type\":\"object\",\"name\":\"UnionRenderers\",\"id\":\"p1215\"},\"data\":{\"type\":\"map\",\"entries\":[[\"x\",[1,2,3,4,5,6,7,8]],[\"y\",[20,3,12,28,15,6,19,11]]]}}},\"view\":{\"type\":\"object\",\"name\":\"CDSView\",\"id\":\"p1220\",\"attributes\":{\"filter\":{\"type\":\"object\",\"name\":\"AllIndices\",\"id\":\"p1221\"}}},\"glyph\":{\"type\":\"object\",\"name\":\"Line\",\"id\":\"p1216\",\"attributes\":{\"x\":{\"type\":\"field\",\"field\":\"x\"},\"y\":{\"type\":\"field\",\"field\":\"y\"},\"line_color\":\"#1f77b4\"}},\"nonselection_glyph\":{\"type\":\"object\",\"name\":\"Line\",\"id\":\"p1217\",\"attributes\":{\"x\":{\"type\":\"field\",\"field\":\"x\"},\"y\":{\"type\":\"field\",\"field\":\"y\"},\"line_color\":\"#1f77b4\",\"line_alpha\":0.1}},\"muted_glyph\":{\"type\":\"object\",\"name\":\"Line\",\"id\":\"p1218\",\"attributes\":{\"x\":{\"type\":\"field\",\"field\":\"x\"},\"y\":{\"type\":\"field\",\"field\":\"y\"},\"line_color\":\"#1f77b4\",\"line_alpha\":0.2}}}}],\"toolbar\":{\"type\":\"object\",\"name\":\"Toolbar\",\"id\":\"p1126\",\"attributes\":{\"tools\":[{\"type\":\"object\",\"name\":\"PanTool\",\"id\":\"p1139\"},{\"type\":\"object\",\"name\":\"WheelZoomTool\",\"id\":\"p1140\",\"attributes\":{\"renderers\":\"auto\"}},{\"type\":\"object\",\"name\":\"BoxZoomTool\",\"id\":\"p1141\",\"attributes\":{\"overlay\":{\"type\":\"object\",\"name\":\"BoxAnnotation\",\"id\":\"p1142\",\"attributes\":{\"syncable\":false,\"level\":\"overlay\",\"visible\":false,\"left\":{\"type\":\"number\",\"value\":\"nan\"},\"right\":{\"type\":\"number\",\"value\":\"nan\"},\"top\":{\"type\":\"number\",\"value\":\"nan\"},\"bottom\":{\"type\":\"number\",\"value\":\"nan\"},\"left_units\":\"canvas\",\"right_units\":\"canvas\",\"top_units\":\"canvas\",\"bottom_units\":\"canvas\",\"line_color\":\"black\",\"line_alpha\":1.0,\"line_width\":2,\"line_dash\":[4,4],\"fill_color\":\"lightgrey\",\"fill_alpha\":0.5}}}},{\"type\":\"object\",\"name\":\"SaveTool\",\"id\":\"p1147\"},{\"type\":\"object\",\"name\":\"ResetTool\",\"id\":\"p1148\"},{\"type\":\"object\",\"name\":\"HelpTool\",\"id\":\"p1149\"}]}},\"left\":[{\"type\":\"object\",\"name\":\"LinearAxis\",\"id\":\"p1134\",\"attributes\":{\"ticker\":{\"type\":\"object\",\"name\":\"BasicTicker\",\"id\":\"p1135\",\"attributes\":{\"mantissas\":[1,2,5]}},\"formatter\":{\"type\":\"object\",\"name\":\"BasicTickFormatter\",\"id\":\"p1136\"},\"major_label_policy\":{\"type\":\"object\",\"name\":\"AllLabels\",\"id\":\"p1137\"}}}],\"below\":[{\"type\":\"object\",\"name\":\"LinearAxis\",\"id\":\"p1129\",\"attributes\":{\"ticker\":{\"type\":\"object\",\"name\":\"BasicTicker\",\"id\":\"p1130\",\"attributes\":{\"mantissas\":[1,2,5]}},\"formatter\":{\"type\":\"object\",\"name\":\"BasicTickFormatter\",\"id\":\"p1131\"},\"major_label_policy\":{\"type\":\"object\",\"name\":\"AllLabels\",\"id\":\"p1132\"}}}],\"center\":[{\"type\":\"object\",\"name\":\"Grid\",\"id\":\"p1133\",\"attributes\":{\"axis\":{\"id\":\"p1129\"}}},{\"type\":\"object\",\"name\":\"Grid\",\"id\":\"p1138\",\"attributes\":{\"dimension\":1,\"axis\":{\"id\":\"p1134\"}}}]}}]}};\n",
       "  const render_items = [{\"docid\":\"93f02ba3-3583-4e78-8075-3eaf96775fcd\",\"roots\":{\"p1118\":\"e40dd1dc-2dfa-4727-9d93-745c2ba538dd\"},\"root_ids\":[\"p1118\"]}];\n",
       "  void root.Bokeh.embed.embed_items_notebook(docs_json, render_items);\n",
       "  }\n",
       "  if (root.Bokeh !== undefined) {\n",
       "    embed_document(root);\n",
       "  } else {\n",
       "    let attempts = 0;\n",
       "    const timer = setInterval(function(root) {\n",
       "      if (root.Bokeh !== undefined) {\n",
       "        clearInterval(timer);\n",
       "        embed_document(root);\n",
       "      } else {\n",
       "        attempts++;\n",
       "        if (attempts > 100) {\n",
       "          clearInterval(timer);\n",
       "          console.log(\"Bokeh: ERROR: Unable to run BokehJS code because BokehJS library is missing\");\n",
       "        }\n",
       "      }\n",
       "    }, 10, root)\n",
       "  }\n",
       "})(window);"
      ],
      "application/vnd.bokehjs_exec.v0+json": ""
     },
     "metadata": {
      "application/vnd.bokehjs_exec.v0+json": {
       "id": "p1118"
      }
     },
     "output_type": "display_data"
    }
   ],
   "source": [
    "p.line([1, 2, 3, 4, 5, 6, 7, 8] ,[20, 3, 12, 28, 15, 6, 19, 11])\n",
    "show(p)"
   ]
  },
  {
   "cell_type": "code",
   "execution_count": 64,
   "id": "93d5b028-2624-4d9e-886d-cf4afd1af0ce",
   "metadata": {},
   "outputs": [
    {
     "data": {
      "text/html": [
       "\n",
       "  <div id=\"bc1658d7-7ae5-4194-9895-2faf3d624add\" data-root-id=\"p1225\" style=\"display: contents;\"></div>\n"
      ]
     },
     "metadata": {},
     "output_type": "display_data"
    },
    {
     "data": {
      "application/javascript": [
       "(function(root) {\n",
       "  function embed_document(root) {\n",
       "  const docs_json = {\"4cb5f112-5cab-403d-a47e-94533c2b2369\":{\"version\":\"3.4.1\",\"title\":\"Bokeh Application\",\"roots\":[{\"type\":\"object\",\"name\":\"Figure\",\"id\":\"p1225\",\"attributes\":{\"width\":400,\"height\":400,\"x_range\":{\"type\":\"object\",\"name\":\"DataRange1d\",\"id\":\"p1226\"},\"y_range\":{\"type\":\"object\",\"name\":\"DataRange1d\",\"id\":\"p1227\"},\"x_scale\":{\"type\":\"object\",\"name\":\"LinearScale\",\"id\":\"p1234\"},\"y_scale\":{\"type\":\"object\",\"name\":\"LinearScale\",\"id\":\"p1235\"},\"title\":{\"type\":\"object\",\"name\":\"Title\",\"id\":\"p1232\"},\"renderers\":[{\"type\":\"object\",\"name\":\"GlyphRenderer\",\"id\":\"p1263\",\"attributes\":{\"data_source\":{\"type\":\"object\",\"name\":\"ColumnDataSource\",\"id\":\"p1257\",\"attributes\":{\"selected\":{\"type\":\"object\",\"name\":\"Selection\",\"id\":\"p1258\",\"attributes\":{\"indices\":[],\"line_indices\":[]}},\"selection_policy\":{\"type\":\"object\",\"name\":\"UnionRenderers\",\"id\":\"p1259\"},\"data\":{\"type\":\"map\",\"entries\":[[\"x\",[1,2,3,4,5,6,7,8]],[\"y\",[20,3,12,28,15,6,19,11]]]}}},\"view\":{\"type\":\"object\",\"name\":\"CDSView\",\"id\":\"p1264\",\"attributes\":{\"filter\":{\"type\":\"object\",\"name\":\"AllIndices\",\"id\":\"p1265\"}}},\"glyph\":{\"type\":\"object\",\"name\":\"Line\",\"id\":\"p1260\",\"attributes\":{\"x\":{\"type\":\"field\",\"field\":\"x\"},\"y\":{\"type\":\"field\",\"field\":\"y\"},\"line_color\":\"red\",\"line_alpha\":0.5,\"line_width\":5}},\"nonselection_glyph\":{\"type\":\"object\",\"name\":\"Line\",\"id\":\"p1261\",\"attributes\":{\"x\":{\"type\":\"field\",\"field\":\"x\"},\"y\":{\"type\":\"field\",\"field\":\"y\"},\"line_color\":\"red\",\"line_alpha\":0.1,\"line_width\":5}},\"muted_glyph\":{\"type\":\"object\",\"name\":\"Line\",\"id\":\"p1262\",\"attributes\":{\"x\":{\"type\":\"field\",\"field\":\"x\"},\"y\":{\"type\":\"field\",\"field\":\"y\"},\"line_color\":\"red\",\"line_alpha\":0.2,\"line_width\":5}}}}],\"toolbar\":{\"type\":\"object\",\"name\":\"Toolbar\",\"id\":\"p1233\",\"attributes\":{\"tools\":[{\"type\":\"object\",\"name\":\"PanTool\",\"id\":\"p1246\"},{\"type\":\"object\",\"name\":\"WheelZoomTool\",\"id\":\"p1247\",\"attributes\":{\"renderers\":\"auto\"}},{\"type\":\"object\",\"name\":\"BoxZoomTool\",\"id\":\"p1248\",\"attributes\":{\"overlay\":{\"type\":\"object\",\"name\":\"BoxAnnotation\",\"id\":\"p1249\",\"attributes\":{\"syncable\":false,\"level\":\"overlay\",\"visible\":false,\"left\":{\"type\":\"number\",\"value\":\"nan\"},\"right\":{\"type\":\"number\",\"value\":\"nan\"},\"top\":{\"type\":\"number\",\"value\":\"nan\"},\"bottom\":{\"type\":\"number\",\"value\":\"nan\"},\"left_units\":\"canvas\",\"right_units\":\"canvas\",\"top_units\":\"canvas\",\"bottom_units\":\"canvas\",\"line_color\":\"black\",\"line_alpha\":1.0,\"line_width\":2,\"line_dash\":[4,4],\"fill_color\":\"lightgrey\",\"fill_alpha\":0.5}}}},{\"type\":\"object\",\"name\":\"SaveTool\",\"id\":\"p1254\"},{\"type\":\"object\",\"name\":\"ResetTool\",\"id\":\"p1255\"},{\"type\":\"object\",\"name\":\"HelpTool\",\"id\":\"p1256\"}]}},\"left\":[{\"type\":\"object\",\"name\":\"LinearAxis\",\"id\":\"p1241\",\"attributes\":{\"ticker\":{\"type\":\"object\",\"name\":\"BasicTicker\",\"id\":\"p1242\",\"attributes\":{\"mantissas\":[1,2,5]}},\"formatter\":{\"type\":\"object\",\"name\":\"BasicTickFormatter\",\"id\":\"p1243\"},\"major_label_policy\":{\"type\":\"object\",\"name\":\"AllLabels\",\"id\":\"p1244\"}}}],\"below\":[{\"type\":\"object\",\"name\":\"LinearAxis\",\"id\":\"p1236\",\"attributes\":{\"ticker\":{\"type\":\"object\",\"name\":\"BasicTicker\",\"id\":\"p1237\",\"attributes\":{\"mantissas\":[1,2,5]}},\"formatter\":{\"type\":\"object\",\"name\":\"BasicTickFormatter\",\"id\":\"p1238\"},\"major_label_policy\":{\"type\":\"object\",\"name\":\"AllLabels\",\"id\":\"p1239\"}}}],\"center\":[{\"type\":\"object\",\"name\":\"Grid\",\"id\":\"p1240\",\"attributes\":{\"axis\":{\"id\":\"p1236\"}}},{\"type\":\"object\",\"name\":\"Grid\",\"id\":\"p1245\",\"attributes\":{\"dimension\":1,\"axis\":{\"id\":\"p1241\"}}}]}}]}};\n",
       "  const render_items = [{\"docid\":\"4cb5f112-5cab-403d-a47e-94533c2b2369\",\"roots\":{\"p1225\":\"bc1658d7-7ae5-4194-9895-2faf3d624add\"},\"root_ids\":[\"p1225\"]}];\n",
       "  void root.Bokeh.embed.embed_items_notebook(docs_json, render_items);\n",
       "  }\n",
       "  if (root.Bokeh !== undefined) {\n",
       "    embed_document(root);\n",
       "  } else {\n",
       "    let attempts = 0;\n",
       "    const timer = setInterval(function(root) {\n",
       "      if (root.Bokeh !== undefined) {\n",
       "        clearInterval(timer);\n",
       "        embed_document(root);\n",
       "      } else {\n",
       "        attempts++;\n",
       "        if (attempts > 100) {\n",
       "          clearInterval(timer);\n",
       "          console.log(\"Bokeh: ERROR: Unable to run BokehJS code because BokehJS library is missing\");\n",
       "        }\n",
       "      }\n",
       "    }, 10, root)\n",
       "  }\n",
       "})(window);"
      ],
      "application/vnd.bokehjs_exec.v0+json": ""
     },
     "metadata": {
      "application/vnd.bokehjs_exec.v0+json": {
       "id": "p1225"
      }
     },
     "output_type": "display_data"
    }
   ],
   "source": [
    "p = figure(width=400, height=400)\n",
    "\n",
    "p.line([1, 2, 3, 4, 5, 6, 7, 8] ,[20, 3, 12, 28, 15, 6, 19, 11], \n",
    "       color = 'red', line_width=5, line_alpha = 0.5)\n",
    "show(p)"
   ]
  },
  {
   "cell_type": "markdown",
   "id": "b9d0f01f-b28e-44de-8b14-5221b00c6bbc",
   "metadata": {},
   "source": [
    "### Gráfico de puntos"
   ]
  },
  {
   "cell_type": "code",
   "execution_count": 66,
   "id": "6839211d-fe92-47e0-a2cb-91c45924b2f2",
   "metadata": {},
   "outputs": [
    {
     "data": {
      "text/html": [
       "\n",
       "  <div id=\"f31edd68-e553-4fd8-ad68-c99533b1e83a\" data-root-id=\"p1266\" style=\"display: contents;\"></div>\n"
      ]
     },
     "metadata": {},
     "output_type": "display_data"
    },
    {
     "data": {
      "application/javascript": [
       "(function(root) {\n",
       "  function embed_document(root) {\n",
       "  const docs_json = {\"257b98be-75af-445b-a3fe-441b6f7a0bbc\":{\"version\":\"3.4.1\",\"title\":\"Bokeh Application\",\"roots\":[{\"type\":\"object\",\"name\":\"Figure\",\"id\":\"p1266\",\"attributes\":{\"width\":500,\"height\":500,\"x_range\":{\"type\":\"object\",\"name\":\"DataRange1d\",\"id\":\"p1267\"},\"y_range\":{\"type\":\"object\",\"name\":\"DataRange1d\",\"id\":\"p1268\"},\"x_scale\":{\"type\":\"object\",\"name\":\"LinearScale\",\"id\":\"p1275\"},\"y_scale\":{\"type\":\"object\",\"name\":\"LinearScale\",\"id\":\"p1276\"},\"title\":{\"type\":\"object\",\"name\":\"Title\",\"id\":\"p1273\"},\"renderers\":[{\"type\":\"object\",\"name\":\"GlyphRenderer\",\"id\":\"p1304\",\"attributes\":{\"data_source\":{\"type\":\"object\",\"name\":\"ColumnDataSource\",\"id\":\"p1298\",\"attributes\":{\"selected\":{\"type\":\"object\",\"name\":\"Selection\",\"id\":\"p1299\",\"attributes\":{\"indices\":[],\"line_indices\":[]}},\"selection_policy\":{\"type\":\"object\",\"name\":\"UnionRenderers\",\"id\":\"p1300\"},\"data\":{\"type\":\"map\",\"entries\":[[\"x\",[1,2,3,4,5,6,7,8]],[\"y\",[20,3,12,28,15,6,19,11]]]}}},\"view\":{\"type\":\"object\",\"name\":\"CDSView\",\"id\":\"p1305\",\"attributes\":{\"filter\":{\"type\":\"object\",\"name\":\"AllIndices\",\"id\":\"p1306\"}}},\"glyph\":{\"type\":\"object\",\"name\":\"Circle\",\"id\":\"p1301\",\"attributes\":{\"x\":{\"type\":\"field\",\"field\":\"x\"},\"y\":{\"type\":\"field\",\"field\":\"y\"},\"line_color\":{\"type\":\"value\",\"value\":\"red\"},\"line_alpha\":{\"type\":\"value\",\"value\":0.5},\"line_width\":{\"type\":\"value\",\"value\":5},\"fill_color\":{\"type\":\"value\",\"value\":\"red\"},\"hatch_color\":{\"type\":\"value\",\"value\":\"red\"}}},\"nonselection_glyph\":{\"type\":\"object\",\"name\":\"Circle\",\"id\":\"p1302\",\"attributes\":{\"x\":{\"type\":\"field\",\"field\":\"x\"},\"y\":{\"type\":\"field\",\"field\":\"y\"},\"line_color\":{\"type\":\"value\",\"value\":\"red\"},\"line_alpha\":{\"type\":\"value\",\"value\":0.1},\"line_width\":{\"type\":\"value\",\"value\":5},\"fill_color\":{\"type\":\"value\",\"value\":\"red\"},\"fill_alpha\":{\"type\":\"value\",\"value\":0.1},\"hatch_color\":{\"type\":\"value\",\"value\":\"red\"},\"hatch_alpha\":{\"type\":\"value\",\"value\":0.1}}},\"muted_glyph\":{\"type\":\"object\",\"name\":\"Circle\",\"id\":\"p1303\",\"attributes\":{\"x\":{\"type\":\"field\",\"field\":\"x\"},\"y\":{\"type\":\"field\",\"field\":\"y\"},\"line_color\":{\"type\":\"value\",\"value\":\"red\"},\"line_alpha\":{\"type\":\"value\",\"value\":0.2},\"line_width\":{\"type\":\"value\",\"value\":5},\"fill_color\":{\"type\":\"value\",\"value\":\"red\"},\"fill_alpha\":{\"type\":\"value\",\"value\":0.2},\"hatch_color\":{\"type\":\"value\",\"value\":\"red\"},\"hatch_alpha\":{\"type\":\"value\",\"value\":0.2}}}}}],\"toolbar\":{\"type\":\"object\",\"name\":\"Toolbar\",\"id\":\"p1274\",\"attributes\":{\"tools\":[{\"type\":\"object\",\"name\":\"PanTool\",\"id\":\"p1287\"},{\"type\":\"object\",\"name\":\"WheelZoomTool\",\"id\":\"p1288\",\"attributes\":{\"renderers\":\"auto\"}},{\"type\":\"object\",\"name\":\"BoxZoomTool\",\"id\":\"p1289\",\"attributes\":{\"overlay\":{\"type\":\"object\",\"name\":\"BoxAnnotation\",\"id\":\"p1290\",\"attributes\":{\"syncable\":false,\"level\":\"overlay\",\"visible\":false,\"left\":{\"type\":\"number\",\"value\":\"nan\"},\"right\":{\"type\":\"number\",\"value\":\"nan\"},\"top\":{\"type\":\"number\",\"value\":\"nan\"},\"bottom\":{\"type\":\"number\",\"value\":\"nan\"},\"left_units\":\"canvas\",\"right_units\":\"canvas\",\"top_units\":\"canvas\",\"bottom_units\":\"canvas\",\"line_color\":\"black\",\"line_alpha\":1.0,\"line_width\":2,\"line_dash\":[4,4],\"fill_color\":\"lightgrey\",\"fill_alpha\":0.5}}}},{\"type\":\"object\",\"name\":\"SaveTool\",\"id\":\"p1295\"},{\"type\":\"object\",\"name\":\"ResetTool\",\"id\":\"p1296\"},{\"type\":\"object\",\"name\":\"HelpTool\",\"id\":\"p1297\"}]}},\"left\":[{\"type\":\"object\",\"name\":\"LinearAxis\",\"id\":\"p1282\",\"attributes\":{\"ticker\":{\"type\":\"object\",\"name\":\"BasicTicker\",\"id\":\"p1283\",\"attributes\":{\"mantissas\":[1,2,5]}},\"formatter\":{\"type\":\"object\",\"name\":\"BasicTickFormatter\",\"id\":\"p1284\"},\"major_label_policy\":{\"type\":\"object\",\"name\":\"AllLabels\",\"id\":\"p1285\"}}}],\"below\":[{\"type\":\"object\",\"name\":\"LinearAxis\",\"id\":\"p1277\",\"attributes\":{\"ticker\":{\"type\":\"object\",\"name\":\"BasicTicker\",\"id\":\"p1278\",\"attributes\":{\"mantissas\":[1,2,5]}},\"formatter\":{\"type\":\"object\",\"name\":\"BasicTickFormatter\",\"id\":\"p1279\"},\"major_label_policy\":{\"type\":\"object\",\"name\":\"AllLabels\",\"id\":\"p1280\"}}}],\"center\":[{\"type\":\"object\",\"name\":\"Grid\",\"id\":\"p1281\",\"attributes\":{\"axis\":{\"id\":\"p1277\"}}},{\"type\":\"object\",\"name\":\"Grid\",\"id\":\"p1286\",\"attributes\":{\"dimension\":1,\"axis\":{\"id\":\"p1282\"}}}]}}]}};\n",
       "  const render_items = [{\"docid\":\"257b98be-75af-445b-a3fe-441b6f7a0bbc\",\"roots\":{\"p1266\":\"f31edd68-e553-4fd8-ad68-c99533b1e83a\"},\"root_ids\":[\"p1266\"]}];\n",
       "  void root.Bokeh.embed.embed_items_notebook(docs_json, render_items);\n",
       "  }\n",
       "  if (root.Bokeh !== undefined) {\n",
       "    embed_document(root);\n",
       "  } else {\n",
       "    let attempts = 0;\n",
       "    const timer = setInterval(function(root) {\n",
       "      if (root.Bokeh !== undefined) {\n",
       "        clearInterval(timer);\n",
       "        embed_document(root);\n",
       "      } else {\n",
       "        attempts++;\n",
       "        if (attempts > 100) {\n",
       "          clearInterval(timer);\n",
       "          console.log(\"Bokeh: ERROR: Unable to run BokehJS code because BokehJS library is missing\");\n",
       "        }\n",
       "      }\n",
       "    }, 10, root)\n",
       "  }\n",
       "})(window);"
      ],
      "application/vnd.bokehjs_exec.v0+json": ""
     },
     "metadata": {
      "application/vnd.bokehjs_exec.v0+json": {
       "id": "p1266"
      }
     },
     "output_type": "display_data"
    }
   ],
   "source": [
    "p = figure(width=500, height=500)\n",
    "\n",
    "p.circle([1, 2, 3, 4, 5, 6, 7, 8] ,[20, 3, 12, 28, 15, 6, 19, 11], \n",
    "       color = 'red', line_width=5, line_alpha = 0.5)\n",
    "\n",
    "show(p)"
   ]
  },
  {
   "cell_type": "code",
   "execution_count": 68,
   "id": "328f3983-8b7c-4518-98c8-6b79e7fc6503",
   "metadata": {},
   "outputs": [
    {
     "data": {
      "text/html": [
       "\n",
       "  <div id=\"ed30e57a-d6d7-4c3c-96cf-7dc05e55eb75\" data-root-id=\"p1266\" style=\"display: contents;\"></div>\n"
      ]
     },
     "metadata": {},
     "output_type": "display_data"
    },
    {
     "data": {
      "application/javascript": [
       "(function(root) {\n",
       "  function embed_document(root) {\n",
       "  const docs_json = {\"1b1769d3-e12a-4e73-be36-b828162e3679\":{\"version\":\"3.4.1\",\"title\":\"Bokeh Application\",\"roots\":[{\"type\":\"object\",\"name\":\"Figure\",\"id\":\"p1266\",\"attributes\":{\"width\":500,\"height\":500,\"x_range\":{\"type\":\"object\",\"name\":\"DataRange1d\",\"id\":\"p1267\"},\"y_range\":{\"type\":\"object\",\"name\":\"DataRange1d\",\"id\":\"p1268\"},\"x_scale\":{\"type\":\"object\",\"name\":\"LinearScale\",\"id\":\"p1275\"},\"y_scale\":{\"type\":\"object\",\"name\":\"LinearScale\",\"id\":\"p1276\"},\"title\":{\"type\":\"object\",\"name\":\"Title\",\"id\":\"p1273\"},\"renderers\":[{\"type\":\"object\",\"name\":\"GlyphRenderer\",\"id\":\"p1304\",\"attributes\":{\"data_source\":{\"type\":\"object\",\"name\":\"ColumnDataSource\",\"id\":\"p1298\",\"attributes\":{\"selected\":{\"type\":\"object\",\"name\":\"Selection\",\"id\":\"p1299\",\"attributes\":{\"indices\":[],\"line_indices\":[]}},\"selection_policy\":{\"type\":\"object\",\"name\":\"UnionRenderers\",\"id\":\"p1300\"},\"data\":{\"type\":\"map\",\"entries\":[[\"x\",[1,2,3,4,5,6,7,8]],[\"y\",[20,3,12,28,15,6,19,11]]]}}},\"view\":{\"type\":\"object\",\"name\":\"CDSView\",\"id\":\"p1305\",\"attributes\":{\"filter\":{\"type\":\"object\",\"name\":\"AllIndices\",\"id\":\"p1306\"}}},\"glyph\":{\"type\":\"object\",\"name\":\"Circle\",\"id\":\"p1301\",\"attributes\":{\"x\":{\"type\":\"field\",\"field\":\"x\"},\"y\":{\"type\":\"field\",\"field\":\"y\"},\"line_color\":{\"type\":\"value\",\"value\":\"red\"},\"line_alpha\":{\"type\":\"value\",\"value\":0.5},\"line_width\":{\"type\":\"value\",\"value\":5},\"fill_color\":{\"type\":\"value\",\"value\":\"red\"},\"hatch_color\":{\"type\":\"value\",\"value\":\"red\"}}},\"nonselection_glyph\":{\"type\":\"object\",\"name\":\"Circle\",\"id\":\"p1302\",\"attributes\":{\"x\":{\"type\":\"field\",\"field\":\"x\"},\"y\":{\"type\":\"field\",\"field\":\"y\"},\"line_color\":{\"type\":\"value\",\"value\":\"red\"},\"line_alpha\":{\"type\":\"value\",\"value\":0.1},\"line_width\":{\"type\":\"value\",\"value\":5},\"fill_color\":{\"type\":\"value\",\"value\":\"red\"},\"fill_alpha\":{\"type\":\"value\",\"value\":0.1},\"hatch_color\":{\"type\":\"value\",\"value\":\"red\"},\"hatch_alpha\":{\"type\":\"value\",\"value\":0.1}}},\"muted_glyph\":{\"type\":\"object\",\"name\":\"Circle\",\"id\":\"p1303\",\"attributes\":{\"x\":{\"type\":\"field\",\"field\":\"x\"},\"y\":{\"type\":\"field\",\"field\":\"y\"},\"line_color\":{\"type\":\"value\",\"value\":\"red\"},\"line_alpha\":{\"type\":\"value\",\"value\":0.2},\"line_width\":{\"type\":\"value\",\"value\":5},\"fill_color\":{\"type\":\"value\",\"value\":\"red\"},\"fill_alpha\":{\"type\":\"value\",\"value\":0.2},\"hatch_color\":{\"type\":\"value\",\"value\":\"red\"},\"hatch_alpha\":{\"type\":\"value\",\"value\":0.2}}}}},{\"type\":\"object\",\"name\":\"GlyphRenderer\",\"id\":\"p1313\",\"attributes\":{\"data_source\":{\"type\":\"object\",\"name\":\"ColumnDataSource\",\"id\":\"p1307\",\"attributes\":{\"selected\":{\"type\":\"object\",\"name\":\"Selection\",\"id\":\"p1308\",\"attributes\":{\"indices\":[],\"line_indices\":[]}},\"selection_policy\":{\"type\":\"object\",\"name\":\"UnionRenderers\",\"id\":\"p1309\"},\"data\":{\"type\":\"map\",\"entries\":[[\"x\",{\"type\":\"ndarray\",\"array\":{\"type\":\"bytes\",\"data\":\"MMcX1OAVyz+a5B3GWhjePxXJJqsQHeE/m6M7RIYq6T/8iLqbECrBP9LnLaWnNdM/4BHMZYQg5z+SZwHBc27oP1gObtfRnNU/7BqvwkAq6j/MaxxacKbJP5Clf2fADNQ/0Dwd8+XUrD/82qmrhqTqPwCsrl1FsZw/TnCvG4yQ1z84fPz57kTRP/DsaoieELw/1Bdw0mUH7T8a608KH9vvP0DD56Oxk+g/GB0yPtWW3D/mYD97wOLlP+e9qah5C+M/UFAZYwxc0j/Z3An9vmnlPxCubHddee4/mVxOyTW15z+UU+Zq2ebTP2zUWs23H9g/QMvmB5J6pT+xzYXCAn/rP3z2L5tx9M0/nvYRjeKD4z/5fAV8/7DsP7RtHtTmp+o/bGwnHGBA6z8ssa9zY67hP0iWye+6A9I/cP9F6Yhq6T90RSVlZETgPyR60is2Nes/hclUYS/S4z9wmN3I/D/VP9n6/ydwtOw/lBrPIklpyT+9NW5X+yXjP5IKqdRzve0/Zh5V0lLk3T+q0GtCpybmPwT0Y5tsFcM/6BRAaZwO2D+FuU5otV/nPxCFt42r3+4/BGM3iHpj7z84MTPZ3M/AP1KZ+Tvu/u8/BNpf0qCJxT+2ntnAHgLnP/mBC0EXhe0/Gp3aj+6k7z8LF98CVC3hP/+rTCsOXOQ/4j5nTtR+0T/Y+eW/MOzZPwcMjuv3/uc/7VJARIFa6j+coQUYGhbZP1xb8NmT3ts/WhYY9xVb3T/TcmrAANXgPxP2/Egxpeg/5YgDbuhM6T9GVvgse8fdP1katc2kNew/4rvEgwEQ1D8DV0rXITbuP7xwPqjWodc/MKJgA1XJzz/gq7a+m8qqP2CjQ5gNguQ/WJQVGFKI4j9QN2D4ML/RP0hwT4Bo1O8/mKyJbs8d3T9egnPVJ4HZP9/svlPUZ+E/+rkttjhw3T9kwwQSBNbXP9Y4rZIGPdg/zhidVCgQ3j9TXuUkTH/lPwiQIu44deU/U9vUFRTu4z9DTvTK8kTtP+qCvyt/+dE/LmoVqn3U7j/+gAmW2IjWP0BlKX86Y+4/xhSVi0eI2j8=\"},\"shape\":[100],\"dtype\":\"float64\",\"order\":\"little\"}],[\"y\",{\"type\":\"ndarray\",\"array\":{\"type\":\"bytes\",\"data\":\"IR4qW/rspj+quKK8vE3MP1o1MDj4TdI/NahDTarK4z/HMy/i0WmSP3rlzxUiELc/7bpEXd+24D/JvPPeKqfiPy/fKdynMb0/w6beBuFk5T8Sx/07cY+kP/UTZCzrH7k/m9S81hr6aT8mUoq9qC7mP2Jm5GsPukk/us4qV1ZawT9wxnbQpKOyP/buVBAenYg/Bjo7Q2pV6j9iGfaUaLbvP62mxyE04OI/L82LIbyKyT90rivKxu/dP2MaeCtJq9Y/2y52bS0RtT94zto7UKjcPyjs04tbBe0/WVMwen+Q4T/Uyi4UR8G4P4LYRSSzL8I/WyXrTGrVXD8bDirGTKDnPyPdWC9ZCqw/9YVYKXnN1z+LmVUbkrnpP5F+eBBINOY/rc0TsSM15z+usFMLAIrTP9OSJ3plSLQ/U5TQmdgv5D+IOhwi7YnQP3QLwOUjIuc/aJ5wo/mN2D9UQo119zi8P/QOS7W9v+k/nC//rtwtpD9ZZoYZj+rWP/q1VZPDo+s/Zd9FOjPsyz+RefhXqareP5WBBqH+wpY/+bq4SfEVwj9r4xAHsxLhP1r8Vgx9ye0/d1frp/LJ7j+Oz8IgRqqRPwJQGYHc/e8/C8CeAOb9nD98fS5ZDIvgP0BxQq9jO+s/h4/sSuBK7z8AVmPw0nDSP/MrPg816Nk/715vgXAhsz+3GjB72//EP3Bj2Olz/uE/bJ8SCBK05T9dG38JmKrDPzuh4KWlRcg/RhXYFBvuyj/hANgkFbXRP/MJCLIe++I/XlOIAuQA5D8Ej1vHarbLP64XN1U63ug/44NzzBMouT+9xwUG24XsPxSkdg/Xc8E/JIJnaweTrz+AnSbnP25mP6bwnhlDSdo/oTNvK0J31T8EUIyxNK+zPyJKk2IMqe8/74GSvSN+yj/XBN+G11PEP32erfpE79I/2KKSV/AUyz8gXVgwPcHBP0tjFD3+W8I/BAAux1M+zD+rLw6rHOLcP1oEgEIQx9w/FDx8SUbT2D/cfuuejMXqP/RlG8dgMbQ/JD/joe6z7T/LnAQK5ry/P+pcy2BB2+w/uaqUo7j/xT8=\"},\"shape\":[100],\"dtype\":\"float64\",\"order\":\"little\"}]]}}},\"view\":{\"type\":\"object\",\"name\":\"CDSView\",\"id\":\"p1314\",\"attributes\":{\"filter\":{\"type\":\"object\",\"name\":\"AllIndices\",\"id\":\"p1315\"}}},\"glyph\":{\"type\":\"object\",\"name\":\"Circle\",\"id\":\"p1310\",\"attributes\":{\"x\":{\"type\":\"field\",\"field\":\"x\"},\"y\":{\"type\":\"field\",\"field\":\"y\"},\"radius\":{\"type\":\"value\",\"value\":0.01},\"line_color\":{\"type\":\"value\",\"value\":\"red\"},\"line_alpha\":{\"type\":\"value\",\"value\":0.8},\"fill_color\":{\"type\":\"value\",\"value\":\"lightgreen\"}}},\"nonselection_glyph\":{\"type\":\"object\",\"name\":\"Circle\",\"id\":\"p1311\",\"attributes\":{\"x\":{\"type\":\"field\",\"field\":\"x\"},\"y\":{\"type\":\"field\",\"field\":\"y\"},\"radius\":{\"type\":\"value\",\"value\":0.01},\"line_color\":{\"type\":\"value\",\"value\":\"red\"},\"line_alpha\":{\"type\":\"value\",\"value\":0.1},\"fill_color\":{\"type\":\"value\",\"value\":\"lightgreen\"},\"fill_alpha\":{\"type\":\"value\",\"value\":0.1},\"hatch_alpha\":{\"type\":\"value\",\"value\":0.1}}},\"muted_glyph\":{\"type\":\"object\",\"name\":\"Circle\",\"id\":\"p1312\",\"attributes\":{\"x\":{\"type\":\"field\",\"field\":\"x\"},\"y\":{\"type\":\"field\",\"field\":\"y\"},\"radius\":{\"type\":\"value\",\"value\":0.01},\"line_color\":{\"type\":\"value\",\"value\":\"red\"},\"line_alpha\":{\"type\":\"value\",\"value\":0.2},\"fill_color\":{\"type\":\"value\",\"value\":\"lightgreen\"},\"fill_alpha\":{\"type\":\"value\",\"value\":0.2},\"hatch_alpha\":{\"type\":\"value\",\"value\":0.2}}}}}],\"toolbar\":{\"type\":\"object\",\"name\":\"Toolbar\",\"id\":\"p1274\",\"attributes\":{\"tools\":[{\"type\":\"object\",\"name\":\"PanTool\",\"id\":\"p1287\"},{\"type\":\"object\",\"name\":\"WheelZoomTool\",\"id\":\"p1288\",\"attributes\":{\"renderers\":\"auto\"}},{\"type\":\"object\",\"name\":\"BoxZoomTool\",\"id\":\"p1289\",\"attributes\":{\"overlay\":{\"type\":\"object\",\"name\":\"BoxAnnotation\",\"id\":\"p1290\",\"attributes\":{\"syncable\":false,\"level\":\"overlay\",\"visible\":false,\"left\":{\"type\":\"number\",\"value\":\"nan\"},\"right\":{\"type\":\"number\",\"value\":\"nan\"},\"top\":{\"type\":\"number\",\"value\":\"nan\"},\"bottom\":{\"type\":\"number\",\"value\":\"nan\"},\"left_units\":\"canvas\",\"right_units\":\"canvas\",\"top_units\":\"canvas\",\"bottom_units\":\"canvas\",\"line_color\":\"black\",\"line_alpha\":1.0,\"line_width\":2,\"line_dash\":[4,4],\"fill_color\":\"lightgrey\",\"fill_alpha\":0.5}}}},{\"type\":\"object\",\"name\":\"SaveTool\",\"id\":\"p1295\"},{\"type\":\"object\",\"name\":\"ResetTool\",\"id\":\"p1296\"},{\"type\":\"object\",\"name\":\"HelpTool\",\"id\":\"p1297\"}]}},\"left\":[{\"type\":\"object\",\"name\":\"LinearAxis\",\"id\":\"p1282\",\"attributes\":{\"ticker\":{\"type\":\"object\",\"name\":\"BasicTicker\",\"id\":\"p1283\",\"attributes\":{\"mantissas\":[1,2,5]}},\"formatter\":{\"type\":\"object\",\"name\":\"BasicTickFormatter\",\"id\":\"p1284\"},\"major_label_policy\":{\"type\":\"object\",\"name\":\"AllLabels\",\"id\":\"p1285\"}}}],\"below\":[{\"type\":\"object\",\"name\":\"LinearAxis\",\"id\":\"p1277\",\"attributes\":{\"ticker\":{\"type\":\"object\",\"name\":\"BasicTicker\",\"id\":\"p1278\",\"attributes\":{\"mantissas\":[1,2,5]}},\"formatter\":{\"type\":\"object\",\"name\":\"BasicTickFormatter\",\"id\":\"p1279\"},\"major_label_policy\":{\"type\":\"object\",\"name\":\"AllLabels\",\"id\":\"p1280\"}}}],\"center\":[{\"type\":\"object\",\"name\":\"Grid\",\"id\":\"p1281\",\"attributes\":{\"axis\":{\"id\":\"p1277\"}}},{\"type\":\"object\",\"name\":\"Grid\",\"id\":\"p1286\",\"attributes\":{\"dimension\":1,\"axis\":{\"id\":\"p1282\"}}}]}}]}};\n",
       "  const render_items = [{\"docid\":\"1b1769d3-e12a-4e73-be36-b828162e3679\",\"roots\":{\"p1266\":\"ed30e57a-d6d7-4c3c-96cf-7dc05e55eb75\"},\"root_ids\":[\"p1266\"]}];\n",
       "  void root.Bokeh.embed.embed_items_notebook(docs_json, render_items);\n",
       "  }\n",
       "  if (root.Bokeh !== undefined) {\n",
       "    embed_document(root);\n",
       "  } else {\n",
       "    let attempts = 0;\n",
       "    const timer = setInterval(function(root) {\n",
       "      if (root.Bokeh !== undefined) {\n",
       "        clearInterval(timer);\n",
       "        embed_document(root);\n",
       "      } else {\n",
       "        attempts++;\n",
       "        if (attempts > 100) {\n",
       "          clearInterval(timer);\n",
       "          console.log(\"Bokeh: ERROR: Unable to run BokehJS code because BokehJS library is missing\");\n",
       "        }\n",
       "      }\n",
       "    }, 10, root)\n",
       "  }\n",
       "})(window);"
      ],
      "application/vnd.bokehjs_exec.v0+json": ""
     },
     "metadata": {
      "application/vnd.bokehjs_exec.v0+json": {
       "id": "p1266"
      }
     },
     "output_type": "display_data"
    }
   ],
   "source": [
    "import numpy as np\n",
    "\n",
    "normal = np.random.rand(100)\n",
    "square = normal**2\n",
    "\n",
    "p.circle(normal ,square, \n",
    "         fill_color  = 'lightgreen',\n",
    "         line_alpha = 0.8,\n",
    "         line_color = 'red',\n",
    "         radius = 0.01)\n",
    "show(p)"
   ]
  },
  {
   "cell_type": "code",
   "execution_count": 72,
   "id": "5bcc2069-185d-4e42-a05e-c6a1f9aec044",
   "metadata": {},
   "outputs": [
    {
     "name": "stderr",
     "output_type": "stream",
     "text": [
      "BokehDeprecationWarning: 'square() method' was deprecated in Bokeh 3.4.0 and will be removed, use \"scatter(marker='square', ...) instead\" instead.\n"
     ]
    },
    {
     "data": {
      "text/html": [
       "\n",
       "  <div id=\"d2520565-c319-42b4-87be-de660df8daf8\" data-root-id=\"p1266\" style=\"display: contents;\"></div>\n"
      ]
     },
     "metadata": {},
     "output_type": "display_data"
    },
    {
     "data": {
      "application/javascript": [
       "(function(root) {\n",
       "  function embed_document(root) {\n",
       "  const docs_json = {\"c1ec477b-5f0e-4139-93bc-9d072f796ddf\":{\"version\":\"3.4.1\",\"title\":\"Bokeh Application\",\"roots\":[{\"type\":\"object\",\"name\":\"Figure\",\"id\":\"p1266\",\"attributes\":{\"width\":500,\"height\":500,\"x_range\":{\"type\":\"object\",\"name\":\"DataRange1d\",\"id\":\"p1267\"},\"y_range\":{\"type\":\"object\",\"name\":\"DataRange1d\",\"id\":\"p1268\"},\"x_scale\":{\"type\":\"object\",\"name\":\"LinearScale\",\"id\":\"p1275\"},\"y_scale\":{\"type\":\"object\",\"name\":\"LinearScale\",\"id\":\"p1276\"},\"title\":{\"type\":\"object\",\"name\":\"Title\",\"id\":\"p1273\"},\"renderers\":[{\"type\":\"object\",\"name\":\"GlyphRenderer\",\"id\":\"p1304\",\"attributes\":{\"data_source\":{\"type\":\"object\",\"name\":\"ColumnDataSource\",\"id\":\"p1298\",\"attributes\":{\"selected\":{\"type\":\"object\",\"name\":\"Selection\",\"id\":\"p1299\",\"attributes\":{\"indices\":[],\"line_indices\":[]}},\"selection_policy\":{\"type\":\"object\",\"name\":\"UnionRenderers\",\"id\":\"p1300\"},\"data\":{\"type\":\"map\",\"entries\":[[\"x\",[1,2,3,4,5,6,7,8]],[\"y\",[20,3,12,28,15,6,19,11]]]}}},\"view\":{\"type\":\"object\",\"name\":\"CDSView\",\"id\":\"p1305\",\"attributes\":{\"filter\":{\"type\":\"object\",\"name\":\"AllIndices\",\"id\":\"p1306\"}}},\"glyph\":{\"type\":\"object\",\"name\":\"Circle\",\"id\":\"p1301\",\"attributes\":{\"x\":{\"type\":\"field\",\"field\":\"x\"},\"y\":{\"type\":\"field\",\"field\":\"y\"},\"line_color\":{\"type\":\"value\",\"value\":\"red\"},\"line_alpha\":{\"type\":\"value\",\"value\":0.5},\"line_width\":{\"type\":\"value\",\"value\":5},\"fill_color\":{\"type\":\"value\",\"value\":\"red\"},\"hatch_color\":{\"type\":\"value\",\"value\":\"red\"}}},\"nonselection_glyph\":{\"type\":\"object\",\"name\":\"Circle\",\"id\":\"p1302\",\"attributes\":{\"x\":{\"type\":\"field\",\"field\":\"x\"},\"y\":{\"type\":\"field\",\"field\":\"y\"},\"line_color\":{\"type\":\"value\",\"value\":\"red\"},\"line_alpha\":{\"type\":\"value\",\"value\":0.1},\"line_width\":{\"type\":\"value\",\"value\":5},\"fill_color\":{\"type\":\"value\",\"value\":\"red\"},\"fill_alpha\":{\"type\":\"value\",\"value\":0.1},\"hatch_color\":{\"type\":\"value\",\"value\":\"red\"},\"hatch_alpha\":{\"type\":\"value\",\"value\":0.1}}},\"muted_glyph\":{\"type\":\"object\",\"name\":\"Circle\",\"id\":\"p1303\",\"attributes\":{\"x\":{\"type\":\"field\",\"field\":\"x\"},\"y\":{\"type\":\"field\",\"field\":\"y\"},\"line_color\":{\"type\":\"value\",\"value\":\"red\"},\"line_alpha\":{\"type\":\"value\",\"value\":0.2},\"line_width\":{\"type\":\"value\",\"value\":5},\"fill_color\":{\"type\":\"value\",\"value\":\"red\"},\"fill_alpha\":{\"type\":\"value\",\"value\":0.2},\"hatch_color\":{\"type\":\"value\",\"value\":\"red\"},\"hatch_alpha\":{\"type\":\"value\",\"value\":0.2}}}}},{\"type\":\"object\",\"name\":\"GlyphRenderer\",\"id\":\"p1313\",\"attributes\":{\"data_source\":{\"type\":\"object\",\"name\":\"ColumnDataSource\",\"id\":\"p1307\",\"attributes\":{\"selected\":{\"type\":\"object\",\"name\":\"Selection\",\"id\":\"p1308\",\"attributes\":{\"indices\":[],\"line_indices\":[]}},\"selection_policy\":{\"type\":\"object\",\"name\":\"UnionRenderers\",\"id\":\"p1309\"},\"data\":{\"type\":\"map\",\"entries\":[[\"x\",{\"type\":\"ndarray\",\"array\":{\"type\":\"bytes\",\"data\":\"MMcX1OAVyz+a5B3GWhjePxXJJqsQHeE/m6M7RIYq6T/8iLqbECrBP9LnLaWnNdM/4BHMZYQg5z+SZwHBc27oP1gObtfRnNU/7BqvwkAq6j/MaxxacKbJP5Clf2fADNQ/0Dwd8+XUrD/82qmrhqTqPwCsrl1FsZw/TnCvG4yQ1z84fPz57kTRP/DsaoieELw/1Bdw0mUH7T8a608KH9vvP0DD56Oxk+g/GB0yPtWW3D/mYD97wOLlP+e9qah5C+M/UFAZYwxc0j/Z3An9vmnlPxCubHddee4/mVxOyTW15z+UU+Zq2ebTP2zUWs23H9g/QMvmB5J6pT+xzYXCAn/rP3z2L5tx9M0/nvYRjeKD4z/5fAV8/7DsP7RtHtTmp+o/bGwnHGBA6z8ssa9zY67hP0iWye+6A9I/cP9F6Yhq6T90RSVlZETgPyR60is2Nes/hclUYS/S4z9wmN3I/D/VP9n6/ydwtOw/lBrPIklpyT+9NW5X+yXjP5IKqdRzve0/Zh5V0lLk3T+q0GtCpybmPwT0Y5tsFcM/6BRAaZwO2D+FuU5otV/nPxCFt42r3+4/BGM3iHpj7z84MTPZ3M/AP1KZ+Tvu/u8/BNpf0qCJxT+2ntnAHgLnP/mBC0EXhe0/Gp3aj+6k7z8LF98CVC3hP/+rTCsOXOQ/4j5nTtR+0T/Y+eW/MOzZPwcMjuv3/uc/7VJARIFa6j+coQUYGhbZP1xb8NmT3ts/WhYY9xVb3T/TcmrAANXgPxP2/Egxpeg/5YgDbuhM6T9GVvgse8fdP1katc2kNew/4rvEgwEQ1D8DV0rXITbuP7xwPqjWodc/MKJgA1XJzz/gq7a+m8qqP2CjQ5gNguQ/WJQVGFKI4j9QN2D4ML/RP0hwT4Bo1O8/mKyJbs8d3T9egnPVJ4HZP9/svlPUZ+E/+rkttjhw3T9kwwQSBNbXP9Y4rZIGPdg/zhidVCgQ3j9TXuUkTH/lPwiQIu44deU/U9vUFRTu4z9DTvTK8kTtP+qCvyt/+dE/LmoVqn3U7j/+gAmW2IjWP0BlKX86Y+4/xhSVi0eI2j8=\"},\"shape\":[100],\"dtype\":\"float64\",\"order\":\"little\"}],[\"y\",{\"type\":\"ndarray\",\"array\":{\"type\":\"bytes\",\"data\":\"IR4qW/rspj+quKK8vE3MP1o1MDj4TdI/NahDTarK4z/HMy/i0WmSP3rlzxUiELc/7bpEXd+24D/JvPPeKqfiPy/fKdynMb0/w6beBuFk5T8Sx/07cY+kP/UTZCzrH7k/m9S81hr6aT8mUoq9qC7mP2Jm5GsPukk/us4qV1ZawT9wxnbQpKOyP/buVBAenYg/Bjo7Q2pV6j9iGfaUaLbvP62mxyE04OI/L82LIbyKyT90rivKxu/dP2MaeCtJq9Y/2y52bS0RtT94zto7UKjcPyjs04tbBe0/WVMwen+Q4T/Uyi4UR8G4P4LYRSSzL8I/WyXrTGrVXD8bDirGTKDnPyPdWC9ZCqw/9YVYKXnN1z+LmVUbkrnpP5F+eBBINOY/rc0TsSM15z+usFMLAIrTP9OSJ3plSLQ/U5TQmdgv5D+IOhwi7YnQP3QLwOUjIuc/aJ5wo/mN2D9UQo119zi8P/QOS7W9v+k/nC//rtwtpD9ZZoYZj+rWP/q1VZPDo+s/Zd9FOjPsyz+RefhXqareP5WBBqH+wpY/+bq4SfEVwj9r4xAHsxLhP1r8Vgx9ye0/d1frp/LJ7j+Oz8IgRqqRPwJQGYHc/e8/C8CeAOb9nD98fS5ZDIvgP0BxQq9jO+s/h4/sSuBK7z8AVmPw0nDSP/MrPg816Nk/715vgXAhsz+3GjB72//EP3Bj2Olz/uE/bJ8SCBK05T9dG38JmKrDPzuh4KWlRcg/RhXYFBvuyj/hANgkFbXRP/MJCLIe++I/XlOIAuQA5D8Ej1vHarbLP64XN1U63ug/44NzzBMouT+9xwUG24XsPxSkdg/Xc8E/JIJnaweTrz+AnSbnP25mP6bwnhlDSdo/oTNvK0J31T8EUIyxNK+zPyJKk2IMqe8/74GSvSN+yj/XBN+G11PEP32erfpE79I/2KKSV/AUyz8gXVgwPcHBP0tjFD3+W8I/BAAux1M+zD+rLw6rHOLcP1oEgEIQx9w/FDx8SUbT2D/cfuuejMXqP/RlG8dgMbQ/JD/joe6z7T/LnAQK5ry/P+pcy2BB2+w/uaqUo7j/xT8=\"},\"shape\":[100],\"dtype\":\"float64\",\"order\":\"little\"}]]}}},\"view\":{\"type\":\"object\",\"name\":\"CDSView\",\"id\":\"p1314\",\"attributes\":{\"filter\":{\"type\":\"object\",\"name\":\"AllIndices\",\"id\":\"p1315\"}}},\"glyph\":{\"type\":\"object\",\"name\":\"Circle\",\"id\":\"p1310\",\"attributes\":{\"x\":{\"type\":\"field\",\"field\":\"x\"},\"y\":{\"type\":\"field\",\"field\":\"y\"},\"radius\":{\"type\":\"value\",\"value\":0.01},\"line_color\":{\"type\":\"value\",\"value\":\"red\"},\"line_alpha\":{\"type\":\"value\",\"value\":0.8},\"fill_color\":{\"type\":\"value\",\"value\":\"lightgreen\"}}},\"nonselection_glyph\":{\"type\":\"object\",\"name\":\"Circle\",\"id\":\"p1311\",\"attributes\":{\"x\":{\"type\":\"field\",\"field\":\"x\"},\"y\":{\"type\":\"field\",\"field\":\"y\"},\"radius\":{\"type\":\"value\",\"value\":0.01},\"line_color\":{\"type\":\"value\",\"value\":\"red\"},\"line_alpha\":{\"type\":\"value\",\"value\":0.1},\"fill_color\":{\"type\":\"value\",\"value\":\"lightgreen\"},\"fill_alpha\":{\"type\":\"value\",\"value\":0.1},\"hatch_alpha\":{\"type\":\"value\",\"value\":0.1}}},\"muted_glyph\":{\"type\":\"object\",\"name\":\"Circle\",\"id\":\"p1312\",\"attributes\":{\"x\":{\"type\":\"field\",\"field\":\"x\"},\"y\":{\"type\":\"field\",\"field\":\"y\"},\"radius\":{\"type\":\"value\",\"value\":0.01},\"line_color\":{\"type\":\"value\",\"value\":\"red\"},\"line_alpha\":{\"type\":\"value\",\"value\":0.2},\"fill_color\":{\"type\":\"value\",\"value\":\"lightgreen\"},\"fill_alpha\":{\"type\":\"value\",\"value\":0.2},\"hatch_alpha\":{\"type\":\"value\",\"value\":0.2}}}}},{\"type\":\"object\",\"name\":\"GlyphRenderer\",\"id\":\"p1327\",\"attributes\":{\"data_source\":{\"type\":\"object\",\"name\":\"ColumnDataSource\",\"id\":\"p1321\",\"attributes\":{\"selected\":{\"type\":\"object\",\"name\":\"Selection\",\"id\":\"p1322\",\"attributes\":{\"indices\":[],\"line_indices\":[]}},\"selection_policy\":{\"type\":\"object\",\"name\":\"UnionRenderers\",\"id\":\"p1323\"},\"data\":{\"type\":\"map\",\"entries\":[[\"x\",{\"type\":\"ndarray\",\"array\":{\"type\":\"bytes\",\"data\":\"8Jq+wBFCoT+dg9Vf/p/vPzAXIsP/bto/v2f4JE6i7z+I6qeGEn7IPxlhwuQGWOM/rnccXzyJ4D9ToT+Hs8LjP+gUL0TIBts/je0dOCN46D+grzISpT3mPwBB44/UFJo/3jPzJupi7j92Wo6heLHoP9Axloe0jrw/UJvdXaGPxj9gTabfa/+yP/h73JikEu0/PESE19NYwz+A2M0ipVl5P9H6732NieY/0LdncN80wD/j6gZGxMvgP8wpnfeWMuk/EjRfy11b6z/D3lNnd+DgP7TCXEmygc8/g0+nMfuT7j8aTCyG9tPiP4zMkcOBbe4/XNuY1lBi0D++eVLha1TSPwAAvV1Phyo/Wq1aFR032T9XXxjvkmLoP4c5oVts+uk/jskKHQC52T+cPhXXrnjsP6QEyUf5qMk/YZYGfzbv7T/L7z76s3DmP+ppK2qKBuM/yKoPShoX2D9esHMqtyPZPzj3x0rRauA/EMOUVjN0tT/+g3iY1pvtP+FOqDlLaOY/rfT89/pm4T/wL8CfDk7gP9xnMs8kttk/zOEFTqa02T9AMoVBa6/MP2gtdyCTUbA/NoQs08Ao2j+I/syv76PNP3x2eClB/sQ/1Em7ikTixT/AVu0FH+uqP121bdpdpek/HCcC8N+w5z/g5i6z4FDJP4a4RLoljdE/cAUprYKlpz+4yQahYDnvPxIKg6RH2+U/+S+ARoyC4D8S5+oaNGvsPwvpGLRKbuM/xet+ryup6j8wGwM4J1GwP/CV4tG1wLY/Lpp6PM5W5D9Gfm+BLXjZP5Xn3TO/Ses/SDKlbB8gyz8g4wNP8ozDPzkUgnPkbu8/kLNidduTrD+syDyiKAbaP1RndOvIfeg/2lAajcZ11z+cGc7LTODpP1rgm/q4qus/1koDwPyG3D/92FrbTJHhP7gUKkkwlN4/UoRnFAvJ5z9QdZH1uDvuPzTnPOh1yMQ/jglrwsQb1z8w1kNzVSuuPzwU9JyvFOw/gCOXlgyQ4T9VYu4GhyXgP1Zrt6CYi+A/jWZ1sbBB4T8soAnY8mnKPwT9IuUck+U/NvKooY8m4z8=\"},\"shape\":[100],\"dtype\":\"float64\",\"order\":\"little\"}],[\"y\",{\"type\":\"ndarray\",\"array\":{\"type\":\"bytes\",\"data\":\"Y+AejHadUj9JG2zJHEHvP6MicaPg1cU/gnCWn65F7z/WA+t7DL+iPyD5JKv0Ytc/aIL52BEX0T/UTKWqq2fYP81ZDmNz08Y/7Yd43Pe14j/dLF1zc+reP7saCfnmQUU/suznyaja7D9VfZcyDQ7jP76jdFM4fIk/h7fqHAXQnz+BToY4oI52P2s6ijHVaeo/laARReRklz9dakcoDRUEP+veQ6bjvt8/LGJamW1qkD8qeuaZq6HRP0+Vc91b1+M/fEC4JTNj5z9+/W/hO83RP++FdBdXBa8/frmlUCM47T/J3cyy4ifWPzvmwwzK7uw/bvQOzf3GsD/+1Y4qsP+0P5jivh4d/mU+U4VxXXzewz8DsT8NDJXiP4yMsg3xFuU/w6ewtj2txD+TlW0b+VTpP7q7McGBk6Q/pTGi/I4A7D8VA8XPCHnfP0kmpGiLn9Y/to/3HLgiwj9oDhoP9r/DPwF7YLVr2NA/36ZSrFLEfD/dmN7ga2XrP0YS3rF2Yd8/xPUzHmzt0j9/TyMOmp3QPxT3nUamqMQ/Nj03rD+mxD93Ny1RvbapP0v23yfGpHA/qjHCPW1ixT+D03VHanSrP0Y6mz1ri5s/nWygvXPunT9fzmb50aRmPzA6Oza5jeQ/DVByjhOK4T+8A6OBKwekP0f5HVXNQLM/b1Ga5kN5YT9WmF4ZknfuP0lIUEpZ290/99VHuUEJ0T/b7uNTAj3pP9BJRLDpmNc/Io/XUmU25j+nd30N6qNwP+VAd4qCLYA/pv2eitra2T+Wr8lvikXEP7mOWZwcRec/L+tORlX+pj8ul2UameOXPxgVxeha4O4/c0WUO2uFaT+xNRM3AyrFP1mey8+bvuI/PJmN4/4ywT+Pmk8ynOzkP3MMe/im6+c/PTOavHNuyT9VC5rU6knTPz6IHMiIOM0/uPiIAO+t4T+8U6dCapDsPzwWq0v2/po/mcQ78AKwwD/hJanmenFsPzIU87FApOg/W7OhoitH0z8rWNASZkvQP4A9BzPzG9E/lJtaLKWc0j+3TOxnic2lP+Bponx0F90/zIE6D/Lr1j8=\"},\"shape\":[100],\"dtype\":\"float64\",\"order\":\"little\"}]]}}},\"view\":{\"type\":\"object\",\"name\":\"CDSView\",\"id\":\"p1328\",\"attributes\":{\"filter\":{\"type\":\"object\",\"name\":\"AllIndices\",\"id\":\"p1329\"}}},\"glyph\":{\"type\":\"object\",\"name\":\"Circle\",\"id\":\"p1324\",\"attributes\":{\"x\":{\"type\":\"field\",\"field\":\"x\"},\"y\":{\"type\":\"field\",\"field\":\"y\"},\"radius\":{\"type\":\"value\",\"value\":0.01},\"line_color\":{\"type\":\"value\",\"value\":\"red\"},\"line_alpha\":{\"type\":\"value\",\"value\":0.8},\"fill_color\":{\"type\":\"value\",\"value\":\"lightgreen\"}}},\"nonselection_glyph\":{\"type\":\"object\",\"name\":\"Circle\",\"id\":\"p1325\",\"attributes\":{\"x\":{\"type\":\"field\",\"field\":\"x\"},\"y\":{\"type\":\"field\",\"field\":\"y\"},\"radius\":{\"type\":\"value\",\"value\":0.01},\"line_color\":{\"type\":\"value\",\"value\":\"red\"},\"line_alpha\":{\"type\":\"value\",\"value\":0.1},\"fill_color\":{\"type\":\"value\",\"value\":\"lightgreen\"},\"fill_alpha\":{\"type\":\"value\",\"value\":0.1},\"hatch_alpha\":{\"type\":\"value\",\"value\":0.1}}},\"muted_glyph\":{\"type\":\"object\",\"name\":\"Circle\",\"id\":\"p1326\",\"attributes\":{\"x\":{\"type\":\"field\",\"field\":\"x\"},\"y\":{\"type\":\"field\",\"field\":\"y\"},\"radius\":{\"type\":\"value\",\"value\":0.01},\"line_color\":{\"type\":\"value\",\"value\":\"red\"},\"line_alpha\":{\"type\":\"value\",\"value\":0.2},\"fill_color\":{\"type\":\"value\",\"value\":\"lightgreen\"},\"fill_alpha\":{\"type\":\"value\",\"value\":0.2},\"hatch_alpha\":{\"type\":\"value\",\"value\":0.2}}}}},{\"type\":\"object\",\"name\":\"GlyphRenderer\",\"id\":\"p1336\",\"attributes\":{\"data_source\":{\"type\":\"object\",\"name\":\"ColumnDataSource\",\"id\":\"p1330\",\"attributes\":{\"selected\":{\"type\":\"object\",\"name\":\"Selection\",\"id\":\"p1331\",\"attributes\":{\"indices\":[],\"line_indices\":[]}},\"selection_policy\":{\"type\":\"object\",\"name\":\"UnionRenderers\",\"id\":\"p1332\"},\"data\":{\"type\":\"map\",\"entries\":[[\"x\",{\"type\":\"ndarray\",\"array\":{\"type\":\"bytes\",\"data\":\"XBNwJSwUBD/K4ZfcV+PuP25rej6ECbI/dnGcTB7q7j9SMePwSLJ8P6gvY+AsRsw/qqrl3aepwT9OqzWyFiTOPz3Eats/R7M/SGlYvXGd3D9AHNzFvXzVPxq04g5iU/E+QvxEBC9m6z+I0KznbmjdP+HlsElYvlY/dC6lhs1tdj++vDlujcg6Py9zYplM/+c//D0gt69JbD88bObsaNGPPjdM+R6yW9Y/MLo3vKygYD/YIbgUN4LCP85dJb87P98/BUE2znn+4z8G/CcB+sbCP7r8obrmio4/bJOBW8Dr6z/nRcVlYhLKP8eYpB/ggus/WLyRYxUukT/BFmIicg6YP8wamT92O6I95p1IOxNQrz/YWm2jDVLcP8iNv/f2HuE/pyhG1uGesD/6/XQG44nmP3ZQFxLkf4A/3x37cNUx6j8QadewDhLWP6rvuha15so/KYB64ENOqz+Qv855BgivP5eFrNjhSME/SwWAE0xJQz9PTh2/VFnpP6KXAyFI+dU/NYptVBWWxD/vx/SMqe7APxCZW9xYmbA/zDJ3NXSWsD+vvwoy2wyHP4Hnq16h+TA/pS1ppjR7sT9SE23yJm6JP+QrnsD9EXI/3/hVIiB4dD8pL4D0SgwjP3QhjL3veOA/Vk9tb2D42T8q6MIYcbB/P0bK7KGyHpU/+Zgb3hLTGT+4LdeEdrrtP7nOBZyKZNQ/g09ZS0KUwT+8kY4h72nmP2++wvQ+qMw//WFW7Z+B4j/oMS2oUPgwP0ri7XNtAUc/6C60Y+tu0D/8aULCdSKwPz6Fatfw1+M/zZQM3ax9gz9u3WQTtzBtPw2W+rdXVO4/gtVvv6nKJj/X1ypdNTaxPy9pbDtGsdw/rXe7veg3qT9CGOWDhOvgP5GCBQ9zruQ/CnQVqOyrtj+KFZcJtC3FPwPV1MtR7Ls/RLtb2SxI2j/sRv77svzqP5k6xOp2iHE//xQ1dfoZqD8nGUep59AqPydmQn+mn+U/X4tVEC4pxT+uJBjynXHAP56TNDk5scE/R9GqZ9kSxD8JDt6EL/+BPyy1vHUindM/VklVlW1vyz8=\"},\"shape\":[100],\"dtype\":\"float64\",\"order\":\"little\"}],[\"y\",{\"type\":\"ndarray\",\"array\":{\"type\":\"bytes\",\"data\":\"Za4xZViotT59oU1DrIbuPwqGWqaYzJ0/YZ38EZqP7j8+EelQxfZVPxse7LdxF8E/Bet1MCdBsj+yZqtc0ZzCP+QZfuMzSKA/wAvrNoPh1T+dbWYyTt7NPw+XZb8NPpw+LiOPgH0E6j+bNUuva7HWP8AsUDf6SyQ/CoB/KlKgTz8ZE6H9L83/PtoVInVYzeU/0V1VPEYaQT85F0eXvDQZPiFozcdLfs8/GXHTIZ/XMD9bcbM77m2zP+R34eTMmtg/KgEEC80X4T9u617OZ86zP4MflqFZEm4/c53tfSKu6j+LC2fZEq6+PxZ20HjXKOo/Owprc6aXcT+YSEVxLo97Pxg/ek3QOt48WlXVHH2smD9zJE+Ox5TVP6IICqlZzNs/vFg2EG64mj/4az7epg3kP4qLVkcUdlo/ysCaPPqA6D8IZTPdSvTOP5HUQUf2/L8/77nul2mOlD+/gE5152CYP+40t8lGvLE/Si8lI0XcCT8Xzd59Z3TnP1nZ7NH+xc4/QETOWfZjtj8qZGeBREGxP3zZFVuRrJo/rva8mF6mmj+0ELJcm6lkPxp3hzctUPE+oyc8P7yUnD835X3cGo5nP1WLBGWktUc/gRb6oiL/Sz/tgouk8QXgPizcT2A2Z9o/QwUkIBE60z/hRJ/67xFZP7g2Gx/uKnc/ZPMnXkcV0z7CFMm48AHtP+7T02Vx28s/SBG3BLEjsj+NJfTzx+fjP4ZFF6CqZsE/MqBBkk/W3j9Uli1ZY07xPldvYoeGWxA/oqUNQM7jxD/kLSpWCK+ZP/qTPGTu6+A/VOZLq5qFYD8lD/XcftVBP6aSLm7Pyu0/5EPe0aNa5D4wN3TBtv6bP8yc/k299dU/EqB3LAB9kj9kBIiDMV3bP7Kq+WSH4eE/HCwEFBI2pD80bjg140C3P6PEuMvbrqo/hsKAr/6I0z+ajl2yRX/pPzvsTqg/xkY/PDYdIZZnkT8uEn2BKUjpPoNljyKs+eI/qmX6NUQ6tz+GQRx1L5iwP785rJ+VS7I/LuhVP3GmtT/fVm8G2bVdP9ySAVOUcso/JyRXhzhrwD8=\"},\"shape\":[100],\"dtype\":\"float64\",\"order\":\"little\"}]]}}},\"view\":{\"type\":\"object\",\"name\":\"CDSView\",\"id\":\"p1337\",\"attributes\":{\"filter\":{\"type\":\"object\",\"name\":\"AllIndices\",\"id\":\"p1338\"}}},\"glyph\":{\"type\":\"object\",\"name\":\"Scatter\",\"id\":\"p1333\",\"attributes\":{\"x\":{\"type\":\"field\",\"field\":\"x\"},\"y\":{\"type\":\"field\",\"field\":\"y\"},\"size\":{\"type\":\"value\",\"value\":8},\"line_color\":{\"type\":\"value\",\"value\":\"brown\"},\"fill_color\":{\"type\":\"value\",\"value\":\"lightblue\"},\"marker\":{\"type\":\"value\",\"value\":\"square\"}}},\"nonselection_glyph\":{\"type\":\"object\",\"name\":\"Scatter\",\"id\":\"p1334\",\"attributes\":{\"x\":{\"type\":\"field\",\"field\":\"x\"},\"y\":{\"type\":\"field\",\"field\":\"y\"},\"size\":{\"type\":\"value\",\"value\":8},\"line_color\":{\"type\":\"value\",\"value\":\"brown\"},\"line_alpha\":{\"type\":\"value\",\"value\":0.1},\"fill_color\":{\"type\":\"value\",\"value\":\"lightblue\"},\"fill_alpha\":{\"type\":\"value\",\"value\":0.1},\"hatch_alpha\":{\"type\":\"value\",\"value\":0.1},\"marker\":{\"type\":\"value\",\"value\":\"square\"}}},\"muted_glyph\":{\"type\":\"object\",\"name\":\"Scatter\",\"id\":\"p1335\",\"attributes\":{\"x\":{\"type\":\"field\",\"field\":\"x\"},\"y\":{\"type\":\"field\",\"field\":\"y\"},\"size\":{\"type\":\"value\",\"value\":8},\"line_color\":{\"type\":\"value\",\"value\":\"brown\"},\"line_alpha\":{\"type\":\"value\",\"value\":0.2},\"fill_color\":{\"type\":\"value\",\"value\":\"lightblue\"},\"fill_alpha\":{\"type\":\"value\",\"value\":0.2},\"hatch_alpha\":{\"type\":\"value\",\"value\":0.2},\"marker\":{\"type\":\"value\",\"value\":\"square\"}}}}}],\"toolbar\":{\"type\":\"object\",\"name\":\"Toolbar\",\"id\":\"p1274\",\"attributes\":{\"tools\":[{\"type\":\"object\",\"name\":\"PanTool\",\"id\":\"p1287\"},{\"type\":\"object\",\"name\":\"WheelZoomTool\",\"id\":\"p1288\",\"attributes\":{\"renderers\":\"auto\"}},{\"type\":\"object\",\"name\":\"BoxZoomTool\",\"id\":\"p1289\",\"attributes\":{\"overlay\":{\"type\":\"object\",\"name\":\"BoxAnnotation\",\"id\":\"p1290\",\"attributes\":{\"syncable\":false,\"level\":\"overlay\",\"visible\":false,\"left\":{\"type\":\"number\",\"value\":\"nan\"},\"right\":{\"type\":\"number\",\"value\":\"nan\"},\"top\":{\"type\":\"number\",\"value\":\"nan\"},\"bottom\":{\"type\":\"number\",\"value\":\"nan\"},\"left_units\":\"canvas\",\"right_units\":\"canvas\",\"top_units\":\"canvas\",\"bottom_units\":\"canvas\",\"line_color\":\"black\",\"line_alpha\":1.0,\"line_width\":2,\"line_dash\":[4,4],\"fill_color\":\"lightgrey\",\"fill_alpha\":0.5}}}},{\"type\":\"object\",\"name\":\"SaveTool\",\"id\":\"p1295\"},{\"type\":\"object\",\"name\":\"ResetTool\",\"id\":\"p1296\"},{\"type\":\"object\",\"name\":\"HelpTool\",\"id\":\"p1297\"}]}},\"left\":[{\"type\":\"object\",\"name\":\"LinearAxis\",\"id\":\"p1282\",\"attributes\":{\"ticker\":{\"type\":\"object\",\"name\":\"BasicTicker\",\"id\":\"p1283\",\"attributes\":{\"mantissas\":[1,2,5]}},\"formatter\":{\"type\":\"object\",\"name\":\"BasicTickFormatter\",\"id\":\"p1284\"},\"major_label_policy\":{\"type\":\"object\",\"name\":\"AllLabels\",\"id\":\"p1285\"}}}],\"below\":[{\"type\":\"object\",\"name\":\"LinearAxis\",\"id\":\"p1277\",\"attributes\":{\"ticker\":{\"type\":\"object\",\"name\":\"BasicTicker\",\"id\":\"p1278\",\"attributes\":{\"mantissas\":[1,2,5]}},\"formatter\":{\"type\":\"object\",\"name\":\"BasicTickFormatter\",\"id\":\"p1279\"},\"major_label_policy\":{\"type\":\"object\",\"name\":\"AllLabels\",\"id\":\"p1280\"}}}],\"center\":[{\"type\":\"object\",\"name\":\"Grid\",\"id\":\"p1281\",\"attributes\":{\"axis\":{\"id\":\"p1277\"}}},{\"type\":\"object\",\"name\":\"Grid\",\"id\":\"p1286\",\"attributes\":{\"dimension\":1,\"axis\":{\"id\":\"p1282\"}}}]}}]}};\n",
       "  const render_items = [{\"docid\":\"c1ec477b-5f0e-4139-93bc-9d072f796ddf\",\"roots\":{\"p1266\":\"d2520565-c319-42b4-87be-de660df8daf8\"},\"root_ids\":[\"p1266\"]}];\n",
       "  void root.Bokeh.embed.embed_items_notebook(docs_json, render_items);\n",
       "  }\n",
       "  if (root.Bokeh !== undefined) {\n",
       "    embed_document(root);\n",
       "  } else {\n",
       "    let attempts = 0;\n",
       "    const timer = setInterval(function(root) {\n",
       "      if (root.Bokeh !== undefined) {\n",
       "        clearInterval(timer);\n",
       "        embed_document(root);\n",
       "      } else {\n",
       "        attempts++;\n",
       "        if (attempts > 100) {\n",
       "          clearInterval(timer);\n",
       "          console.log(\"Bokeh: ERROR: Unable to run BokehJS code because BokehJS library is missing\");\n",
       "        }\n",
       "      }\n",
       "    }, 10, root)\n",
       "  }\n",
       "})(window);"
      ],
      "application/vnd.bokehjs_exec.v0+json": ""
     },
     "metadata": {
      "application/vnd.bokehjs_exec.v0+json": {
       "id": "p1266"
      }
     },
     "output_type": "display_data"
    }
   ],
   "source": [
    "import numpy as np\n",
    "\n",
    "normal = np.random.rand(100)\n",
    "square = normal**2\n",
    "cubic = normal**3\n",
    "polynomic = normal**4\n",
    "\n",
    "\n",
    "p.circle(normal ,square, \n",
    "         fill_color  = 'lightgreen',\n",
    "         line_alpha = 0.8,\n",
    "         line_color = 'red',\n",
    "         radius = 0.01)\n",
    "\n",
    "p.square(cubic ,polynomic, \n",
    "         fill_color  = 'lightblue',\n",
    "         line_alpha = 1,\n",
    "         line_color = 'brown',\n",
    "         size = 8)\n",
    "show(p)"
   ]
  },
  {
   "cell_type": "markdown",
   "id": "d6476841-f94d-43b6-915e-ccbb6a2acbae",
   "metadata": {},
   "source": [
    "### Labels y títulos"
   ]
  },
  {
   "cell_type": "code",
   "execution_count": 87,
   "id": "a3279293-c8ba-4612-980c-ea5d1a22b529",
   "metadata": {},
   "outputs": [
    {
     "data": {
      "text/html": [
       "\n",
       "  <div id=\"b02f20e1-d616-4993-8b10-74e77f6051ca\" data-root-id=\"p1552\" style=\"display: contents;\"></div>\n"
      ]
     },
     "metadata": {},
     "output_type": "display_data"
    },
    {
     "data": {
      "application/javascript": [
       "(function(root) {\n",
       "  function embed_document(root) {\n",
       "  const docs_json = {\"b2104082-d694-4048-abeb-9a730b9b81d8\":{\"version\":\"3.4.1\",\"title\":\"Bokeh Application\",\"roots\":[{\"type\":\"object\",\"name\":\"Figure\",\"id\":\"p1552\",\"attributes\":{\"width\":500,\"height\":500,\"x_range\":{\"type\":\"object\",\"name\":\"DataRange1d\",\"id\":\"p1553\"},\"y_range\":{\"type\":\"object\",\"name\":\"DataRange1d\",\"id\":\"p1554\"},\"x_scale\":{\"type\":\"object\",\"name\":\"LinearScale\",\"id\":\"p1562\"},\"y_scale\":{\"type\":\"object\",\"name\":\"LinearScale\",\"id\":\"p1563\"},\"title\":{\"type\":\"object\",\"name\":\"Title\",\"id\":\"p1555\",\"attributes\":{\"text\":\"Transformaciones de distribuci\\u00f3n normal\"}},\"renderers\":[{\"type\":\"object\",\"name\":\"GlyphRenderer\",\"id\":\"p1591\",\"attributes\":{\"data_source\":{\"type\":\"object\",\"name\":\"ColumnDataSource\",\"id\":\"p1585\",\"attributes\":{\"selected\":{\"type\":\"object\",\"name\":\"Selection\",\"id\":\"p1586\",\"attributes\":{\"indices\":[],\"line_indices\":[]}},\"selection_policy\":{\"type\":\"object\",\"name\":\"UnionRenderers\",\"id\":\"p1587\"},\"data\":{\"type\":\"map\",\"entries\":[[\"x\",{\"type\":\"ndarray\",\"array\":{\"type\":\"bytes\",\"data\":\"cCgbPpk+uD99TQW3LF/mPyCYeY8TNJI/3DEc1Xat7j/RKGyh2APrP+PcqVSIkO8/nyrViVCE4T/Mhgizc/bjP2rOsX9deeE/1GAr7Acb2D+g82ALYRTZP4lov3/1zeQ/fCGl1Dz83j8qA7KXijnaP2SzH2HbRsg/aAkVXEtq6z+89JoXX0vhP+xbexUNKOI/xnjGDTZz6z8DT5JrGEboP8mE8t/7i+w/uDicL66+4z8scffUIAnvP2PgRWr26uQ/EKM9/nuFwj8YqgEeA5nkP0QFHeItruY/jol62eLX0D+8VS8h26TXP2p+FJHc79g/GY9Ha9v/7j/5NOT42R3vP6LhHQroRNg/NxkcC9AM4T8A5OdxXuWOP4T9DXtYB+Q/WtwDs33T5D8u5QBy+gPcP0CEr2rFiM0/8VGaqhCN4D8IQlJXCb7XPyA1Bx/tIZc/3urakw9u7j+I2+KvPZXSP155qoijPOo/5LqnIxrp6j/IacoINALdPynsWF1MjOc/a3Ugxqmt7D+VkNTUFQnoP8YCqcHyU9s/oAgLL/Dvuj/kxAnuEBrpP0qSXVNetOE/gPn9rcw07D+goCAntoOfP0ApnbKtd5I/+JXvTa9A1j/Aih0zGr/SPzsonZUW/+U/wGbvizqyuj+UIByICSLVP+DFbquf1Kk/HM1IBK8a7D/YwJpfF7K6Pyj6NFDzh+M/xLHNU0vA0T8ttmJoHtTlP7pS2BNQ6to/OHgKVk1asj+C5MYJY83VPwB0lv5npmY/QEEao+tTvD9oKp7wwjXTP8rKdH/gadA/W7KjNkQ+6j+qMa6ZgUfRP+7jzHSdjdc/aH6Mm75guD9Wj0/9deTfPxhf93vnrtg/xE6SNjxP0j8fLAyUbfXlP7DVOWBur7E/oli1FcOl3D/LAe12Gv3lP++DzcWa+ew/Wm05F7vY7j9Ui3m1/UTvP1gkKZiEEN0/vIeNiAYqwD82BKAy8YvhPwa/vNOqU+8/3DnpXf0a4T/Q3ajCVhzlP8xKFrMLfcE/qCY6Y13i4T+czGRQO7vkP8KSGkIyzdg/9BNUQGy1wz8=\"},\"shape\":[100],\"dtype\":\"float64\",\"order\":\"little\"}],[\"y\",{\"type\":\"ndarray\",\"array\":{\"type\":\"bytes\",\"data\":\"QUDXUWBegj/b6sga8UffP2wWDoLVtTQ/k2cuHuto7T+LT78Gfs7mP0DlR/GUIu8/yJ5cV3Et0z/DKzryJujYP2GYp0d/FdM/k5Cht6Iowj/aAjyc5KfDP2/q/vBADds/iGo+TbYAzj9+7pWu6H3FP1ByWPflaqI/6QNXP8B85z85vdsfjbHSP6Sqy7GBmtQ/1jwdBAqM5z9juUQsvmniP4160CNdd+k/DBFmIb5d2D/t5Tg3shnuP4EzJoDiWNs/VlQunbBwlT+KpKIWP4TaPwatJCozE+A/nxsaoCa7sT/HvqRLTHjBPystRsbQbsM/k3YEILkH7j9pAxor8kHuPyZk6m/wZ8I/nYA9WkQr0j830WcmfdQtP1Tz95JgEtk/pLG2xqUb2z8gCB/G9obIP43eKmQuQqs/FuAEC/0e0T/I6XX8lZ3BP/Ruh9TouEA/t45awNfv7D/aI5jZOpW1PxA/mab8guU/XCStfmyh5j+clcR2/kvKPwTaFuMUVOE/8sXrkZez6T9PdZVTow3iPx1nS+GFVsc/v2Q7X+2shj95CHuvz7DjP3elpr05l9M/IxzPTr3c6D+cbzwLTwlPP+YsAAHGUDU/bhNDmOfyvj9EwLF05fa1P+RbvSh+Pd4/9+skz39Fhj+0+tFtoem7Px9EmUK+2WQ/G5Sjh8iu6D+MJXQfRUWGP/hl2wZl19c/ygVTI6exsz8tIAv4y8fdP24lKtR1o8Y/OlIVqSsNdT94qel1cLW9P0YvUlYwCOA+MzGTcrgTiT+u1TigYxC3PzdnwJ191rA/vCSvAaiF5T9f19/4MqmyPwSZgg4FVsE/q2JnZUKSgj+c39atA8nPP3K44TUXCsM/BrBG3s/ztD8YX2RT9CLeP5ZE7Q1OjHM/3olyDnClyT8E8kpNCTjeP9iJus1pPOo/zQuLrRq87T8aRLpNQI7uPysliNr4Zco/eKFqc3tUkD/xqpeIKD7TP2kE+Lv1qu4/B/2s7odJ0j8iC3vwldrbP1UpZiOKHZM/1NAvA4n90z8wFk9Eo9zaP7e/ZS/vOMM/GYPTPOpGmD8=\"},\"shape\":[100],\"dtype\":\"float64\",\"order\":\"little\"}]]}}},\"view\":{\"type\":\"object\",\"name\":\"CDSView\",\"id\":\"p1592\",\"attributes\":{\"filter\":{\"type\":\"object\",\"name\":\"AllIndices\",\"id\":\"p1593\"}}},\"glyph\":{\"type\":\"object\",\"name\":\"Circle\",\"id\":\"p1588\",\"attributes\":{\"x\":{\"type\":\"field\",\"field\":\"x\"},\"y\":{\"type\":\"field\",\"field\":\"y\"},\"radius\":{\"type\":\"value\",\"value\":0.01},\"line_color\":{\"type\":\"value\",\"value\":\"red\"},\"line_alpha\":{\"type\":\"value\",\"value\":0.8},\"fill_color\":{\"type\":\"value\",\"value\":\"lightgreen\"}}},\"nonselection_glyph\":{\"type\":\"object\",\"name\":\"Circle\",\"id\":\"p1589\",\"attributes\":{\"x\":{\"type\":\"field\",\"field\":\"x\"},\"y\":{\"type\":\"field\",\"field\":\"y\"},\"radius\":{\"type\":\"value\",\"value\":0.01},\"line_color\":{\"type\":\"value\",\"value\":\"red\"},\"line_alpha\":{\"type\":\"value\",\"value\":0.1},\"fill_color\":{\"type\":\"value\",\"value\":\"lightgreen\"},\"fill_alpha\":{\"type\":\"value\",\"value\":0.1},\"hatch_alpha\":{\"type\":\"value\",\"value\":0.1}}},\"muted_glyph\":{\"type\":\"object\",\"name\":\"Circle\",\"id\":\"p1590\",\"attributes\":{\"x\":{\"type\":\"field\",\"field\":\"x\"},\"y\":{\"type\":\"field\",\"field\":\"y\"},\"radius\":{\"type\":\"value\",\"value\":0.01},\"line_color\":{\"type\":\"value\",\"value\":\"red\"},\"line_alpha\":{\"type\":\"value\",\"value\":0.2},\"fill_color\":{\"type\":\"value\",\"value\":\"lightgreen\"},\"fill_alpha\":{\"type\":\"value\",\"value\":0.2},\"hatch_alpha\":{\"type\":\"value\",\"value\":0.2}}}}},{\"type\":\"object\",\"name\":\"GlyphRenderer\",\"id\":\"p1600\",\"attributes\":{\"data_source\":{\"type\":\"object\",\"name\":\"ColumnDataSource\",\"id\":\"p1594\",\"attributes\":{\"selected\":{\"type\":\"object\",\"name\":\"Selection\",\"id\":\"p1595\",\"attributes\":{\"indices\":[],\"line_indices\":[]}},\"selection_policy\":{\"type\":\"object\",\"name\":\"UnionRenderers\",\"id\":\"p1596\"},\"data\":{\"type\":\"map\",\"entries\":[[\"x\",{\"type\":\"ndarray\",\"array\":{\"type\":\"bytes\",\"data\":\"AfTFHW7VSz+SxAUMf97VP7WZ2nn4j9c+5vEl2sgx7D+qumAW+EDjP5V3VI0gtu4/KHRO3N/+xD/6uLuxUxPPPyJ88lOZ18Q/BgXYo6Fbqz92irVJXs+uP+rRHghlltE/DCvAjCkNvT807i1p8pyxP74HFyjp8Xs/euk7wkYf5D/3ASlRtTTEP/ahdAVlYcc/x0rrfe8y5D/EjNH8R+/bPylfZW7Yt+Y/XsJqPbQRzj9x26PBejHtP2NWgB5a4NE/NfTrk6XRaD/SJg1RchHRPxT+iD9lydY/NBel22Sqkj+ZQpT97dCpP1vK5luMSa4/SUDDAlkX7T/sU8F3HGztP2TnfFQt66s/PkM7UoVcwz9HUPr9Bc3MPpGX3Gd7Ys8/dfDtZHCk0T+iJEeKJHm1P8rkPnp7KIk/mWiB9u+1wT8rRsc4wSOqP3KeH+VDLeg+rfwa0GCE6z9kFggfMxGZP2keK9Awo+E/bV5GAQII4z8ga0Aerta3P6UfsHHQgNk/PPa05p8I5z+oHUpLtR7bP86M6Ww67rM/5J2JnIYWUz+7K2+pWOTeP2zqnCGGrcU/GdL6Xivq5T/eGF1Zw5D+PvmIGOlOmtg+tWChk46FpT8xacltGbyZP2p8uidqydQ/TmaaLoOUUj9vWQV8Am+iP6UNHjqn1CA/0PzDeISt5T/2W2C+OZRSP1KmYOtbGs0/BVIWI3LZlT+uA4fOhVDUP9xcsrCTCrM/O8Nl9KAlOD9WUzwYwD2kP7aBAKD/sVY+7YhNMwUzVj8QBtiZ9bCbP+2zG3fpRZE/CzmmV3mm4T8QTgYiLCeUP5vdCuwXhak/MOrbY65LTD/pgjD9qK2/P6iUbwJEX60/Efoqhgz6lz+Ys9UnE67UP/qIrV5omzU/mHf3b5v1tj8sSRoiysPUP7ukNZCBwec/nTuWj7yp7D/3rubVrtvtP+N5oeQJ+rc/BnGG4l9/YD/6BWkmWRrFP+xtnTLNBe4/CguHgPmMwz/qSuYtHWDSP8otFYfH5GQ/7ppVcDNYxj9k1xEvEWfRP9Ei/qDsy60/g5pTonznbT8=\"},\"shape\":[100],\"dtype\":\"float64\",\"order\":\"little\"}],[\"y\",{\"type\":\"ndarray\",\"array\":{\"type\":\"bytes\",\"data\":\"f8kpZoUWFT8ivuTgBJTOP6LR4j6ozno+wcy3JYIH6z+jQc7BIUHgP+dDsfIlS+4/8kUqQG78tj+T8z6gzmLDP52kPiwrw7Y/4ns4UdWblD8mVg60oCWYP83F9RNj3sY/IJfj1FUhrD8mRymbYd6cP1GcfaBPM1U/j/B6sTo94T87CezOL9e1P9oFN0EYiLo/2ymRPbNT4T/7AnS8pjDVP2A2v8U+ROQ/k+ekz6+Nwj+8fuHJQlDsPyJ9RBz1Xsc/A67PTOm6PD9ear8NCfnFP0AOcV59JtA/tRtzKz+mcz+YjJiaKhOTP+wcMVgvmpc/mlo1+Xwu7D83jMj3LZzsP6ZrjTGALJU//GyTy86htD8Bf8LRpc5rPpg3bHPBpMM/H25uor/2xj/72lhjq8yiP5nJqCg3OGc/+Zr1uxVSsj95GHPN7mSTPz8nY6EqepE+umcWNb8q6j/WhBxUKh19P20Ge44H7Nw/Q5lYeyMB4D/Eq7P5MZylP4pD/D1mxNI/vM5+voyk5D+LU/sbu17UP3l4p2VKBaE/vjSS4WwRID/tmmAkjzvYP3jSF3W+/Lc/qDWSpQ5R4z+8qf7aCxquPmLQPIifZXw+EtzoEqbujT8+kvEu/CZ+P0K/T7fCk8w/Phr9W00AHz9t808j6liIP3MWJOjuK9s+zxIhdecJ4z+OUNn7qf8ePwl6phBLw8E/U6ykfKE9eD9CT4UnAbfLP8g9zf0EBKA/S95Bc52y+z6NoXiX4JSLP3m4jN1kENA94jI1WtymIz+CFiibl5+APynglp82uHE/juNrhDXz3D/Sf2P1r8N1PzMaMzWZyJI/4cP2YE6OFT/gmAjXZZKvP9MbHX39p5Y/p+488Apwez8s4NZKsGHMP+sChLgH4vc+wlmwY9aNpD9LwH2Rc4nMP8ducPydguU/3WQZFEKh6z9zTPDsMC3tP+P4j1X5xqU/WKTJ+rSqMD/tfPG+kSS3Pwo+vRoeZO0/Y/3pxcPmtD/KvXojsj7IP3GXe51e1jY/uJ4r6db5uD/3wyyXeozGPx0I1agCGJc/C/y5gvxqQj8=\"},\"shape\":[100],\"dtype\":\"float64\",\"order\":\"little\"}]]}}},\"view\":{\"type\":\"object\",\"name\":\"CDSView\",\"id\":\"p1601\",\"attributes\":{\"filter\":{\"type\":\"object\",\"name\":\"AllIndices\",\"id\":\"p1602\"}}},\"glyph\":{\"type\":\"object\",\"name\":\"Scatter\",\"id\":\"p1597\",\"attributes\":{\"x\":{\"type\":\"field\",\"field\":\"x\"},\"y\":{\"type\":\"field\",\"field\":\"y\"},\"size\":{\"type\":\"value\",\"value\":8},\"line_color\":{\"type\":\"value\",\"value\":\"brown\"},\"fill_color\":{\"type\":\"value\",\"value\":\"lightblue\"},\"marker\":{\"type\":\"value\",\"value\":\"square\"}}},\"nonselection_glyph\":{\"type\":\"object\",\"name\":\"Scatter\",\"id\":\"p1598\",\"attributes\":{\"x\":{\"type\":\"field\",\"field\":\"x\"},\"y\":{\"type\":\"field\",\"field\":\"y\"},\"size\":{\"type\":\"value\",\"value\":8},\"line_color\":{\"type\":\"value\",\"value\":\"brown\"},\"line_alpha\":{\"type\":\"value\",\"value\":0.1},\"fill_color\":{\"type\":\"value\",\"value\":\"lightblue\"},\"fill_alpha\":{\"type\":\"value\",\"value\":0.1},\"hatch_alpha\":{\"type\":\"value\",\"value\":0.1},\"marker\":{\"type\":\"value\",\"value\":\"square\"}}},\"muted_glyph\":{\"type\":\"object\",\"name\":\"Scatter\",\"id\":\"p1599\",\"attributes\":{\"x\":{\"type\":\"field\",\"field\":\"x\"},\"y\":{\"type\":\"field\",\"field\":\"y\"},\"size\":{\"type\":\"value\",\"value\":8},\"line_color\":{\"type\":\"value\",\"value\":\"brown\"},\"line_alpha\":{\"type\":\"value\",\"value\":0.2},\"fill_color\":{\"type\":\"value\",\"value\":\"lightblue\"},\"fill_alpha\":{\"type\":\"value\",\"value\":0.2},\"hatch_alpha\":{\"type\":\"value\",\"value\":0.2},\"marker\":{\"type\":\"value\",\"value\":\"square\"}}}}}],\"toolbar\":{\"type\":\"object\",\"name\":\"Toolbar\",\"id\":\"p1561\",\"attributes\":{\"tools\":[{\"type\":\"object\",\"name\":\"PanTool\",\"id\":\"p1574\"},{\"type\":\"object\",\"name\":\"WheelZoomTool\",\"id\":\"p1575\",\"attributes\":{\"renderers\":\"auto\"}},{\"type\":\"object\",\"name\":\"BoxZoomTool\",\"id\":\"p1576\",\"attributes\":{\"overlay\":{\"type\":\"object\",\"name\":\"BoxAnnotation\",\"id\":\"p1577\",\"attributes\":{\"syncable\":false,\"level\":\"overlay\",\"visible\":false,\"left\":{\"type\":\"number\",\"value\":\"nan\"},\"right\":{\"type\":\"number\",\"value\":\"nan\"},\"top\":{\"type\":\"number\",\"value\":\"nan\"},\"bottom\":{\"type\":\"number\",\"value\":\"nan\"},\"left_units\":\"canvas\",\"right_units\":\"canvas\",\"top_units\":\"canvas\",\"bottom_units\":\"canvas\",\"line_color\":\"black\",\"line_alpha\":1.0,\"line_width\":2,\"line_dash\":[4,4],\"fill_color\":\"lightgrey\",\"fill_alpha\":0.5}}}},{\"type\":\"object\",\"name\":\"SaveTool\",\"id\":\"p1582\"},{\"type\":\"object\",\"name\":\"ResetTool\",\"id\":\"p1583\"},{\"type\":\"object\",\"name\":\"HelpTool\",\"id\":\"p1584\"}]}},\"left\":[{\"type\":\"object\",\"name\":\"LinearAxis\",\"id\":\"p1569\",\"attributes\":{\"ticker\":{\"type\":\"object\",\"name\":\"BasicTicker\",\"id\":\"p1570\",\"attributes\":{\"mantissas\":[1,2,5]}},\"formatter\":{\"type\":\"object\",\"name\":\"BasicTickFormatter\",\"id\":\"p1571\"},\"axis_label\":\"Valor de distribuci\\u00f3n Y\",\"major_label_orientation\":\"vertical\",\"major_label_policy\":{\"type\":\"object\",\"name\":\"AllLabels\",\"id\":\"p1572\"},\"major_label_text_color\":\"red\"}}],\"below\":[{\"type\":\"object\",\"name\":\"LinearAxis\",\"id\":\"p1564\",\"attributes\":{\"ticker\":{\"type\":\"object\",\"name\":\"BasicTicker\",\"id\":\"p1565\",\"attributes\":{\"mantissas\":[1,2,5]}},\"formatter\":{\"type\":\"object\",\"name\":\"BasicTickFormatter\",\"id\":\"p1566\"},\"axis_label\":\"Valor de distribuci\\u00f3n X\",\"major_label_policy\":{\"type\":\"object\",\"name\":\"AllLabels\",\"id\":\"p1567\"},\"major_label_text_color\":\"blue\",\"axis_line_color\":\"blue\",\"axis_line_width\":2}}],\"center\":[{\"type\":\"object\",\"name\":\"Grid\",\"id\":\"p1568\",\"attributes\":{\"axis\":{\"id\":\"p1564\"}}},{\"type\":\"object\",\"name\":\"Grid\",\"id\":\"p1573\",\"attributes\":{\"dimension\":1,\"axis\":{\"id\":\"p1569\"}}}]}}]}};\n",
       "  const render_items = [{\"docid\":\"b2104082-d694-4048-abeb-9a730b9b81d8\",\"roots\":{\"p1552\":\"b02f20e1-d616-4993-8b10-74e77f6051ca\"},\"root_ids\":[\"p1552\"]}];\n",
       "  void root.Bokeh.embed.embed_items_notebook(docs_json, render_items);\n",
       "  }\n",
       "  if (root.Bokeh !== undefined) {\n",
       "    embed_document(root);\n",
       "  } else {\n",
       "    let attempts = 0;\n",
       "    const timer = setInterval(function(root) {\n",
       "      if (root.Bokeh !== undefined) {\n",
       "        clearInterval(timer);\n",
       "        embed_document(root);\n",
       "      } else {\n",
       "        attempts++;\n",
       "        if (attempts > 100) {\n",
       "          clearInterval(timer);\n",
       "          console.log(\"Bokeh: ERROR: Unable to run BokehJS code because BokehJS library is missing\");\n",
       "        }\n",
       "      }\n",
       "    }, 10, root)\n",
       "  }\n",
       "})(window);"
      ],
      "application/vnd.bokehjs_exec.v0+json": ""
     },
     "metadata": {
      "application/vnd.bokehjs_exec.v0+json": {
       "id": "p1552"
      }
     },
     "output_type": "display_data"
    }
   ],
   "source": [
    "p = figure(width=500, height=500, title='Transformaciones de distribución normal')\n",
    "\n",
    "normal = np.random.rand(100)\n",
    "square = normal**2\n",
    "cubic = normal**3\n",
    "polynomic = normal**4\n",
    "\n",
    "p.circle(normal ,square, \n",
    "         fill_color  = 'lightgreen',\n",
    "         line_alpha = 0.8,\n",
    "         line_color = 'red',\n",
    "         radius = 0.01)\n",
    "\n",
    "p.scatter(cubic ,polynomic, \n",
    "          marker='square',\n",
    "         fill_color  = 'lightblue',\n",
    "         line_alpha = 1,\n",
    "         line_color = 'brown',\n",
    "         size = 8)\n",
    "\n",
    "p.xaxis.axis_label = 'Valor de distribución X'\n",
    "p.yaxis.axis_label = 'Valor de distribución Y'\n",
    "\n",
    "p.yaxis.major_label_text_color = \"red\"\n",
    "p.yaxis.major_label_orientation = \"vertical\"\n",
    "\n",
    "p.xaxis.axis_line_width = 2\n",
    "p.xaxis.axis_line_color = \"blue\"\n",
    "p.xaxis.major_label_text_color = \"blue\"\n",
    "\n",
    "show(p)"
   ]
  },
  {
   "cell_type": "markdown",
   "id": "605822d9-ccc1-415c-81cf-4ae4e1c425bd",
   "metadata": {},
   "source": [
    "### Cambiar elementos descriptivos de los ejes"
   ]
  },
  {
   "cell_type": "code",
   "execution_count": 93,
   "id": "a540ae2c-1c89-4853-a964-3e44ce2e3b56",
   "metadata": {},
   "outputs": [
    {
     "name": "stderr",
     "output_type": "stream",
     "text": [
      "BokehDeprecationWarning: 'square() method' was deprecated in Bokeh 3.4.0 and will be removed, use \"scatter(marker='square', ...) instead\" instead.\n"
     ]
    },
    {
     "data": {
      "text/html": [
       "\n",
       "  <div id=\"fa128a28-c497-463b-950c-9e3baddae8f5\" data-root-id=\"p1610\" style=\"display: contents;\"></div>\n"
      ]
     },
     "metadata": {},
     "output_type": "display_data"
    },
    {
     "data": {
      "application/javascript": [
       "(function(root) {\n",
       "  function embed_document(root) {\n",
       "  const docs_json = {\"fbdad7d6-b534-4806-a8f5-44a206dda4b2\":{\"version\":\"3.4.1\",\"title\":\"Bokeh Application\",\"roots\":[{\"type\":\"object\",\"name\":\"Figure\",\"id\":\"p1610\",\"attributes\":{\"width\":500,\"height\":500,\"x_range\":{\"type\":\"object\",\"name\":\"DataRange1d\",\"id\":\"p1611\"},\"y_range\":{\"type\":\"object\",\"name\":\"DataRange1d\",\"id\":\"p1612\"},\"x_scale\":{\"type\":\"object\",\"name\":\"LinearScale\",\"id\":\"p1620\"},\"y_scale\":{\"type\":\"object\",\"name\":\"LinearScale\",\"id\":\"p1621\"},\"title\":{\"type\":\"object\",\"name\":\"Title\",\"id\":\"p1613\",\"attributes\":{\"text\":\"Transformaciones de distribuci\\u00f3n normal\"}},\"renderers\":[{\"type\":\"object\",\"name\":\"GlyphRenderer\",\"id\":\"p1649\",\"attributes\":{\"data_source\":{\"type\":\"object\",\"name\":\"ColumnDataSource\",\"id\":\"p1643\",\"attributes\":{\"selected\":{\"type\":\"object\",\"name\":\"Selection\",\"id\":\"p1644\",\"attributes\":{\"indices\":[],\"line_indices\":[]}},\"selection_policy\":{\"type\":\"object\",\"name\":\"UnionRenderers\",\"id\":\"p1645\"},\"data\":{\"type\":\"map\",\"entries\":[[\"x\",{\"type\":\"ndarray\",\"array\":{\"type\":\"bytes\",\"data\":\"KgwRAOGS7D+cu1YK2T3gP4yishj2vc8/jRYaMl+t6j9ADw2cyh7hP+BHuRPeFKg/iV8R0iiB4T+852bbQy7fPyzbpBrxKuc/ZvTXbV9m5j/YQxJx3NrvPyK7LHmJg9I/DQd2ok7G6z9rmyS8Y0boPxB9blkBNa0/wm1jiJxW0j/WqpJ0T8fgP6wO/eEklOw/hIL7KXX81T8JVPwNDPfkP/7Qx6kGQ+0/Lrj+EGuL1j97hjHpKsPqP1xaV47n++k/PB1EHf5KzD8A49KPPFbcP/CG2MRSuug/6fXKvdwG5z/EI3rA/fflP14IVJfe/eo/8G+48SGWtz/cYIna6srEP8xrdqTCKc4/cAUJBZN6qD9eU9BmiLjXP+ab/vkOQNM/oFwGqIqFlT+g2WZcPk/pP0QEsqGVpMQ/s7RAwS0m4T9hptIXvE3qPzz5hhhnsds/zEyKTh9wyz/phPCwi+DkP6CBykKiNpE/8AjcP/Xa7z+fVsORMnXuPwvBMNGVMe4/i/l+Z2IE4T/gFD8rYITgP2m8sN83Dek/Mj1/CdeV0D8gE+IjDDi5P2yWmLUj4NI/gKKToBbO1z9Yt/dvLU69Px6WiuahGtI/nKhDuGyX1j9DOoPF9zTkP1BWFmQQ+Ng/BerDa7IQ5z/FXOG0ESPuPwhJePwCmLo/gDTGndDpwD80qGjw1o/YP/Lj+qH5qN0/eu/qHnXS5T9qzBzCTbXqP+hPylJn/eI/q31LRXlB5j8L+gMSL7nqPxT7hdi1U+8/kkaJluxU1T84cxsUKtDUPwAyDGL90s8/76s5j39x5j8iqyUa4eToP7jGzteMU8o/yDJPgUp81j/0+nbGfiviPzZxgJBeDu4/14TuA52V6j89VMYrwXPrP4Ch4jGam74/Qlptb+Ry0j8qN500fUjTP3J8lmhlTu4/3B/RofWY3z8QBoCeCL/GP+YkuozT5d0/e+TOBQ/L7j+YIUDEX+3bP7J00xIh1NE/mHj+NFjmyT8gxjOtPN3lP84W6OEH/d8/YomWUCig1j92lESlWvrgP4j0ZrirwMM/IqmTbePa3D8=\"},\"shape\":[100],\"dtype\":\"float64\",\"order\":\"little\"}],[\"y\",{\"type\":\"ndarray\",\"array\":{\"type\":\"bytes\",\"data\":\"yHls66uD6T8GdRwnoXzQP910Qnp0fK8/glDT/2U95j+dm2rNqVHSPyHFM7laH2I/RWgIYYkm0z92Db5c5mHOPziFSzb0xeA/24wDcRVc3z+akIb847XvPzkQYrAubLU/tdsCoHEb6D+94cRvMGriPzyPkD5qqGo/7kuVC7UEtT9/qCOzUZjRPyrBz2Duhek/lp84/EI2vj/AtS+nhHjbP7eConcIwuo/oDfQRSXEvz/kECQOzGHmPxAJfc1YGeU/5H5gcuwDqT+huKhh0hfJPxk1Swq5G+M/qKONyd6R4D8VuY/T/SneP9fErcNnxOY/sUPXKZFigT/PwtyZWAWbP/xmw3ODbqw/NWM3C7K5Yj/LPq82bJXBP+GrmgkkKbc/OrbrjubyPD/2dsKslQTkP/clJxUTopo/gUuCVHxh0j8bjDp8Dp/lP7I/L3c198c/n8rNr72Gpz/INHeGrD3bP/uznlvThDI/owGYYBW27z/uEGgLbP3sP7F4yb1Ffew/Nch+T1IZ0j8CwomLBw3RPwh1S8OsnOM/eWtZUykxsT83cJMi9d+DP2+1w0CURLY/VaY3ym+1wT9eWLNYcdaKP8pQS5sYfLQ/l8yyEQTmvz9c0kjHGoXZPwFBOZSbe8M/oDQ4MQmg4D8aB+yh52HsP7o0ovbWGYY/7qEfEvrgkT8zWkX3SNrCP4TrVrrAfcs/FqDttkPD3T+5pM+ToUrmP4KtfNDVidY/Nch5axn13j9DAcwlHFHmP6Is4E4Lq+4//lj/zK9wvD9pE754/RK7P37YdBM6pq8/I56e50N73z9BkRy1tl3jP5NpuwOfqKU/awfJZ5KZvz+a8+J7U6LUPye4xsL3Ouw/p6Oap9oV5j/pZ9ey+IznP8AyM761Ro0/D0yn/rpFtT+6sKLHcT23P4BkuTO+s+w/beljDjczzz/vctZIICugP1MVVhAC78s/zKqEscSh7T+SyNVucl/IP02ZuLTC3bM/Qoq652P2pD+suL5jsuDdPyjDVwoQ+s8/EFFPBLL+vz/6UTedAgTSP5YpcfanYpg/8r/HQOcEyj8=\"},\"shape\":[100],\"dtype\":\"float64\",\"order\":\"little\"}]]}}},\"view\":{\"type\":\"object\",\"name\":\"CDSView\",\"id\":\"p1650\",\"attributes\":{\"filter\":{\"type\":\"object\",\"name\":\"AllIndices\",\"id\":\"p1651\"}}},\"glyph\":{\"type\":\"object\",\"name\":\"Circle\",\"id\":\"p1646\",\"attributes\":{\"x\":{\"type\":\"field\",\"field\":\"x\"},\"y\":{\"type\":\"field\",\"field\":\"y\"},\"radius\":{\"type\":\"value\",\"value\":0.01},\"line_color\":{\"type\":\"value\",\"value\":\"red\"},\"line_alpha\":{\"type\":\"value\",\"value\":0.8},\"fill_color\":{\"type\":\"value\",\"value\":\"lightgreen\"}}},\"nonselection_glyph\":{\"type\":\"object\",\"name\":\"Circle\",\"id\":\"p1647\",\"attributes\":{\"x\":{\"type\":\"field\",\"field\":\"x\"},\"y\":{\"type\":\"field\",\"field\":\"y\"},\"radius\":{\"type\":\"value\",\"value\":0.01},\"line_color\":{\"type\":\"value\",\"value\":\"red\"},\"line_alpha\":{\"type\":\"value\",\"value\":0.1},\"fill_color\":{\"type\":\"value\",\"value\":\"lightgreen\"},\"fill_alpha\":{\"type\":\"value\",\"value\":0.1},\"hatch_alpha\":{\"type\":\"value\",\"value\":0.1}}},\"muted_glyph\":{\"type\":\"object\",\"name\":\"Circle\",\"id\":\"p1648\",\"attributes\":{\"x\":{\"type\":\"field\",\"field\":\"x\"},\"y\":{\"type\":\"field\",\"field\":\"y\"},\"radius\":{\"type\":\"value\",\"value\":0.01},\"line_color\":{\"type\":\"value\",\"value\":\"red\"},\"line_alpha\":{\"type\":\"value\",\"value\":0.2},\"fill_color\":{\"type\":\"value\",\"value\":\"lightgreen\"},\"fill_alpha\":{\"type\":\"value\",\"value\":0.2},\"hatch_alpha\":{\"type\":\"value\",\"value\":0.2}}}}},{\"type\":\"object\",\"name\":\"GlyphRenderer\",\"id\":\"p1658\",\"attributes\":{\"data_source\":{\"type\":\"object\",\"name\":\"ColumnDataSource\",\"id\":\"p1652\",\"attributes\":{\"selected\":{\"type\":\"object\",\"name\":\"Selection\",\"id\":\"p1653\",\"attributes\":{\"indices\":[],\"line_indices\":[]}},\"selection_policy\":{\"type\":\"object\",\"name\":\"UnionRenderers\",\"id\":\"p1654\"},\"data\":{\"type\":\"map\",\"entries\":[[\"x\",{\"type\":\"ndarray\",\"array\":{\"type\":\"bytes\",\"data\":\"dHA/lFLI5j/id3LyW7zAPysBbwt6O48/P6Bj+GCK4j//WU2CBZrDP8QJl9CqRhs/i0t9honzxD8JdUdSxJq9PzMHuHCTSdg/5Z4Px6Hz1T+Kf1ZwFpHvP5BAQFXSyZg/1EpZ64zs5D943iUFTPDbP8tlbljIVCg/BQk2mxIXmD+ZsoyLf3PCP31BIW5Zy+Y/fEsP4/XBpD+pm5uBZ//RP0Qrf4Djd+g/gPah6j9hpj+nBWrC97fiP7+Z6N3kIeE/hIfinA4ehj+UYEyYdzi2P9gAs68aiN0/rsuLj8vY1z8+NH3jUbXUP3i2moEzNOM/YSv+ntGgST+zjBVvr45xP7UJEMW1zIo/pvhgDv+lHD9hHibSlxGqP89ubgmV3Zs/YfePSzZ44z6f4VOGTqrfP/VTQRhHLnE/nhRDMXCzwz8yP1iWwcXhP6iwXbJxvbQ/b9GCqB4shD8aID12ssXRP08h2Khc7NM+cn+RMGCR7z+HXsGtwZfrP5/QQZaW4eo/4l41Gd0/wz+RdQyGGZrBP7+9RroBtd4/a0sBMyrSkT+x+In0jVNPP6xXJ5cYRZo/WAYvvelYqj8jvCGI55NYPysAkp60LZc/KjVajxSFpj9BIPygbh3QP5msSj95Z64/fhZSpGb31z9xCJjx47rqP+hMc3X7XVI/worHaD/mYj/rhd+h6fCsP6jzXFIhe7k/ZI8dy+JL1D9BE9KU75riP1TJbJsFwMo/Pq5Xp9iH1T/CASKdDKPiP7GquODsBe4/xXHccG31oj8GZvd0/ZuhP/8rLbu1eY8/PggkdWcU1j+Y5L7wmSHeP5WEQuON0YE/kDuAUVE0pj9/7f+ptW7HP2n6sX/1g+o/CX45yANZ4j/f0BufIjTkP1iIj/SlAFw/sG6g6DKHmD90goh5QQKcP7FZO2XTLus/dD1YGcDOvj9iwEfrV/x2P4ytYPA4Gbo/opBnh7CD7D/+bt5lVEW1P/ZNoEQCI5Y/GBtlw2L3gD/mnHuIBWrUP7h5SHkY978//dn9Kzyfpj/cGbVW5x3DP18+ogvNGm4/CVD5q0R2tz8=\"},\"shape\":[100],\"dtype\":\"float64\",\"order\":\"little\"}],[\"y\",{\"type\":\"ndarray\",\"array\":{\"type\":\"bytes\",\"data\":\"SakMa9pX5D+eRm4WDf2wP6s9PLUF+24/cgbOG8Tp3j9Cw3ncXvm0PwyQRJLJhtQ+jm+cF+Prtj+n7/Bwu9isP9iG34h5ldE/NhNPhnK7zj/ruLWac2zvPzzU1gXWrnw/l8NV+UEp4j9Djta9rTHVP5qVnAIjNeY+EUjuoFycez8umZiuV1mzP/8duQN1W+Q/gqKJmxmGjD86Tyy/JZXHP2vkFEnmX+Y/eAwGgLqIjz9lDDnrRk/fPzQ910Kx0ts/BVHf7SGOYz/2JWt0Sq2jPwFaUYEH0tY/i5E+de8o0T8Z+vgG827MP653fCXEMuA/oANPsNPjEj/c7kloBtFGPw/RbbTjQmk/pjk9xjvq1T5ZyIpm+VKTPwuJT7JYw4A/BVXLP0cwij6RszSAdwvZPz4roeOTKkY/V/VrtakdtT+T2As2szfdP4ApDZ3S8qE/Ope8BehLYT9B90sAijDHPxTSdDgqb3U+KoxfftVs7z8vSNcJVEPqPxBIk3UkXek/Bx+9RSF5tD/6CsukuiuyP4Tl/H8YCtg/8ESn3g55cj+Iq+0BJbAYP6NhnqO9/X4/SHwCApeZkz+/Sbc9FYImPyMxyQEAOno/GFvJPB3Mjz+0vhB+I1rEP923921MuZc/UhVOGlNG0T9MYC/mgCzpPzDgSOE4hx4/QSTDz276Mz8r7foxxjaWP9A0q2gjnqc/UGxjPZKuyz+4+XFzmA7fP9Z9Emavv78/hUHW9uTyzT+oOSGVqCDfP4lOw3RHZO0/dqYfecBGiT+cVcAAF+iGP02mpQBwTW8/Of5XY674zj9epUPStnDXP/euRnuSUV0/EcWzq2w0jz/XrfeRP5y6Px4efD6e5+g/DFaNJjd83j8eWr+IElXhPwcg5afFyCo/H/vUwTpIfD8XiVeKyeCAP4Kg0XZ+vuk/Oiy+o4xrrj8ui3XPtFZQP+1rZaJMYqg/+76zSWZw6z9m+UtXSJCiPxg+OAmwqng/gtLXBcx2Wz+zkyAabeXLP8Kvsy4h9K8/KGg8FmT9jz9ygQvjBkm0PybP4BkslUI/oPmbifgnpT8=\"},\"shape\":[100],\"dtype\":\"float64\",\"order\":\"little\"}]]}}},\"view\":{\"type\":\"object\",\"name\":\"CDSView\",\"id\":\"p1659\",\"attributes\":{\"filter\":{\"type\":\"object\",\"name\":\"AllIndices\",\"id\":\"p1660\"}}},\"glyph\":{\"type\":\"object\",\"name\":\"Scatter\",\"id\":\"p1655\",\"attributes\":{\"x\":{\"type\":\"field\",\"field\":\"x\"},\"y\":{\"type\":\"field\",\"field\":\"y\"},\"size\":{\"type\":\"value\",\"value\":8},\"line_color\":{\"type\":\"value\",\"value\":\"brown\"},\"fill_color\":{\"type\":\"value\",\"value\":\"lightblue\"},\"marker\":{\"type\":\"value\",\"value\":\"square\"}}},\"nonselection_glyph\":{\"type\":\"object\",\"name\":\"Scatter\",\"id\":\"p1656\",\"attributes\":{\"x\":{\"type\":\"field\",\"field\":\"x\"},\"y\":{\"type\":\"field\",\"field\":\"y\"},\"size\":{\"type\":\"value\",\"value\":8},\"line_color\":{\"type\":\"value\",\"value\":\"brown\"},\"line_alpha\":{\"type\":\"value\",\"value\":0.1},\"fill_color\":{\"type\":\"value\",\"value\":\"lightblue\"},\"fill_alpha\":{\"type\":\"value\",\"value\":0.1},\"hatch_alpha\":{\"type\":\"value\",\"value\":0.1},\"marker\":{\"type\":\"value\",\"value\":\"square\"}}},\"muted_glyph\":{\"type\":\"object\",\"name\":\"Scatter\",\"id\":\"p1657\",\"attributes\":{\"x\":{\"type\":\"field\",\"field\":\"x\"},\"y\":{\"type\":\"field\",\"field\":\"y\"},\"size\":{\"type\":\"value\",\"value\":8},\"line_color\":{\"type\":\"value\",\"value\":\"brown\"},\"line_alpha\":{\"type\":\"value\",\"value\":0.2},\"fill_color\":{\"type\":\"value\",\"value\":\"lightblue\"},\"fill_alpha\":{\"type\":\"value\",\"value\":0.2},\"hatch_alpha\":{\"type\":\"value\",\"value\":0.2},\"marker\":{\"type\":\"value\",\"value\":\"square\"}}}}}],\"toolbar\":{\"type\":\"object\",\"name\":\"Toolbar\",\"id\":\"p1619\",\"attributes\":{\"tools\":[{\"type\":\"object\",\"name\":\"PanTool\",\"id\":\"p1632\"},{\"type\":\"object\",\"name\":\"WheelZoomTool\",\"id\":\"p1633\",\"attributes\":{\"renderers\":\"auto\"}},{\"type\":\"object\",\"name\":\"BoxZoomTool\",\"id\":\"p1634\",\"attributes\":{\"overlay\":{\"type\":\"object\",\"name\":\"BoxAnnotation\",\"id\":\"p1635\",\"attributes\":{\"syncable\":false,\"level\":\"overlay\",\"visible\":false,\"left\":{\"type\":\"number\",\"value\":\"nan\"},\"right\":{\"type\":\"number\",\"value\":\"nan\"},\"top\":{\"type\":\"number\",\"value\":\"nan\"},\"bottom\":{\"type\":\"number\",\"value\":\"nan\"},\"left_units\":\"canvas\",\"right_units\":\"canvas\",\"top_units\":\"canvas\",\"bottom_units\":\"canvas\",\"line_color\":\"black\",\"line_alpha\":1.0,\"line_width\":2,\"line_dash\":[4,4],\"fill_color\":\"lightgrey\",\"fill_alpha\":0.5}}}},{\"type\":\"object\",\"name\":\"SaveTool\",\"id\":\"p1640\"},{\"type\":\"object\",\"name\":\"ResetTool\",\"id\":\"p1641\"},{\"type\":\"object\",\"name\":\"HelpTool\",\"id\":\"p1642\"}]}},\"left\":[{\"type\":\"object\",\"name\":\"LinearAxis\",\"id\":\"p1627\",\"attributes\":{\"ticker\":{\"type\":\"object\",\"name\":\"BasicTicker\",\"id\":\"p1628\",\"attributes\":{\"mantissas\":[1,2,5]}},\"formatter\":{\"type\":\"object\",\"name\":\"BasicTickFormatter\",\"id\":\"p1629\"},\"axis_label\":\"Valor de distribuci\\u00f3n Y\",\"major_label_orientation\":\"vertical\",\"major_label_policy\":{\"type\":\"object\",\"name\":\"AllLabels\",\"id\":\"p1630\"},\"major_label_text_color\":\"red\"}}],\"below\":[{\"type\":\"object\",\"name\":\"LinearAxis\",\"id\":\"p1622\",\"attributes\":{\"ticker\":{\"type\":\"object\",\"name\":\"BasicTicker\",\"id\":\"p1623\",\"attributes\":{\"mantissas\":[1,2,5]}},\"formatter\":{\"type\":\"object\",\"name\":\"BasicTickFormatter\",\"id\":\"p1624\"},\"axis_label\":\"Valor de distribuci\\u00f3n X\",\"major_label_policy\":{\"type\":\"object\",\"name\":\"AllLabels\",\"id\":\"p1625\"},\"major_label_text_color\":\"blue\",\"axis_line_color\":\"blue\",\"axis_line_width\":2}}],\"center\":[{\"type\":\"object\",\"name\":\"Grid\",\"id\":\"p1626\",\"attributes\":{\"axis\":{\"id\":\"p1622\"}}},{\"type\":\"object\",\"name\":\"Grid\",\"id\":\"p1631\",\"attributes\":{\"dimension\":1,\"axis\":{\"id\":\"p1627\"}}}]}}]}};\n",
       "  const render_items = [{\"docid\":\"fbdad7d6-b534-4806-a8f5-44a206dda4b2\",\"roots\":{\"p1610\":\"fa128a28-c497-463b-950c-9e3baddae8f5\"},\"root_ids\":[\"p1610\"]}];\n",
       "  void root.Bokeh.embed.embed_items_notebook(docs_json, render_items);\n",
       "  }\n",
       "  if (root.Bokeh !== undefined) {\n",
       "    embed_document(root);\n",
       "  } else {\n",
       "    let attempts = 0;\n",
       "    const timer = setInterval(function(root) {\n",
       "      if (root.Bokeh !== undefined) {\n",
       "        clearInterval(timer);\n",
       "        embed_document(root);\n",
       "      } else {\n",
       "        attempts++;\n",
       "        if (attempts > 100) {\n",
       "          clearInterval(timer);\n",
       "          console.log(\"Bokeh: ERROR: Unable to run BokehJS code because BokehJS library is missing\");\n",
       "        }\n",
       "      }\n",
       "    }, 10, root)\n",
       "  }\n",
       "})(window);"
      ],
      "application/vnd.bokehjs_exec.v0+json": ""
     },
     "metadata": {
      "application/vnd.bokehjs_exec.v0+json": {
       "id": "p1610"
      }
     },
     "output_type": "display_data"
    }
   ],
   "source": [
    "p = figure(width=500, height=500, title='Transformaciones de distribución normal')\n",
    "\n",
    "normal = np.random.rand(100)\n",
    "square = normal**2\n",
    "cubic = normal**3\n",
    "polynomic = normal**4\n",
    "\n",
    "p.circle(normal ,square, \n",
    "         fill_color  = 'lightgreen',\n",
    "         line_alpha = 0.8,\n",
    "         line_color = 'red',\n",
    "         radius = 0.01)\n",
    "\n",
    "p.square(cubic ,polynomic, \n",
    "         fill_color  = 'lightblue',\n",
    "         line_alpha = 1,\n",
    "         line_color = 'brown',\n",
    "         size = 8)\n",
    "\n",
    "p.xaxis.axis_label = 'Valor de distribución X'\n",
    "p.yaxis.axis_label = 'Valor de distribución Y'\n",
    "\n",
    "p.yaxis.major_label_text_color = \"red\"\n",
    "p.yaxis.major_label_orientation = \"vertical\"\n",
    "\n",
    "p.xaxis.axis_line_width = 2\n",
    "p.xaxis.axis_line_color = \"blue\"\n",
    "p.xaxis.major_label_text_color = \"blue\"\n",
    "\n",
    "\n",
    "show(p)"
   ]
  },
  {
   "cell_type": "markdown",
   "id": "0488967e-dbaa-4ea3-89fe-70a421ba9f84",
   "metadata": {},
   "source": [
    "### Diagrama de barras"
   ]
  },
  {
   "cell_type": "code",
   "execution_count": 96,
   "id": "eaacde00-bbd0-4a8c-a346-77d8016a1c5c",
   "metadata": {},
   "outputs": [],
   "source": [
    "import pandas as pd\n",
    "\n",
    "items = ['Naranjas', 'Fresas', 'Manzanas', 'Plátanos', 'Mango']\n",
    "volumen_venta = np.random.randint(100, 1000, 5)\n",
    "ingresos_totales = np.random.randint(1000, 25000, 5)\n",
    "\n",
    "df = pd.DataFrame({\n",
    "    'Productos': items,\n",
    "    'Volumen': volumen_venta,\n",
    "    'Ingresos': ingresos_totales\n",
    "})"
   ]
  },
  {
   "cell_type": "code",
   "execution_count": 100,
   "id": "8afb195c-ecc5-4b7d-875a-bbb0ac49df16",
   "metadata": {},
   "outputs": [],
   "source": [
    "p = figure(x_range=df['Productos'], height=350, title=\"Volumen de ventas\")"
   ]
  },
  {
   "cell_type": "code",
   "execution_count": 102,
   "id": "da1681d2-b46c-492c-8a05-297851f2f773",
   "metadata": {},
   "outputs": [
    {
     "data": {
      "text/html": [
       "\n",
       "  <div id=\"e0d767ba-9d71-4bad-a660-eca1669a3c5e\" data-root-id=\"p1668\" style=\"display: contents;\"></div>\n"
      ]
     },
     "metadata": {},
     "output_type": "display_data"
    },
    {
     "data": {
      "application/javascript": [
       "(function(root) {\n",
       "  function embed_document(root) {\n",
       "  const docs_json = {\"2f756101-ec53-43ce-b231-912fa469fad5\":{\"version\":\"3.4.1\",\"title\":\"Bokeh Application\",\"roots\":[{\"type\":\"object\",\"name\":\"Figure\",\"id\":\"p1668\",\"attributes\":{\"height\":350,\"x_range\":{\"type\":\"object\",\"name\":\"FactorRange\",\"id\":\"p1678\",\"attributes\":{\"factors\":[\"Naranjas\",\"Fresas\",\"Manzanas\",\"Pl\\u00e1tanos\",\"Mango\"]}},\"y_range\":{\"type\":\"object\",\"name\":\"DataRange1d\",\"id\":\"p1670\"},\"x_scale\":{\"type\":\"object\",\"name\":\"CategoricalScale\",\"id\":\"p1679\"},\"y_scale\":{\"type\":\"object\",\"name\":\"LinearScale\",\"id\":\"p1680\"},\"title\":{\"type\":\"object\",\"name\":\"Title\",\"id\":\"p1671\",\"attributes\":{\"text\":\"Volumen de ventas\"}},\"renderers\":[{\"type\":\"object\",\"name\":\"GlyphRenderer\",\"id\":\"p1708\",\"attributes\":{\"data_source\":{\"type\":\"object\",\"name\":\"ColumnDataSource\",\"id\":\"p1702\",\"attributes\":{\"selected\":{\"type\":\"object\",\"name\":\"Selection\",\"id\":\"p1703\",\"attributes\":{\"indices\":[],\"line_indices\":[]}},\"selection_policy\":{\"type\":\"object\",\"name\":\"UnionRenderers\",\"id\":\"p1704\"},\"data\":{\"type\":\"map\",\"entries\":[[\"x\",{\"type\":\"ndarray\",\"array\":[\"Naranjas\",\"Fresas\",\"Manzanas\",\"Pl\\u00e1tanos\",\"Mango\"],\"shape\":[5],\"dtype\":\"object\",\"order\":\"little\"}],[\"top\",{\"type\":\"ndarray\",\"array\":{\"type\":\"bytes\",\"data\":\"twIAAHoDAAAPAQAArgEAAGgDAAA=\"},\"shape\":[5],\"dtype\":\"int32\",\"order\":\"little\"}],[\"fill_color\",[\"#DF5837\",\"#A9E915\",\"#CA09A9\",\"#1E82A8\",\"#F9E13A\"]]]}}},\"view\":{\"type\":\"object\",\"name\":\"CDSView\",\"id\":\"p1709\",\"attributes\":{\"filter\":{\"type\":\"object\",\"name\":\"AllIndices\",\"id\":\"p1710\"}}},\"glyph\":{\"type\":\"object\",\"name\":\"VBar\",\"id\":\"p1705\",\"attributes\":{\"x\":{\"type\":\"field\",\"field\":\"x\"},\"width\":{\"type\":\"value\",\"value\":0.9},\"top\":{\"type\":\"field\",\"field\":\"top\"},\"line_color\":{\"type\":\"value\",\"value\":\"#1f77b4\"},\"fill_color\":{\"type\":\"field\",\"field\":\"fill_color\"},\"fill_alpha\":{\"type\":\"value\",\"value\":0.6}}},\"nonselection_glyph\":{\"type\":\"object\",\"name\":\"VBar\",\"id\":\"p1706\",\"attributes\":{\"x\":{\"type\":\"field\",\"field\":\"x\"},\"width\":{\"type\":\"value\",\"value\":0.9},\"top\":{\"type\":\"field\",\"field\":\"top\"},\"line_color\":{\"type\":\"value\",\"value\":\"#1f77b4\"},\"line_alpha\":{\"type\":\"value\",\"value\":0.1},\"fill_color\":{\"type\":\"field\",\"field\":\"fill_color\"},\"fill_alpha\":{\"type\":\"value\",\"value\":0.1},\"hatch_alpha\":{\"type\":\"value\",\"value\":0.1}}},\"muted_glyph\":{\"type\":\"object\",\"name\":\"VBar\",\"id\":\"p1707\",\"attributes\":{\"x\":{\"type\":\"field\",\"field\":\"x\"},\"width\":{\"type\":\"value\",\"value\":0.9},\"top\":{\"type\":\"field\",\"field\":\"top\"},\"line_color\":{\"type\":\"value\",\"value\":\"#1f77b4\"},\"line_alpha\":{\"type\":\"value\",\"value\":0.2},\"fill_color\":{\"type\":\"field\",\"field\":\"fill_color\"},\"fill_alpha\":{\"type\":\"value\",\"value\":0.2},\"hatch_alpha\":{\"type\":\"value\",\"value\":0.2}}}}}],\"toolbar\":{\"type\":\"object\",\"name\":\"Toolbar\",\"id\":\"p1677\",\"attributes\":{\"tools\":[{\"type\":\"object\",\"name\":\"PanTool\",\"id\":\"p1691\"},{\"type\":\"object\",\"name\":\"WheelZoomTool\",\"id\":\"p1692\",\"attributes\":{\"renderers\":\"auto\"}},{\"type\":\"object\",\"name\":\"BoxZoomTool\",\"id\":\"p1693\",\"attributes\":{\"overlay\":{\"type\":\"object\",\"name\":\"BoxAnnotation\",\"id\":\"p1694\",\"attributes\":{\"syncable\":false,\"level\":\"overlay\",\"visible\":false,\"left\":{\"type\":\"number\",\"value\":\"nan\"},\"right\":{\"type\":\"number\",\"value\":\"nan\"},\"top\":{\"type\":\"number\",\"value\":\"nan\"},\"bottom\":{\"type\":\"number\",\"value\":\"nan\"},\"left_units\":\"canvas\",\"right_units\":\"canvas\",\"top_units\":\"canvas\",\"bottom_units\":\"canvas\",\"line_color\":\"black\",\"line_alpha\":1.0,\"line_width\":2,\"line_dash\":[4,4],\"fill_color\":\"lightgrey\",\"fill_alpha\":0.5}}}},{\"type\":\"object\",\"name\":\"SaveTool\",\"id\":\"p1699\"},{\"type\":\"object\",\"name\":\"ResetTool\",\"id\":\"p1700\"},{\"type\":\"object\",\"name\":\"HelpTool\",\"id\":\"p1701\"}]}},\"left\":[{\"type\":\"object\",\"name\":\"LinearAxis\",\"id\":\"p1686\",\"attributes\":{\"ticker\":{\"type\":\"object\",\"name\":\"BasicTicker\",\"id\":\"p1687\",\"attributes\":{\"mantissas\":[1,2,5]}},\"formatter\":{\"type\":\"object\",\"name\":\"BasicTickFormatter\",\"id\":\"p1688\"},\"major_label_policy\":{\"type\":\"object\",\"name\":\"AllLabels\",\"id\":\"p1689\"}}}],\"below\":[{\"type\":\"object\",\"name\":\"CategoricalAxis\",\"id\":\"p1681\",\"attributes\":{\"ticker\":{\"type\":\"object\",\"name\":\"CategoricalTicker\",\"id\":\"p1682\"},\"formatter\":{\"type\":\"object\",\"name\":\"CategoricalTickFormatter\",\"id\":\"p1683\"},\"major_label_policy\":{\"type\":\"object\",\"name\":\"AllLabels\",\"id\":\"p1684\"}}}],\"center\":[{\"type\":\"object\",\"name\":\"Grid\",\"id\":\"p1685\",\"attributes\":{\"axis\":{\"id\":\"p1681\"}}},{\"type\":\"object\",\"name\":\"Grid\",\"id\":\"p1690\",\"attributes\":{\"dimension\":1,\"axis\":{\"id\":\"p1686\"}}}]}}]}};\n",
       "  const render_items = [{\"docid\":\"2f756101-ec53-43ce-b231-912fa469fad5\",\"roots\":{\"p1668\":\"e0d767ba-9d71-4bad-a660-eca1669a3c5e\"},\"root_ids\":[\"p1668\"]}];\n",
       "  void root.Bokeh.embed.embed_items_notebook(docs_json, render_items);\n",
       "  }\n",
       "  if (root.Bokeh !== undefined) {\n",
       "    embed_document(root);\n",
       "  } else {\n",
       "    let attempts = 0;\n",
       "    const timer = setInterval(function(root) {\n",
       "      if (root.Bokeh !== undefined) {\n",
       "        clearInterval(timer);\n",
       "        embed_document(root);\n",
       "      } else {\n",
       "        attempts++;\n",
       "        if (attempts > 100) {\n",
       "          clearInterval(timer);\n",
       "          console.log(\"Bokeh: ERROR: Unable to run BokehJS code because BokehJS library is missing\");\n",
       "        }\n",
       "      }\n",
       "    }, 10, root)\n",
       "  }\n",
       "})(window);"
      ],
      "application/vnd.bokehjs_exec.v0+json": ""
     },
     "metadata": {
      "application/vnd.bokehjs_exec.v0+json": {
       "id": "p1668"
      }
     },
     "output_type": "display_data"
    }
   ],
   "source": [
    "p.vbar(x=df['Productos'], top=df['Volumen'], \n",
    "       width=0.9, \n",
    "       fill_color=['#DF5837', '#A9E915', '#CA09A9', '#1E82A8', '#F9E13A'], \n",
    "       fill_alpha=0.6)\n",
    "\n",
    "show(p)"
   ]
  },
  {
   "cell_type": "code",
   "execution_count": 112,
   "id": "f02f09ae-cc29-45ed-bb89-2a1e1eae3a3e",
   "metadata": {},
   "outputs": [
    {
     "name": "stderr",
     "output_type": "stream",
     "text": [
      "BokehDeprecationWarning: 'circle() method with size value' was deprecated in Bokeh 3.4.0 and will be removed, use 'scatter(size=...) instead' instead.\n"
     ]
    },
    {
     "data": {
      "text/html": [
       "\n",
       "  <div id=\"bd2c2bf1-79dc-46c3-95f3-e7a8806721e2\" data-root-id=\"p1721\" style=\"display: contents;\"></div>\n"
      ]
     },
     "metadata": {},
     "output_type": "display_data"
    },
    {
     "data": {
      "application/javascript": [
       "(function(root) {\n",
       "  function embed_document(root) {\n",
       "  const docs_json = {\"5144c97e-b6ed-4a50-94c5-b01396b38347\":{\"version\":\"3.4.1\",\"title\":\"Bokeh Application\",\"roots\":[{\"type\":\"object\",\"name\":\"Figure\",\"id\":\"p1721\",\"attributes\":{\"height\":400,\"x_range\":{\"type\":\"object\",\"name\":\"DataRange1d\",\"id\":\"p1722\"},\"y_range\":{\"type\":\"object\",\"name\":\"DataRange1d\",\"id\":\"p1723\"},\"x_scale\":{\"type\":\"object\",\"name\":\"LinearScale\",\"id\":\"p1730\"},\"y_scale\":{\"type\":\"object\",\"name\":\"LinearScale\",\"id\":\"p1731\"},\"title\":{\"type\":\"object\",\"name\":\"Title\",\"id\":\"p1728\"},\"renderers\":[{\"type\":\"object\",\"name\":\"GlyphRenderer\",\"id\":\"p1762\",\"attributes\":{\"data_source\":{\"type\":\"object\",\"name\":\"ColumnDataSource\",\"id\":\"p1753\",\"attributes\":{\"selected\":{\"type\":\"object\",\"name\":\"Selection\",\"id\":\"p1754\",\"attributes\":{\"indices\":[],\"line_indices\":[]}},\"selection_policy\":{\"type\":\"object\",\"name\":\"UnionRenderers\",\"id\":\"p1755\"},\"data\":{\"type\":\"map\",\"entries\":[[\"index\",{\"type\":\"ndarray\",\"array\":{\"type\":\"bytes\",\"data\":\"AAAAAAEAAAACAAAAAwAAAAQAAAA=\"},\"shape\":[5],\"dtype\":\"int32\",\"order\":\"little\"}],[\"Productos\",{\"type\":\"ndarray\",\"array\":[\"Naranjas\",\"Fresas\",\"Manzanas\",\"Pl\\u00e1tanos\",\"Mango\"],\"shape\":[5],\"dtype\":\"object\",\"order\":\"little\"}],[\"Volumen\",{\"type\":\"ndarray\",\"array\":{\"type\":\"bytes\",\"data\":\"twIAAHoDAAAPAQAArgEAAGgDAAA=\"},\"shape\":[5],\"dtype\":\"int32\",\"order\":\"little\"}],[\"Ingresos\",{\"type\":\"ndarray\",\"array\":{\"type\":\"bytes\",\"data\":\"cTMAAMFgAAD2QgAAxkkAABw3AAA=\"},\"shape\":[5],\"dtype\":\"int32\",\"order\":\"little\"}]]}}},\"view\":{\"type\":\"object\",\"name\":\"CDSView\",\"id\":\"p1763\",\"attributes\":{\"filter\":{\"type\":\"object\",\"name\":\"AllIndices\",\"id\":\"p1764\"}}},\"glyph\":{\"type\":\"object\",\"name\":\"Scatter\",\"id\":\"p1759\",\"attributes\":{\"x\":{\"type\":\"field\",\"field\":\"Volumen\"},\"y\":{\"type\":\"field\",\"field\":\"Ingresos\"},\"size\":{\"type\":\"value\",\"value\":20},\"line_color\":{\"type\":\"field\",\"field\":\"Ingresos\",\"transform\":{\"type\":\"object\",\"name\":\"LinearColorMapper\",\"id\":\"p1718\",\"attributes\":{\"palette\":[\"#440154\",\"#440255\",\"#440357\",\"#450558\",\"#45065A\",\"#45085B\",\"#46095C\",\"#460B5E\",\"#460C5F\",\"#460E61\",\"#470F62\",\"#471163\",\"#471265\",\"#471466\",\"#471567\",\"#471669\",\"#47186A\",\"#48196B\",\"#481A6C\",\"#481C6E\",\"#481D6F\",\"#481E70\",\"#482071\",\"#482172\",\"#482273\",\"#482374\",\"#472575\",\"#472676\",\"#472777\",\"#472878\",\"#472A79\",\"#472B7A\",\"#472C7B\",\"#462D7C\",\"#462F7C\",\"#46307D\",\"#46317E\",\"#45327F\",\"#45347F\",\"#453580\",\"#453681\",\"#443781\",\"#443982\",\"#433A83\",\"#433B83\",\"#433C84\",\"#423D84\",\"#423E85\",\"#424085\",\"#414186\",\"#414286\",\"#404387\",\"#404487\",\"#3F4587\",\"#3F4788\",\"#3E4888\",\"#3E4989\",\"#3D4A89\",\"#3D4B89\",\"#3D4C89\",\"#3C4D8A\",\"#3C4E8A\",\"#3B508A\",\"#3B518A\",\"#3A528B\",\"#3A538B\",\"#39548B\",\"#39558B\",\"#38568B\",\"#38578C\",\"#37588C\",\"#37598C\",\"#365A8C\",\"#365B8C\",\"#355C8C\",\"#355D8C\",\"#345E8D\",\"#345F8D\",\"#33608D\",\"#33618D\",\"#32628D\",\"#32638D\",\"#31648D\",\"#31658D\",\"#31668D\",\"#30678D\",\"#30688D\",\"#2F698D\",\"#2F6A8D\",\"#2E6B8E\",\"#2E6C8E\",\"#2E6D8E\",\"#2D6E8E\",\"#2D6F8E\",\"#2C708E\",\"#2C718E\",\"#2C728E\",\"#2B738E\",\"#2B748E\",\"#2A758E\",\"#2A768E\",\"#2A778E\",\"#29788E\",\"#29798E\",\"#287A8E\",\"#287A8E\",\"#287B8E\",\"#277C8E\",\"#277D8E\",\"#277E8E\",\"#267F8E\",\"#26808E\",\"#26818E\",\"#25828E\",\"#25838D\",\"#24848D\",\"#24858D\",\"#24868D\",\"#23878D\",\"#23888D\",\"#23898D\",\"#22898D\",\"#228A8D\",\"#228B8D\",\"#218C8D\",\"#218D8C\",\"#218E8C\",\"#208F8C\",\"#20908C\",\"#20918C\",\"#1F928C\",\"#1F938B\",\"#1F948B\",\"#1F958B\",\"#1F968B\",\"#1E978A\",\"#1E988A\",\"#1E998A\",\"#1E998A\",\"#1E9A89\",\"#1E9B89\",\"#1E9C89\",\"#1E9D88\",\"#1E9E88\",\"#1E9F88\",\"#1EA087\",\"#1FA187\",\"#1FA286\",\"#1FA386\",\"#20A485\",\"#20A585\",\"#21A685\",\"#21A784\",\"#22A784\",\"#23A883\",\"#23A982\",\"#24AA82\",\"#25AB81\",\"#26AC81\",\"#27AD80\",\"#28AE7F\",\"#29AF7F\",\"#2AB07E\",\"#2BB17D\",\"#2CB17D\",\"#2EB27C\",\"#2FB37B\",\"#30B47A\",\"#32B57A\",\"#33B679\",\"#35B778\",\"#36B877\",\"#38B976\",\"#39B976\",\"#3BBA75\",\"#3DBB74\",\"#3EBC73\",\"#40BD72\",\"#42BE71\",\"#44BE70\",\"#45BF6F\",\"#47C06E\",\"#49C16D\",\"#4BC26C\",\"#4DC26B\",\"#4FC369\",\"#51C468\",\"#53C567\",\"#55C666\",\"#57C665\",\"#59C764\",\"#5BC862\",\"#5EC961\",\"#60C960\",\"#62CA5F\",\"#64CB5D\",\"#67CC5C\",\"#69CC5B\",\"#6BCD59\",\"#6DCE58\",\"#70CE56\",\"#72CF55\",\"#74D054\",\"#77D052\",\"#79D151\",\"#7CD24F\",\"#7ED24E\",\"#81D34C\",\"#83D34B\",\"#86D449\",\"#88D547\",\"#8BD546\",\"#8DD644\",\"#90D643\",\"#92D741\",\"#95D73F\",\"#97D83E\",\"#9AD83C\",\"#9DD93A\",\"#9FD938\",\"#A2DA37\",\"#A5DA35\",\"#A7DB33\",\"#AADB32\",\"#ADDC30\",\"#AFDC2E\",\"#B2DD2C\",\"#B5DD2B\",\"#B7DD29\",\"#BADE27\",\"#BDDE26\",\"#BFDF24\",\"#C2DF22\",\"#C5DF21\",\"#C7E01F\",\"#CAE01E\",\"#CDE01D\",\"#CFE11C\",\"#D2E11B\",\"#D4E11A\",\"#D7E219\",\"#DAE218\",\"#DCE218\",\"#DFE318\",\"#E1E318\",\"#E4E318\",\"#E7E419\",\"#E9E419\",\"#ECE41A\",\"#EEE51B\",\"#F1E51C\",\"#F3E51E\",\"#F6E61F\",\"#F8E621\",\"#FAE622\",\"#FDE724\"],\"low\":13169,\"high\":24769}}},\"line_alpha\":{\"type\":\"value\",\"value\":0.6},\"fill_color\":{\"type\":\"field\",\"field\":\"Ingresos\",\"transform\":{\"id\":\"p1718\"}},\"fill_alpha\":{\"type\":\"value\",\"value\":0.6},\"hatch_color\":{\"type\":\"field\",\"field\":\"Ingresos\",\"transform\":{\"id\":\"p1718\"}},\"hatch_alpha\":{\"type\":\"value\",\"value\":0.6}}},\"nonselection_glyph\":{\"type\":\"object\",\"name\":\"Scatter\",\"id\":\"p1760\",\"attributes\":{\"x\":{\"type\":\"field\",\"field\":\"Volumen\"},\"y\":{\"type\":\"field\",\"field\":\"Ingresos\"},\"size\":{\"type\":\"value\",\"value\":20},\"line_color\":{\"type\":\"field\",\"field\":\"Ingresos\",\"transform\":{\"id\":\"p1718\"}},\"line_alpha\":{\"type\":\"value\",\"value\":0.1},\"fill_color\":{\"type\":\"field\",\"field\":\"Ingresos\",\"transform\":{\"id\":\"p1718\"}},\"fill_alpha\":{\"type\":\"value\",\"value\":0.1},\"hatch_color\":{\"type\":\"field\",\"field\":\"Ingresos\",\"transform\":{\"id\":\"p1718\"}},\"hatch_alpha\":{\"type\":\"value\",\"value\":0.1}}},\"muted_glyph\":{\"type\":\"object\",\"name\":\"Scatter\",\"id\":\"p1761\",\"attributes\":{\"x\":{\"type\":\"field\",\"field\":\"Volumen\"},\"y\":{\"type\":\"field\",\"field\":\"Ingresos\"},\"size\":{\"type\":\"value\",\"value\":20},\"line_color\":{\"type\":\"field\",\"field\":\"Ingresos\",\"transform\":{\"id\":\"p1718\"}},\"line_alpha\":{\"type\":\"value\",\"value\":0.2},\"fill_color\":{\"type\":\"field\",\"field\":\"Ingresos\",\"transform\":{\"id\":\"p1718\"}},\"fill_alpha\":{\"type\":\"value\",\"value\":0.2},\"hatch_color\":{\"type\":\"field\",\"field\":\"Ingresos\",\"transform\":{\"id\":\"p1718\"}},\"hatch_alpha\":{\"type\":\"value\",\"value\":0.2}}}}}],\"toolbar\":{\"type\":\"object\",\"name\":\"Toolbar\",\"id\":\"p1729\",\"attributes\":{\"tools\":[{\"type\":\"object\",\"name\":\"PanTool\",\"id\":\"p1742\"},{\"type\":\"object\",\"name\":\"WheelZoomTool\",\"id\":\"p1743\",\"attributes\":{\"renderers\":\"auto\"}},{\"type\":\"object\",\"name\":\"BoxZoomTool\",\"id\":\"p1744\",\"attributes\":{\"overlay\":{\"type\":\"object\",\"name\":\"BoxAnnotation\",\"id\":\"p1745\",\"attributes\":{\"syncable\":false,\"level\":\"overlay\",\"visible\":false,\"left\":{\"type\":\"number\",\"value\":\"nan\"},\"right\":{\"type\":\"number\",\"value\":\"nan\"},\"top\":{\"type\":\"number\",\"value\":\"nan\"},\"bottom\":{\"type\":\"number\",\"value\":\"nan\"},\"left_units\":\"canvas\",\"right_units\":\"canvas\",\"top_units\":\"canvas\",\"bottom_units\":\"canvas\",\"line_color\":\"black\",\"line_alpha\":1.0,\"line_width\":2,\"line_dash\":[4,4],\"fill_color\":\"lightgrey\",\"fill_alpha\":0.5}}}},{\"type\":\"object\",\"name\":\"SaveTool\",\"id\":\"p1750\"},{\"type\":\"object\",\"name\":\"ResetTool\",\"id\":\"p1751\"},{\"type\":\"object\",\"name\":\"HelpTool\",\"id\":\"p1752\"}]}},\"left\":[{\"type\":\"object\",\"name\":\"LinearAxis\",\"id\":\"p1737\",\"attributes\":{\"ticker\":{\"type\":\"object\",\"name\":\"BasicTicker\",\"id\":\"p1738\",\"attributes\":{\"mantissas\":[1,2,5]}},\"formatter\":{\"type\":\"object\",\"name\":\"BasicTickFormatter\",\"id\":\"p1739\"},\"axis_label\":\"Ingresos totales\",\"major_label_policy\":{\"type\":\"object\",\"name\":\"AllLabels\",\"id\":\"p1740\"}}}],\"right\":[{\"type\":\"object\",\"name\":\"ColorBar\",\"id\":\"p1719\",\"attributes\":{\"location\":[0,0],\"title\":\"Ingresos\",\"major_label_policy\":{\"type\":\"object\",\"name\":\"NoOverlap\",\"id\":\"p1720\"},\"label_standoff\":12,\"color_mapper\":{\"id\":\"p1718\"}}}],\"below\":[{\"type\":\"object\",\"name\":\"LinearAxis\",\"id\":\"p1732\",\"attributes\":{\"ticker\":{\"type\":\"object\",\"name\":\"BasicTicker\",\"id\":\"p1733\",\"attributes\":{\"mantissas\":[1,2,5]}},\"formatter\":{\"type\":\"object\",\"name\":\"BasicTickFormatter\",\"id\":\"p1734\"},\"axis_label\":\"Volumen de ventas\",\"major_label_policy\":{\"type\":\"object\",\"name\":\"AllLabels\",\"id\":\"p1735\"}}}],\"center\":[{\"type\":\"object\",\"name\":\"Grid\",\"id\":\"p1736\",\"attributes\":{\"axis\":{\"id\":\"p1732\"}}},{\"type\":\"object\",\"name\":\"Grid\",\"id\":\"p1741\",\"attributes\":{\"dimension\":1,\"axis\":{\"id\":\"p1737\"}}}]}}]}};\n",
       "  const render_items = [{\"docid\":\"5144c97e-b6ed-4a50-94c5-b01396b38347\",\"roots\":{\"p1721\":\"bd2c2bf1-79dc-46c3-95f3-e7a8806721e2\"},\"root_ids\":[\"p1721\"]}];\n",
       "  void root.Bokeh.embed.embed_items_notebook(docs_json, render_items);\n",
       "  }\n",
       "  if (root.Bokeh !== undefined) {\n",
       "    embed_document(root);\n",
       "  } else {\n",
       "    let attempts = 0;\n",
       "    const timer = setInterval(function(root) {\n",
       "      if (root.Bokeh !== undefined) {\n",
       "        clearInterval(timer);\n",
       "        embed_document(root);\n",
       "      } else {\n",
       "        attempts++;\n",
       "        if (attempts > 100) {\n",
       "          clearInterval(timer);\n",
       "          console.log(\"Bokeh: ERROR: Unable to run BokehJS code because BokehJS library is missing\");\n",
       "        }\n",
       "      }\n",
       "    }, 10, root)\n",
       "  }\n",
       "})(window);"
      ],
      "application/vnd.bokehjs_exec.v0+json": ""
     },
     "metadata": {
      "application/vnd.bokehjs_exec.v0+json": {
       "id": "p1721"
      }
     },
     "output_type": "display_data"
    }
   ],
   "source": [
    "from bokeh.models import LinearColorMapper, ColorBar\n",
    "from bokeh.transform import transform\n",
    "\n",
    "color_mapper = LinearColorMapper(palette=\"Viridis256\", low=df.Ingresos.min(), high=df.Ingresos.max())\n",
    "color_bar = ColorBar(color_mapper=color_mapper, label_standoff=12, location=(0,0), title='Ingresos')\n",
    "\n",
    "p = figure(x_axis_label='Volumen de ventas', # Otra forma de añadir texto en los ejes\n",
    "           y_axis_label='Ingresos totales', \n",
    "           height=400)\n",
    "\n",
    "p.circle(x='Volumen', y='Ingresos', \n",
    "         color=transform('Ingresos', color_mapper), \n",
    "         size=20, alpha=0.6, \n",
    "         source=df)\n",
    "\n",
    "p.add_layout(color_bar, 'right') # Posición del gradiente de color\n",
    "show(p)"
   ]
  },
  {
   "cell_type": "markdown",
   "id": "388f9408-d38d-47ab-a00c-dace44df174c",
   "metadata": {},
   "source": [
    "### HoverTool"
   ]
  },
  {
   "cell_type": "code",
   "execution_count": 115,
   "id": "7598c191-5d4b-48f5-a749-caca8f6ad966",
   "metadata": {},
   "outputs": [
    {
     "data": {
      "text/plain": [
       "['Productos',\n",
       " 'Volumen_count',\n",
       " 'Volumen_mean',\n",
       " 'Volumen_std',\n",
       " 'Volumen_min',\n",
       " 'Volumen_25%',\n",
       " 'Volumen_50%',\n",
       " 'Volumen_75%',\n",
       " 'Volumen_max',\n",
       " 'Ingresos_count',\n",
       " 'Ingresos_mean',\n",
       " 'Ingresos_std',\n",
       " 'Ingresos_min',\n",
       " 'Ingresos_25%',\n",
       " 'Ingresos_50%',\n",
       " 'Ingresos_75%',\n",
       " 'Ingresos_max']"
      ]
     },
     "execution_count": 115,
     "metadata": {},
     "output_type": "execute_result"
    }
   ],
   "source": [
    "from bokeh.models import ColumnDataSource, HoverTool\n",
    "from bokeh.transform import factor_cmap\n",
    "from bokeh.palettes import Spectral5\n",
    "\n",
    "source = ColumnDataSource(df)\n",
    "source.column_names\n",
    "\n",
    "groups = df.groupby(by=['Productos'])\n",
    "source_dos = ColumnDataSource(groups)\n",
    "source_dos.column_names"
   ]
  },
  {
   "cell_type": "code",
   "execution_count": 117,
   "id": "cea67dd1-df7c-43c1-99d7-b46cbd991bc0",
   "metadata": {},
   "outputs": [
    {
     "data": {
      "text/html": [
       "\n",
       "  <div id=\"cb96fa59-d47a-4cdb-85fb-b46805e3926f\" data-root-id=\"p1774\" style=\"display: contents;\"></div>\n"
      ]
     },
     "metadata": {},
     "output_type": "display_data"
    },
    {
     "data": {
      "application/javascript": [
       "(function(root) {\n",
       "  function embed_document(root) {\n",
       "  const docs_json = {\"d467855b-db70-45e6-8850-20885c0a349a\":{\"version\":\"3.4.1\",\"title\":\"Bokeh Application\",\"roots\":[{\"type\":\"object\",\"name\":\"Figure\",\"id\":\"p1774\",\"attributes\":{\"height\":350,\"x_range\":{\"type\":\"object\",\"name\":\"FactorRange\",\"id\":\"p1784\",\"attributes\":{\"factors\":[\"Naranjas\",\"Fresas\",\"Manzanas\",\"Pl\\u00e1tanos\",\"Mango\"]}},\"y_range\":{\"type\":\"object\",\"name\":\"DataRange1d\",\"id\":\"p1776\"},\"x_scale\":{\"type\":\"object\",\"name\":\"CategoricalScale\",\"id\":\"p1785\"},\"y_scale\":{\"type\":\"object\",\"name\":\"LinearScale\",\"id\":\"p1786\"},\"title\":{\"type\":\"object\",\"name\":\"Title\",\"id\":\"p1777\",\"attributes\":{\"text\":\"Volumen de ventas\"}},\"renderers\":[{\"type\":\"object\",\"name\":\"GlyphRenderer\",\"id\":\"p1815\",\"attributes\":{\"data_source\":{\"type\":\"object\",\"name\":\"ColumnDataSource\",\"id\":\"p1768\",\"attributes\":{\"selected\":{\"type\":\"object\",\"name\":\"Selection\",\"id\":\"p1769\",\"attributes\":{\"indices\":[],\"line_indices\":[]}},\"selection_policy\":{\"type\":\"object\",\"name\":\"UnionRenderers\",\"id\":\"p1770\"},\"data\":{\"type\":\"map\",\"entries\":[[\"index\",{\"type\":\"ndarray\",\"array\":{\"type\":\"bytes\",\"data\":\"AAAAAAEAAAACAAAAAwAAAAQAAAA=\"},\"shape\":[5],\"dtype\":\"int32\",\"order\":\"little\"}],[\"Productos\",{\"type\":\"ndarray\",\"array\":[\"Naranjas\",\"Fresas\",\"Manzanas\",\"Pl\\u00e1tanos\",\"Mango\"],\"shape\":[5],\"dtype\":\"object\",\"order\":\"little\"}],[\"Volumen\",{\"type\":\"ndarray\",\"array\":{\"type\":\"bytes\",\"data\":\"twIAAHoDAAAPAQAArgEAAGgDAAA=\"},\"shape\":[5],\"dtype\":\"int32\",\"order\":\"little\"}],[\"Ingresos\",{\"type\":\"ndarray\",\"array\":{\"type\":\"bytes\",\"data\":\"cTMAAMFgAAD2QgAAxkkAABw3AAA=\"},\"shape\":[5],\"dtype\":\"int32\",\"order\":\"little\"}]]}}},\"view\":{\"type\":\"object\",\"name\":\"CDSView\",\"id\":\"p1816\",\"attributes\":{\"filter\":{\"type\":\"object\",\"name\":\"AllIndices\",\"id\":\"p1817\"}}},\"glyph\":{\"type\":\"object\",\"name\":\"VBar\",\"id\":\"p1812\",\"attributes\":{\"x\":{\"type\":\"field\",\"field\":\"Productos\"},\"width\":{\"type\":\"value\",\"value\":0.5},\"top\":{\"type\":\"field\",\"field\":\"Volumen\"},\"line_color\":{\"type\":\"field\",\"field\":\"Productos\",\"transform\":{\"type\":\"object\",\"name\":\"CategoricalColorMapper\",\"id\":\"p1808\",\"attributes\":{\"palette\":[\"#2b83ba\",\"#abdda4\",\"#ffffbf\",\"#fdae61\",\"#d7191c\"],\"factors\":[\"Naranjas\",\"Fresas\",\"Manzanas\",\"Pl\\u00e1tanos\",\"Mango\"]}}},\"fill_color\":{\"type\":\"field\",\"field\":\"Productos\",\"transform\":{\"id\":\"p1808\"}},\"hatch_color\":{\"type\":\"field\",\"field\":\"Productos\",\"transform\":{\"id\":\"p1808\"}}}},\"nonselection_glyph\":{\"type\":\"object\",\"name\":\"VBar\",\"id\":\"p1813\",\"attributes\":{\"x\":{\"type\":\"field\",\"field\":\"Productos\"},\"width\":{\"type\":\"value\",\"value\":0.5},\"top\":{\"type\":\"field\",\"field\":\"Volumen\"},\"line_color\":{\"type\":\"field\",\"field\":\"Productos\",\"transform\":{\"id\":\"p1808\"}},\"line_alpha\":{\"type\":\"value\",\"value\":0.1},\"fill_color\":{\"type\":\"field\",\"field\":\"Productos\",\"transform\":{\"id\":\"p1808\"}},\"fill_alpha\":{\"type\":\"value\",\"value\":0.1},\"hatch_color\":{\"type\":\"field\",\"field\":\"Productos\",\"transform\":{\"id\":\"p1808\"}},\"hatch_alpha\":{\"type\":\"value\",\"value\":0.1}}},\"muted_glyph\":{\"type\":\"object\",\"name\":\"VBar\",\"id\":\"p1814\",\"attributes\":{\"x\":{\"type\":\"field\",\"field\":\"Productos\"},\"width\":{\"type\":\"value\",\"value\":0.5},\"top\":{\"type\":\"field\",\"field\":\"Volumen\"},\"line_color\":{\"type\":\"field\",\"field\":\"Productos\",\"transform\":{\"id\":\"p1808\"}},\"line_alpha\":{\"type\":\"value\",\"value\":0.2},\"fill_color\":{\"type\":\"field\",\"field\":\"Productos\",\"transform\":{\"id\":\"p1808\"}},\"fill_alpha\":{\"type\":\"value\",\"value\":0.2},\"hatch_color\":{\"type\":\"field\",\"field\":\"Productos\",\"transform\":{\"id\":\"p1808\"}},\"hatch_alpha\":{\"type\":\"value\",\"value\":0.2}}}}}],\"toolbar\":{\"type\":\"object\",\"name\":\"Toolbar\",\"id\":\"p1783\",\"attributes\":{\"tools\":[{\"type\":\"object\",\"name\":\"PanTool\",\"id\":\"p1797\"},{\"type\":\"object\",\"name\":\"WheelZoomTool\",\"id\":\"p1798\",\"attributes\":{\"renderers\":\"auto\"}},{\"type\":\"object\",\"name\":\"BoxZoomTool\",\"id\":\"p1799\",\"attributes\":{\"overlay\":{\"type\":\"object\",\"name\":\"BoxAnnotation\",\"id\":\"p1800\",\"attributes\":{\"syncable\":false,\"level\":\"overlay\",\"visible\":false,\"left\":{\"type\":\"number\",\"value\":\"nan\"},\"right\":{\"type\":\"number\",\"value\":\"nan\"},\"top\":{\"type\":\"number\",\"value\":\"nan\"},\"bottom\":{\"type\":\"number\",\"value\":\"nan\"},\"left_units\":\"canvas\",\"right_units\":\"canvas\",\"top_units\":\"canvas\",\"bottom_units\":\"canvas\",\"line_color\":\"black\",\"line_alpha\":1.0,\"line_width\":2,\"line_dash\":[4,4],\"fill_color\":\"lightgrey\",\"fill_alpha\":0.5}}}},{\"type\":\"object\",\"name\":\"SaveTool\",\"id\":\"p1805\"},{\"type\":\"object\",\"name\":\"ResetTool\",\"id\":\"p1806\"},{\"type\":\"object\",\"name\":\"HelpTool\",\"id\":\"p1807\"},{\"type\":\"object\",\"name\":\"HoverTool\",\"id\":\"p1818\",\"attributes\":{\"renderers\":\"auto\",\"tooltips\":[[\"Volumen de ventas\",\"@Volumen\"],[\"Ingresos totales\",\"@Ingresos\"]]}}]}},\"left\":[{\"type\":\"object\",\"name\":\"LinearAxis\",\"id\":\"p1792\",\"attributes\":{\"ticker\":{\"type\":\"object\",\"name\":\"BasicTicker\",\"id\":\"p1793\",\"attributes\":{\"mantissas\":[1,2,5]}},\"formatter\":{\"type\":\"object\",\"name\":\"BasicTickFormatter\",\"id\":\"p1794\"},\"major_label_policy\":{\"type\":\"object\",\"name\":\"AllLabels\",\"id\":\"p1795\"}}}],\"below\":[{\"type\":\"object\",\"name\":\"CategoricalAxis\",\"id\":\"p1787\",\"attributes\":{\"ticker\":{\"type\":\"object\",\"name\":\"CategoricalTicker\",\"id\":\"p1788\"},\"formatter\":{\"type\":\"object\",\"name\":\"CategoricalTickFormatter\",\"id\":\"p1789\"},\"major_label_policy\":{\"type\":\"object\",\"name\":\"AllLabels\",\"id\":\"p1790\"}}}],\"center\":[{\"type\":\"object\",\"name\":\"Grid\",\"id\":\"p1791\",\"attributes\":{\"axis\":{\"id\":\"p1787\"}}},{\"type\":\"object\",\"name\":\"Grid\",\"id\":\"p1796\",\"attributes\":{\"dimension\":1,\"axis\":{\"id\":\"p1792\"}}}]}}]}};\n",
       "  const render_items = [{\"docid\":\"d467855b-db70-45e6-8850-20885c0a349a\",\"roots\":{\"p1774\":\"cb96fa59-d47a-4cdb-85fb-b46805e3926f\"},\"root_ids\":[\"p1774\"]}];\n",
       "  void root.Bokeh.embed.embed_items_notebook(docs_json, render_items);\n",
       "  }\n",
       "  if (root.Bokeh !== undefined) {\n",
       "    embed_document(root);\n",
       "  } else {\n",
       "    let attempts = 0;\n",
       "    const timer = setInterval(function(root) {\n",
       "      if (root.Bokeh !== undefined) {\n",
       "        clearInterval(timer);\n",
       "        embed_document(root);\n",
       "      } else {\n",
       "        attempts++;\n",
       "        if (attempts > 100) {\n",
       "          clearInterval(timer);\n",
       "          console.log(\"Bokeh: ERROR: Unable to run BokehJS code because BokehJS library is missing\");\n",
       "        }\n",
       "      }\n",
       "    }, 10, root)\n",
       "  }\n",
       "})(window);"
      ],
      "application/vnd.bokehjs_exec.v0+json": ""
     },
     "metadata": {
      "application/vnd.bokehjs_exec.v0+json": {
       "id": "p1774"
      }
     },
     "output_type": "display_data"
    }
   ],
   "source": [
    "products = source.data['Productos'].tolist()\n",
    "\n",
    "p = figure(x_range = products, height=350, title=\"Volumen de ventas\")\n",
    "\n",
    "color_map = factor_cmap(field_name='Productos', palette=Spectral5, factors=products)\n",
    "\n",
    "p.vbar(x='Productos', top='Volumen', source = source, width = 0.5, color=color_map)\n",
    "\n",
    "hover = HoverTool()\n",
    "hover.tooltips=[\n",
    "    ('Volumen de ventas', '@Volumen'),\n",
    "    ('Ingresos totales', '@Ingresos')\n",
    "]\n",
    "p.add_tools(hover)\n",
    "\n",
    "show(p)"
   ]
  },
  {
   "cell_type": "code",
   "execution_count": null,
   "id": "8c6d6d9f-ef88-4a14-844e-002c34ae3f0c",
   "metadata": {},
   "outputs": [],
   "source": []
  }
 ],
 "metadata": {
  "kernelspec": {
   "display_name": "Python 3 (ipykernel)",
   "language": "python",
   "name": "python3"
  },
  "language_info": {
   "codemirror_mode": {
    "name": "ipython",
    "version": 3
   },
   "file_extension": ".py",
   "mimetype": "text/x-python",
   "name": "python",
   "nbconvert_exporter": "python",
   "pygments_lexer": "ipython3",
   "version": "3.12.4"
  }
 },
 "nbformat": 4,
 "nbformat_minor": 5
}
