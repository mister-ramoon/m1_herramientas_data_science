{
 "cells": [
  {
   "cell_type": "markdown",
   "id": "b95ec396-718f-4b4b-b05b-b3349928085a",
   "metadata": {},
   "source": [
    "# CASO PRÁCTICO Python"
   ]
  },
  {
   "cell_type": "markdown",
   "id": "7b581710-f871-48d4-a800-0040425530ca",
   "metadata": {},
   "source": [
    "1. Convertir los archivos funds.csv y funding_rounds.csv a Pandas dataframes (los enlaces de descarga de los archivos se encuentran más abajo)."
   ]
  },
  {
   "cell_type": "code",
   "execution_count": 232,
   "id": "ce3402d0-bb85-494c-bd7b-7b37a7da07fc",
   "metadata": {},
   "outputs": [],
   "source": [
    "# Importar Pandas \n",
    "import pandas as pd"
   ]
  },
  {
   "cell_type": "code",
   "execution_count": 233,
   "id": "f22e09e4-8257-4986-b45e-42b7f36a2795",
   "metadata": {},
   "outputs": [
    {
     "data": {
      "text/html": [
       "<div>\n",
       "<style scoped>\n",
       "    .dataframe tbody tr th:only-of-type {\n",
       "        vertical-align: middle;\n",
       "    }\n",
       "\n",
       "    .dataframe tbody tr th {\n",
       "        vertical-align: top;\n",
       "    }\n",
       "\n",
       "    .dataframe thead th {\n",
       "        text-align: right;\n",
       "    }\n",
       "</style>\n",
       "<table border=\"1\" class=\"dataframe\">\n",
       "  <thead>\n",
       "    <tr style=\"text-align: right;\">\n",
       "      <th></th>\n",
       "      <th>id</th>\n",
       "      <th>fund_id</th>\n",
       "      <th>object_id</th>\n",
       "      <th>name</th>\n",
       "      <th>funded_at</th>\n",
       "      <th>raised_amount</th>\n",
       "      <th>raised_currency_code</th>\n",
       "      <th>source_url</th>\n",
       "      <th>source_description</th>\n",
       "      <th>created_at</th>\n",
       "      <th>updated_at</th>\n",
       "    </tr>\n",
       "  </thead>\n",
       "  <tbody>\n",
       "    <tr>\n",
       "      <th>0</th>\n",
       "      <td>1</td>\n",
       "      <td>1</td>\n",
       "      <td>f:371</td>\n",
       "      <td>Second Fund</td>\n",
       "      <td>2008-12-16</td>\n",
       "      <td>300000000.0</td>\n",
       "      <td>USD</td>\n",
       "      <td>http://www.pehub.com/26194/dfj-dragon-raising-...</td>\n",
       "      <td>peHub</td>\n",
       "      <td>2008-12-17 03:07:16</td>\n",
       "      <td>2008-12-17 03:07:16</td>\n",
       "    </tr>\n",
       "    <tr>\n",
       "      <th>1</th>\n",
       "      <td>4</td>\n",
       "      <td>4</td>\n",
       "      <td>f:17</td>\n",
       "      <td>Sequoia Israel Fourth Fund</td>\n",
       "      <td>2008-12-17</td>\n",
       "      <td>200750000.0</td>\n",
       "      <td>USD</td>\n",
       "      <td>http://www.pehub.com/26725/sequoia-israel-rais...</td>\n",
       "      <td>Sequoia Israel Raises Fourth Fund</td>\n",
       "      <td>2008-12-18 22:04:42</td>\n",
       "      <td>2008-12-18 22:04:42</td>\n",
       "    </tr>\n",
       "    <tr>\n",
       "      <th>2</th>\n",
       "      <td>5</td>\n",
       "      <td>5</td>\n",
       "      <td>f:951</td>\n",
       "      <td>Tenth fund</td>\n",
       "      <td>2008-08-11</td>\n",
       "      <td>650000000.0</td>\n",
       "      <td>USD</td>\n",
       "      <td>http://venturebeat.com/2008/08/11/interwest-cl...</td>\n",
       "      <td>Venture Beat</td>\n",
       "      <td>2008-12-31 09:47:51</td>\n",
       "      <td>2008-12-31 09:47:51</td>\n",
       "    </tr>\n",
       "    <tr>\n",
       "      <th>3</th>\n",
       "      <td>6</td>\n",
       "      <td>6</td>\n",
       "      <td>f:192</td>\n",
       "      <td>New funds acquire</td>\n",
       "      <td>NaN</td>\n",
       "      <td>625000000.0</td>\n",
       "      <td>USD</td>\n",
       "      <td>http://venturebeat.com/2008/07/28/us-venture-p...</td>\n",
       "      <td>U.S. Venture Partners raises $625M fund for ne...</td>\n",
       "      <td>2009-01-01 18:13:44</td>\n",
       "      <td>2009-01-01 18:16:27</td>\n",
       "    </tr>\n",
       "    <tr>\n",
       "      <th>4</th>\n",
       "      <td>7</td>\n",
       "      <td>7</td>\n",
       "      <td>f:519</td>\n",
       "      <td>Third fund</td>\n",
       "      <td>2008-05-20</td>\n",
       "      <td>200000000.0</td>\n",
       "      <td>USD</td>\n",
       "      <td>http://venturebeat.com/2008/05/20/disneys-stea...</td>\n",
       "      <td>Venture Beat</td>\n",
       "      <td>2009-01-03 09:51:58</td>\n",
       "      <td>2013-09-03 16:34:54</td>\n",
       "    </tr>\n",
       "  </tbody>\n",
       "</table>\n",
       "</div>"
      ],
      "text/plain": [
       "   id  fund_id object_id                        name   funded_at  \\\n",
       "0   1        1     f:371                 Second Fund  2008-12-16   \n",
       "1   4        4      f:17  Sequoia Israel Fourth Fund  2008-12-17   \n",
       "2   5        5     f:951                  Tenth fund  2008-08-11   \n",
       "3   6        6     f:192           New funds acquire         NaN   \n",
       "4   7        7     f:519                  Third fund  2008-05-20   \n",
       "\n",
       "   raised_amount raised_currency_code  \\\n",
       "0    300000000.0                  USD   \n",
       "1    200750000.0                  USD   \n",
       "2    650000000.0                  USD   \n",
       "3    625000000.0                  USD   \n",
       "4    200000000.0                  USD   \n",
       "\n",
       "                                          source_url  \\\n",
       "0  http://www.pehub.com/26194/dfj-dragon-raising-...   \n",
       "1  http://www.pehub.com/26725/sequoia-israel-rais...   \n",
       "2  http://venturebeat.com/2008/08/11/interwest-cl...   \n",
       "3  http://venturebeat.com/2008/07/28/us-venture-p...   \n",
       "4  http://venturebeat.com/2008/05/20/disneys-stea...   \n",
       "\n",
       "                                  source_description           created_at  \\\n",
       "0                                              peHub  2008-12-17 03:07:16   \n",
       "1                  Sequoia Israel Raises Fourth Fund  2008-12-18 22:04:42   \n",
       "2                                       Venture Beat  2008-12-31 09:47:51   \n",
       "3  U.S. Venture Partners raises $625M fund for ne...  2009-01-01 18:13:44   \n",
       "4                                       Venture Beat  2009-01-03 09:51:58   \n",
       "\n",
       "            updated_at  \n",
       "0  2008-12-17 03:07:16  \n",
       "1  2008-12-18 22:04:42  \n",
       "2  2008-12-31 09:47:51  \n",
       "3  2009-01-01 18:16:27  \n",
       "4  2013-09-03 16:34:54  "
      ]
     },
     "execution_count": 233,
     "metadata": {},
     "output_type": "execute_result"
    }
   ],
   "source": [
    "# Get csv funds\n",
    "funds = pd.read_csv('funds.csv')\n",
    "funds.head()"
   ]
  },
  {
   "cell_type": "code",
   "execution_count": 234,
   "id": "f868d46c-7cda-4c94-83dc-0247141fdab9",
   "metadata": {},
   "outputs": [
    {
     "data": {
      "text/html": [
       "<div>\n",
       "<style scoped>\n",
       "    .dataframe tbody tr th:only-of-type {\n",
       "        vertical-align: middle;\n",
       "    }\n",
       "\n",
       "    .dataframe tbody tr th {\n",
       "        vertical-align: top;\n",
       "    }\n",
       "\n",
       "    .dataframe thead th {\n",
       "        text-align: right;\n",
       "    }\n",
       "</style>\n",
       "<table border=\"1\" class=\"dataframe\">\n",
       "  <thead>\n",
       "    <tr style=\"text-align: right;\">\n",
       "      <th></th>\n",
       "      <th>id</th>\n",
       "      <th>funding_round_id</th>\n",
       "      <th>object_id</th>\n",
       "      <th>funded_at</th>\n",
       "      <th>funding_round_type</th>\n",
       "      <th>funding_round_code</th>\n",
       "      <th>raised_amount_usd</th>\n",
       "      <th>raised_amount</th>\n",
       "      <th>raised_currency_code</th>\n",
       "      <th>pre_money_valuation_usd</th>\n",
       "      <th>...</th>\n",
       "      <th>post_money_valuation</th>\n",
       "      <th>post_money_currency_code</th>\n",
       "      <th>participants</th>\n",
       "      <th>is_first_round</th>\n",
       "      <th>is_last_round</th>\n",
       "      <th>source_url</th>\n",
       "      <th>source_description</th>\n",
       "      <th>created_by</th>\n",
       "      <th>created_at</th>\n",
       "      <th>updated_at</th>\n",
       "    </tr>\n",
       "  </thead>\n",
       "  <tbody>\n",
       "    <tr>\n",
       "      <th>0</th>\n",
       "      <td>1</td>\n",
       "      <td>1</td>\n",
       "      <td>c:4</td>\n",
       "      <td>2006-12-01</td>\n",
       "      <td>series-b</td>\n",
       "      <td>b</td>\n",
       "      <td>8500000.0</td>\n",
       "      <td>8500000.0</td>\n",
       "      <td>USD</td>\n",
       "      <td>0.0</td>\n",
       "      <td>...</td>\n",
       "      <td>0.0</td>\n",
       "      <td>NaN</td>\n",
       "      <td>2</td>\n",
       "      <td>0</td>\n",
       "      <td>0</td>\n",
       "      <td>http://www.marketingvox.com/archives/2006/12/2...</td>\n",
       "      <td>NaN</td>\n",
       "      <td>initial-importer</td>\n",
       "      <td>2007-07-04 04:52:57</td>\n",
       "      <td>2008-02-27 23:14:29</td>\n",
       "    </tr>\n",
       "    <tr>\n",
       "      <th>1</th>\n",
       "      <td>2</td>\n",
       "      <td>2</td>\n",
       "      <td>c:5</td>\n",
       "      <td>2004-09-01</td>\n",
       "      <td>angel</td>\n",
       "      <td>angel</td>\n",
       "      <td>500000.0</td>\n",
       "      <td>500000.0</td>\n",
       "      <td>USD</td>\n",
       "      <td>0.0</td>\n",
       "      <td>...</td>\n",
       "      <td>0.0</td>\n",
       "      <td>USD</td>\n",
       "      <td>2</td>\n",
       "      <td>0</td>\n",
       "      <td>1</td>\n",
       "      <td>NaN</td>\n",
       "      <td>NaN</td>\n",
       "      <td>initial-importer</td>\n",
       "      <td>2007-05-27 06:08:18</td>\n",
       "      <td>2013-06-28 20:07:23</td>\n",
       "    </tr>\n",
       "    <tr>\n",
       "      <th>2</th>\n",
       "      <td>3</td>\n",
       "      <td>3</td>\n",
       "      <td>c:5</td>\n",
       "      <td>2005-05-01</td>\n",
       "      <td>series-a</td>\n",
       "      <td>a</td>\n",
       "      <td>12700000.0</td>\n",
       "      <td>12700000.0</td>\n",
       "      <td>USD</td>\n",
       "      <td>115000000.0</td>\n",
       "      <td>...</td>\n",
       "      <td>0.0</td>\n",
       "      <td>USD</td>\n",
       "      <td>3</td>\n",
       "      <td>0</td>\n",
       "      <td>0</td>\n",
       "      <td>http://www.techcrunch.com/2007/11/02/jim-breye...</td>\n",
       "      <td>Jim Breyer: Extra $500 Million Round For Faceb...</td>\n",
       "      <td>initial-importer</td>\n",
       "      <td>2007-05-27 06:09:10</td>\n",
       "      <td>2013-06-28 20:07:23</td>\n",
       "    </tr>\n",
       "    <tr>\n",
       "      <th>3</th>\n",
       "      <td>4</td>\n",
       "      <td>4</td>\n",
       "      <td>c:5</td>\n",
       "      <td>2006-04-01</td>\n",
       "      <td>series-b</td>\n",
       "      <td>b</td>\n",
       "      <td>27500000.0</td>\n",
       "      <td>27500000.0</td>\n",
       "      <td>USD</td>\n",
       "      <td>525000000.0</td>\n",
       "      <td>...</td>\n",
       "      <td>0.0</td>\n",
       "      <td>USD</td>\n",
       "      <td>4</td>\n",
       "      <td>0</td>\n",
       "      <td>0</td>\n",
       "      <td>http://www.facebook.com/press/info.php?factsheet</td>\n",
       "      <td>Facebook Funding</td>\n",
       "      <td>initial-importer</td>\n",
       "      <td>2007-05-27 06:09:36</td>\n",
       "      <td>2013-06-28 20:07:24</td>\n",
       "    </tr>\n",
       "    <tr>\n",
       "      <th>4</th>\n",
       "      <td>5</td>\n",
       "      <td>5</td>\n",
       "      <td>c:7299</td>\n",
       "      <td>2006-05-01</td>\n",
       "      <td>series-b</td>\n",
       "      <td>b</td>\n",
       "      <td>10500000.0</td>\n",
       "      <td>10500000.0</td>\n",
       "      <td>USD</td>\n",
       "      <td>0.0</td>\n",
       "      <td>...</td>\n",
       "      <td>0.0</td>\n",
       "      <td>NaN</td>\n",
       "      <td>2</td>\n",
       "      <td>0</td>\n",
       "      <td>0</td>\n",
       "      <td>http://www.techcrunch.com/2006/05/14/photobuck...</td>\n",
       "      <td>PhotoBucket Closes $10.5M From Trinity Ventures</td>\n",
       "      <td>initial-importer</td>\n",
       "      <td>2007-05-29 11:05:59</td>\n",
       "      <td>2008-04-16 17:09:12</td>\n",
       "    </tr>\n",
       "  </tbody>\n",
       "</table>\n",
       "<p>5 rows × 23 columns</p>\n",
       "</div>"
      ],
      "text/plain": [
       "   id  funding_round_id object_id   funded_at funding_round_type  \\\n",
       "0   1                 1       c:4  2006-12-01           series-b   \n",
       "1   2                 2       c:5  2004-09-01              angel   \n",
       "2   3                 3       c:5  2005-05-01           series-a   \n",
       "3   4                 4       c:5  2006-04-01           series-b   \n",
       "4   5                 5    c:7299  2006-05-01           series-b   \n",
       "\n",
       "  funding_round_code  raised_amount_usd  raised_amount raised_currency_code  \\\n",
       "0                  b          8500000.0      8500000.0                  USD   \n",
       "1              angel           500000.0       500000.0                  USD   \n",
       "2                  a         12700000.0     12700000.0                  USD   \n",
       "3                  b         27500000.0     27500000.0                  USD   \n",
       "4                  b         10500000.0     10500000.0                  USD   \n",
       "\n",
       "   pre_money_valuation_usd  ...  post_money_valuation  \\\n",
       "0                      0.0  ...                   0.0   \n",
       "1                      0.0  ...                   0.0   \n",
       "2              115000000.0  ...                   0.0   \n",
       "3              525000000.0  ...                   0.0   \n",
       "4                      0.0  ...                   0.0   \n",
       "\n",
       "  post_money_currency_code  participants  is_first_round is_last_round  \\\n",
       "0                      NaN             2               0             0   \n",
       "1                      USD             2               0             1   \n",
       "2                      USD             3               0             0   \n",
       "3                      USD             4               0             0   \n",
       "4                      NaN             2               0             0   \n",
       "\n",
       "                                          source_url  \\\n",
       "0  http://www.marketingvox.com/archives/2006/12/2...   \n",
       "1                                                NaN   \n",
       "2  http://www.techcrunch.com/2007/11/02/jim-breye...   \n",
       "3   http://www.facebook.com/press/info.php?factsheet   \n",
       "4  http://www.techcrunch.com/2006/05/14/photobuck...   \n",
       "\n",
       "                                  source_description        created_by  \\\n",
       "0                                                NaN  initial-importer   \n",
       "1                                                NaN  initial-importer   \n",
       "2  Jim Breyer: Extra $500 Million Round For Faceb...  initial-importer   \n",
       "3                                   Facebook Funding  initial-importer   \n",
       "4    PhotoBucket Closes $10.5M From Trinity Ventures  initial-importer   \n",
       "\n",
       "            created_at           updated_at  \n",
       "0  2007-07-04 04:52:57  2008-02-27 23:14:29  \n",
       "1  2007-05-27 06:08:18  2013-06-28 20:07:23  \n",
       "2  2007-05-27 06:09:10  2013-06-28 20:07:23  \n",
       "3  2007-05-27 06:09:36  2013-06-28 20:07:24  \n",
       "4  2007-05-29 11:05:59  2008-04-16 17:09:12  \n",
       "\n",
       "[5 rows x 23 columns]"
      ]
     },
     "execution_count": 234,
     "metadata": {},
     "output_type": "execute_result"
    }
   ],
   "source": [
    "# Get csv funding rounds\n",
    "rounds = pd.read_csv('funding_rounds.csv')\n",
    "rounds.head()"
   ]
  },
  {
   "cell_type": "markdown",
   "id": "0250c2ed-e8f5-4330-907b-ae73c8c2e3ca",
   "metadata": {},
   "source": [
    "2. Buscar un elemento común de ambos dataframes y convertirlos en uno solo."
   ]
  },
  {
   "cell_type": "code",
   "execution_count": 236,
   "id": "82a143c7-a404-4558-892b-7709b94d57cb",
   "metadata": {},
   "outputs": [
    {
     "data": {
      "text/html": [
       "<div>\n",
       "<style scoped>\n",
       "    .dataframe tbody tr th:only-of-type {\n",
       "        vertical-align: middle;\n",
       "    }\n",
       "\n",
       "    .dataframe tbody tr th {\n",
       "        vertical-align: top;\n",
       "    }\n",
       "\n",
       "    .dataframe thead th {\n",
       "        text-align: right;\n",
       "    }\n",
       "</style>\n",
       "<table border=\"1\" class=\"dataframe\">\n",
       "  <thead>\n",
       "    <tr style=\"text-align: right;\">\n",
       "      <th></th>\n",
       "      <th>id</th>\n",
       "      <th>object_id</th>\n",
       "      <th>funded_at</th>\n",
       "      <th>raised_amount</th>\n",
       "      <th>raised_currency_code</th>\n",
       "      <th>source_url</th>\n",
       "      <th>source_description</th>\n",
       "      <th>created_at</th>\n",
       "      <th>updated_at</th>\n",
       "    </tr>\n",
       "  </thead>\n",
       "  <tbody>\n",
       "    <tr>\n",
       "      <th>0</th>\n",
       "      <td>1</td>\n",
       "      <td>f:371</td>\n",
       "      <td>2008-12-16</td>\n",
       "      <td>300000000.0</td>\n",
       "      <td>USD</td>\n",
       "      <td>http://www.pehub.com/26194/dfj-dragon-raising-...</td>\n",
       "      <td>peHub</td>\n",
       "      <td>2008-12-17 03:07:16</td>\n",
       "      <td>2008-12-17 03:07:16</td>\n",
       "    </tr>\n",
       "    <tr>\n",
       "      <th>1</th>\n",
       "      <td>4</td>\n",
       "      <td>f:17</td>\n",
       "      <td>2008-12-17</td>\n",
       "      <td>200750000.0</td>\n",
       "      <td>USD</td>\n",
       "      <td>http://www.pehub.com/26725/sequoia-israel-rais...</td>\n",
       "      <td>Sequoia Israel Raises Fourth Fund</td>\n",
       "      <td>2008-12-18 22:04:42</td>\n",
       "      <td>2008-12-18 22:04:42</td>\n",
       "    </tr>\n",
       "    <tr>\n",
       "      <th>2</th>\n",
       "      <td>5</td>\n",
       "      <td>f:951</td>\n",
       "      <td>2008-08-11</td>\n",
       "      <td>650000000.0</td>\n",
       "      <td>USD</td>\n",
       "      <td>http://venturebeat.com/2008/08/11/interwest-cl...</td>\n",
       "      <td>Venture Beat</td>\n",
       "      <td>2008-12-31 09:47:51</td>\n",
       "      <td>2008-12-31 09:47:51</td>\n",
       "    </tr>\n",
       "    <tr>\n",
       "      <th>3</th>\n",
       "      <td>6</td>\n",
       "      <td>f:192</td>\n",
       "      <td>NaN</td>\n",
       "      <td>625000000.0</td>\n",
       "      <td>USD</td>\n",
       "      <td>http://venturebeat.com/2008/07/28/us-venture-p...</td>\n",
       "      <td>U.S. Venture Partners raises $625M fund for ne...</td>\n",
       "      <td>2009-01-01 18:13:44</td>\n",
       "      <td>2009-01-01 18:16:27</td>\n",
       "    </tr>\n",
       "    <tr>\n",
       "      <th>4</th>\n",
       "      <td>7</td>\n",
       "      <td>f:519</td>\n",
       "      <td>2008-05-20</td>\n",
       "      <td>200000000.0</td>\n",
       "      <td>USD</td>\n",
       "      <td>http://venturebeat.com/2008/05/20/disneys-stea...</td>\n",
       "      <td>Venture Beat</td>\n",
       "      <td>2009-01-03 09:51:58</td>\n",
       "      <td>2013-09-03 16:34:54</td>\n",
       "    </tr>\n",
       "  </tbody>\n",
       "</table>\n",
       "</div>"
      ],
      "text/plain": [
       "   id object_id   funded_at  raised_amount raised_currency_code  \\\n",
       "0   1     f:371  2008-12-16    300000000.0                  USD   \n",
       "1   4      f:17  2008-12-17    200750000.0                  USD   \n",
       "2   5     f:951  2008-08-11    650000000.0                  USD   \n",
       "3   6     f:192         NaN    625000000.0                  USD   \n",
       "4   7     f:519  2008-05-20    200000000.0                  USD   \n",
       "\n",
       "                                          source_url  \\\n",
       "0  http://www.pehub.com/26194/dfj-dragon-raising-...   \n",
       "1  http://www.pehub.com/26725/sequoia-israel-rais...   \n",
       "2  http://venturebeat.com/2008/08/11/interwest-cl...   \n",
       "3  http://venturebeat.com/2008/07/28/us-venture-p...   \n",
       "4  http://venturebeat.com/2008/05/20/disneys-stea...   \n",
       "\n",
       "                                  source_description           created_at  \\\n",
       "0                                              peHub  2008-12-17 03:07:16   \n",
       "1                  Sequoia Israel Raises Fourth Fund  2008-12-18 22:04:42   \n",
       "2                                       Venture Beat  2008-12-31 09:47:51   \n",
       "3  U.S. Venture Partners raises $625M fund for ne...  2009-01-01 18:13:44   \n",
       "4                                       Venture Beat  2009-01-03 09:51:58   \n",
       "\n",
       "            updated_at  \n",
       "0  2008-12-17 03:07:16  \n",
       "1  2008-12-18 22:04:42  \n",
       "2  2008-12-31 09:47:51  \n",
       "3  2009-01-01 18:16:27  \n",
       "4  2013-09-03 16:34:54  "
      ]
     },
     "execution_count": 236,
     "metadata": {},
     "output_type": "execute_result"
    }
   ],
   "source": [
    "df = pd.concat([funds, rounds], ignore_index=True, join='inner')\n",
    "df.head()"
   ]
  },
  {
   "cell_type": "markdown",
   "id": "c108a93b-be6b-43c4-bc69-49960a54c6e7",
   "metadata": {},
   "source": [
    "3. Eliminar las columnas “id”, “source_url”, “source_description” y “updated_at”."
   ]
  },
  {
   "cell_type": "code",
   "execution_count": 238,
   "id": "8fedcb73-1e59-47f6-a9c2-86a7904a9fd1",
   "metadata": {},
   "outputs": [
    {
     "data": {
      "text/html": [
       "<div>\n",
       "<style scoped>\n",
       "    .dataframe tbody tr th:only-of-type {\n",
       "        vertical-align: middle;\n",
       "    }\n",
       "\n",
       "    .dataframe tbody tr th {\n",
       "        vertical-align: top;\n",
       "    }\n",
       "\n",
       "    .dataframe thead th {\n",
       "        text-align: right;\n",
       "    }\n",
       "</style>\n",
       "<table border=\"1\" class=\"dataframe\">\n",
       "  <thead>\n",
       "    <tr style=\"text-align: right;\">\n",
       "      <th></th>\n",
       "      <th>object_id</th>\n",
       "      <th>funded_at</th>\n",
       "      <th>raised_amount</th>\n",
       "      <th>raised_currency_code</th>\n",
       "      <th>created_at</th>\n",
       "    </tr>\n",
       "  </thead>\n",
       "  <tbody>\n",
       "    <tr>\n",
       "      <th>0</th>\n",
       "      <td>f:371</td>\n",
       "      <td>2008-12-16</td>\n",
       "      <td>300000000.0</td>\n",
       "      <td>USD</td>\n",
       "      <td>2008-12-17 03:07:16</td>\n",
       "    </tr>\n",
       "    <tr>\n",
       "      <th>1</th>\n",
       "      <td>f:17</td>\n",
       "      <td>2008-12-17</td>\n",
       "      <td>200750000.0</td>\n",
       "      <td>USD</td>\n",
       "      <td>2008-12-18 22:04:42</td>\n",
       "    </tr>\n",
       "    <tr>\n",
       "      <th>2</th>\n",
       "      <td>f:951</td>\n",
       "      <td>2008-08-11</td>\n",
       "      <td>650000000.0</td>\n",
       "      <td>USD</td>\n",
       "      <td>2008-12-31 09:47:51</td>\n",
       "    </tr>\n",
       "    <tr>\n",
       "      <th>3</th>\n",
       "      <td>f:192</td>\n",
       "      <td>NaN</td>\n",
       "      <td>625000000.0</td>\n",
       "      <td>USD</td>\n",
       "      <td>2009-01-01 18:13:44</td>\n",
       "    </tr>\n",
       "    <tr>\n",
       "      <th>4</th>\n",
       "      <td>f:519</td>\n",
       "      <td>2008-05-20</td>\n",
       "      <td>200000000.0</td>\n",
       "      <td>USD</td>\n",
       "      <td>2009-01-03 09:51:58</td>\n",
       "    </tr>\n",
       "  </tbody>\n",
       "</table>\n",
       "</div>"
      ],
      "text/plain": [
       "  object_id   funded_at  raised_amount raised_currency_code  \\\n",
       "0     f:371  2008-12-16    300000000.0                  USD   \n",
       "1      f:17  2008-12-17    200750000.0                  USD   \n",
       "2     f:951  2008-08-11    650000000.0                  USD   \n",
       "3     f:192         NaN    625000000.0                  USD   \n",
       "4     f:519  2008-05-20    200000000.0                  USD   \n",
       "\n",
       "            created_at  \n",
       "0  2008-12-17 03:07:16  \n",
       "1  2008-12-18 22:04:42  \n",
       "2  2008-12-31 09:47:51  \n",
       "3  2009-01-01 18:13:44  \n",
       "4  2009-01-03 09:51:58  "
      ]
     },
     "execution_count": 238,
     "metadata": {},
     "output_type": "execute_result"
    }
   ],
   "source": [
    "df = df.drop(['id', 'source_url', 'source_description', 'updated_at'], axis=1)\n",
    "df.head()"
   ]
  },
  {
   "cell_type": "markdown",
   "id": "d29b22b3-9a85-45bb-9e41-ff1d14c9f02a",
   "metadata": {},
   "source": [
    "4. Mostrar el número de nulos que tiene cada columna del dataframe y qué porcentaje supone dentro de cada columna el número de nulos."
   ]
  },
  {
   "cell_type": "code",
   "execution_count": 240,
   "id": "9671cdd9-8b68-421e-a4cb-ff04f712b8f5",
   "metadata": {},
   "outputs": [
    {
     "name": "stdout",
     "output_type": "stream",
     "text": [
      "object_id                  0\n",
      "funded_at                363\n",
      "raised_amount              0\n",
      "raised_currency_code    3066\n",
      "created_at                 0\n",
      "dtype: int64\n"
     ]
    }
   ],
   "source": [
    "# Número de nulos\n",
    "print(df.isnull().sum())"
   ]
  },
  {
   "cell_type": "code",
   "execution_count": 241,
   "id": "5aac20e1-0c2e-4d69-97c8-e0acdf8601d5",
   "metadata": {},
   "outputs": [
    {
     "name": "stdout",
     "output_type": "stream",
     "text": [
      "object_id               0.000000\n",
      "funded_at               0.666153\n",
      "raised_amount           0.000000\n",
      "raised_currency_code    5.626514\n",
      "created_at              0.000000\n",
      "dtype: float64\n"
     ]
    }
   ],
   "source": [
    "# Porcentaje de datos nulos\n",
    "print(df.isnull().sum()/len(df)*100)"
   ]
  },
  {
   "cell_type": "markdown",
   "id": "0d0dc5a5-6b26-4af1-9649-3e1b263d614a",
   "metadata": {},
   "source": [
    "5. Modificar todos los valores de “raised_currency_code” nulos a USD."
   ]
  },
  {
   "cell_type": "code",
   "execution_count": 243,
   "id": "c4f22247-9fbd-4cfc-b18c-0fa5a72b0def",
   "metadata": {},
   "outputs": [
    {
     "name": "stdout",
     "output_type": "stream",
     "text": [
      "0\n"
     ]
    }
   ],
   "source": [
    "df['raised_currency_code'] = df['raised_currency_code'].fillna('USD')\n",
    "print(df['raised_currency_code'].isnull().sum())"
   ]
  },
  {
   "cell_type": "markdown",
   "id": "281c53b7-6e51-4a24-9095-6dc990ce2e8c",
   "metadata": {},
   "source": [
    "6. Eliminar el resto de nulos del dataset."
   ]
  },
  {
   "cell_type": "code",
   "execution_count": 245,
   "id": "784d3512-d1e1-4340-afa6-7974e626b64f",
   "metadata": {},
   "outputs": [
    {
     "name": "stdout",
     "output_type": "stream",
     "text": [
      "object_id               0\n",
      "funded_at               0\n",
      "raised_amount           0\n",
      "raised_currency_code    0\n",
      "created_at              0\n",
      "dtype: int64\n"
     ]
    }
   ],
   "source": [
    "df = df.dropna()\n",
    "print(df.isnull().sum())"
   ]
  },
  {
   "cell_type": "markdown",
   "id": "fbf90d56-cdd7-40c3-acd8-3390514c23bb",
   "metadata": {},
   "source": [
    "7. Mostrar el porcentaje de los diferentes valores de “raised_currency_code”."
   ]
  },
  {
   "cell_type": "code",
   "execution_count": 247,
   "id": "5ea57bfb-89e2-4286-80b5-3ceb43331c83",
   "metadata": {},
   "outputs": [
    {
     "name": "stdout",
     "output_type": "stream",
     "text": [
      "col_0                    counts\n",
      "raised_currency_code           \n",
      "AUD                    0.044339\n",
      "CAD                    0.533910\n",
      "EUR                    4.722053\n",
      "GBP                    2.532838\n",
      "JPY                    0.131168\n",
      "NIS                    0.005542\n",
      "SEK                    0.149643\n",
      "USD                   91.880508\n"
     ]
    }
   ],
   "source": [
    "print((pd.crosstab(index=df['raised_currency_code'], columns=\"counts\")/len(df) *100))"
   ]
  },
  {
   "cell_type": "markdown",
   "id": "17ad8fa0-32d3-4eb6-a65e-f664e2a49c5a",
   "metadata": {},
   "source": [
    "8. Crear un subconjunto sin el valor USD y visualizar un diagrama de barras."
   ]
  },
  {
   "cell_type": "code",
   "execution_count": 249,
   "id": "2d0e4551-e6c8-416b-850e-fdacc1c41bca",
   "metadata": {},
   "outputs": [
    {
     "data": {
      "text/html": [
       "<div>\n",
       "<style scoped>\n",
       "    .dataframe tbody tr th:only-of-type {\n",
       "        vertical-align: middle;\n",
       "    }\n",
       "\n",
       "    .dataframe tbody tr th {\n",
       "        vertical-align: top;\n",
       "    }\n",
       "\n",
       "    .dataframe thead th {\n",
       "        text-align: right;\n",
       "    }\n",
       "</style>\n",
       "<table border=\"1\" class=\"dataframe\">\n",
       "  <thead>\n",
       "    <tr style=\"text-align: right;\">\n",
       "      <th></th>\n",
       "      <th>object_id</th>\n",
       "      <th>funded_at</th>\n",
       "      <th>raised_amount</th>\n",
       "      <th>raised_currency_code</th>\n",
       "      <th>created_at</th>\n",
       "    </tr>\n",
       "  </thead>\n",
       "  <tbody>\n",
       "    <tr>\n",
       "      <th>12</th>\n",
       "      <td>f:1363</td>\n",
       "      <td>2001-07-12</td>\n",
       "      <td>22500000.0</td>\n",
       "      <td>GBP</td>\n",
       "      <td>2009-01-13 15:42:43</td>\n",
       "    </tr>\n",
       "    <tr>\n",
       "      <th>13</th>\n",
       "      <td>f:1363</td>\n",
       "      <td>2008-07-19</td>\n",
       "      <td>45300000.0</td>\n",
       "      <td>GBP</td>\n",
       "      <td>2009-01-13 15:42:43</td>\n",
       "    </tr>\n",
       "    <tr>\n",
       "      <th>45</th>\n",
       "      <td>f:18</td>\n",
       "      <td>2009-03-02</td>\n",
       "      <td>350000000.0</td>\n",
       "      <td>EUR</td>\n",
       "      <td>2009-03-17 20:44:22</td>\n",
       "    </tr>\n",
       "    <tr>\n",
       "      <th>50</th>\n",
       "      <td>f:1142</td>\n",
       "      <td>2000-01-01</td>\n",
       "      <td>112000000.0</td>\n",
       "      <td>EUR</td>\n",
       "      <td>2009-05-02 05:28:47</td>\n",
       "    </tr>\n",
       "    <tr>\n",
       "      <th>51</th>\n",
       "      <td>f:1142</td>\n",
       "      <td>2008-01-01</td>\n",
       "      <td>113000000.0</td>\n",
       "      <td>EUR</td>\n",
       "      <td>2009-05-02 05:29:25</td>\n",
       "    </tr>\n",
       "  </tbody>\n",
       "</table>\n",
       "</div>"
      ],
      "text/plain": [
       "   object_id   funded_at  raised_amount raised_currency_code  \\\n",
       "12    f:1363  2001-07-12     22500000.0                  GBP   \n",
       "13    f:1363  2008-07-19     45300000.0                  GBP   \n",
       "45      f:18  2009-03-02    350000000.0                  EUR   \n",
       "50    f:1142  2000-01-01    112000000.0                  EUR   \n",
       "51    f:1142  2008-01-01    113000000.0                  EUR   \n",
       "\n",
       "             created_at  \n",
       "12  2009-01-13 15:42:43  \n",
       "13  2009-01-13 15:42:43  \n",
       "45  2009-03-17 20:44:22  \n",
       "50  2009-05-02 05:28:47  \n",
       "51  2009-05-02 05:29:25  "
      ]
     },
     "execution_count": 249,
     "metadata": {},
     "output_type": "execute_result"
    }
   ],
   "source": [
    "# Crear subconjunto\n",
    "currency_df = df[df['raised_currency_code'] != 'USD'].copy()\n",
    "currency_df.head()"
   ]
  },
  {
   "cell_type": "code",
   "execution_count": 250,
   "id": "6dd7e790-a715-4e05-ab85-39059c8be8eb",
   "metadata": {},
   "outputs": [],
   "source": [
    "# Importar matplotlib y seaborn\n",
    "from matplotlib import pyplot as plt\n",
    "%matplotlib inline\n",
    "\n",
    "import seaborn as sns"
   ]
  },
  {
   "cell_type": "code",
   "execution_count": 251,
   "id": "c72bfa23-9a1e-409c-94fc-1e8d46be886b",
   "metadata": {},
   "outputs": [
    {
     "data": {
      "text/plain": [
       "Text(0, 0.5, 'Cuenta')"
      ]
     },
     "execution_count": 251,
     "metadata": {},
     "output_type": "execute_result"
    },
    {
     "data": {
      "image/png": "[encoded data removed]",
      "text/plain": [
       "<Figure size 640x480 with 1 Axes>"
      ]
     },
     "metadata": {},
     "output_type": "display_data"
    }
   ],
   "source": [
    "# Diagrama de barras\n",
    "sns.countplot(x=currency_df['raised_currency_code'], data=currency_df, saturation=0.3)\n",
    "\n",
    "plt.title('Tipo de moneda, capital por startup')\n",
    "plt.xlabel('Tipo de moneda')\n",
    "plt.ylabel('Cuenta')"
   ]
  },
  {
   "cell_type": "markdown",
   "id": "b3db76e7-e473-4eb9-ac9d-c55667ffd0f5",
   "metadata": {},
   "source": [
    "9. Crear un nuevo subconjunto filtrando del dataset todas las filas por debajo de 10 millones y visualizar el histograma."
   ]
  },
  {
   "cell_type": "code",
   "execution_count": 253,
   "id": "0d393165-dc76-48dc-a23e-df8f73c39824",
   "metadata": {},
   "outputs": [
    {
     "data": {
      "text/html": [
       "<div>\n",
       "<style scoped>\n",
       "    .dataframe tbody tr th:only-of-type {\n",
       "        vertical-align: middle;\n",
       "    }\n",
       "\n",
       "    .dataframe tbody tr th {\n",
       "        vertical-align: top;\n",
       "    }\n",
       "\n",
       "    .dataframe thead th {\n",
       "        text-align: right;\n",
       "    }\n",
       "</style>\n",
       "<table border=\"1\" class=\"dataframe\">\n",
       "  <thead>\n",
       "    <tr style=\"text-align: right;\">\n",
       "      <th></th>\n",
       "      <th>object_id</th>\n",
       "      <th>funded_at</th>\n",
       "      <th>raised_amount</th>\n",
       "      <th>raised_currency_code</th>\n",
       "      <th>created_at</th>\n",
       "    </tr>\n",
       "  </thead>\n",
       "  <tbody>\n",
       "    <tr>\n",
       "      <th>7</th>\n",
       "      <td>f:1829</td>\n",
       "      <td>2007-09-23</td>\n",
       "      <td>5000000.0</td>\n",
       "      <td>USD</td>\n",
       "      <td>2009-01-07 16:12:25</td>\n",
       "    </tr>\n",
       "    <tr>\n",
       "      <th>17</th>\n",
       "      <td>f:1882</td>\n",
       "      <td>2007-09-19</td>\n",
       "      <td>10000000.0</td>\n",
       "      <td>USD</td>\n",
       "      <td>2009-01-15 17:25:55</td>\n",
       "    </tr>\n",
       "    <tr>\n",
       "      <th>39</th>\n",
       "      <td>f:892</td>\n",
       "      <td>2000-01-01</td>\n",
       "      <td>0.0</td>\n",
       "      <td>USD</td>\n",
       "      <td>2009-02-18 17:56:00</td>\n",
       "    </tr>\n",
       "    <tr>\n",
       "      <th>40</th>\n",
       "      <td>f:892</td>\n",
       "      <td>2004-01-01</td>\n",
       "      <td>0.0</td>\n",
       "      <td>USD</td>\n",
       "      <td>2009-02-18 17:56:28</td>\n",
       "    </tr>\n",
       "    <tr>\n",
       "      <th>41</th>\n",
       "      <td>f:892</td>\n",
       "      <td>2006-01-01</td>\n",
       "      <td>0.0</td>\n",
       "      <td>USD</td>\n",
       "      <td>2009-02-18 17:56:41</td>\n",
       "    </tr>\n",
       "  </tbody>\n",
       "</table>\n",
       "</div>"
      ],
      "text/plain": [
       "   object_id   funded_at  raised_amount raised_currency_code  \\\n",
       "7     f:1829  2007-09-23      5000000.0                  USD   \n",
       "17    f:1882  2007-09-19     10000000.0                  USD   \n",
       "39     f:892  2000-01-01            0.0                  USD   \n",
       "40     f:892  2004-01-01            0.0                  USD   \n",
       "41     f:892  2006-01-01            0.0                  USD   \n",
       "\n",
       "             created_at  \n",
       "7   2009-01-07 16:12:25  \n",
       "17  2009-01-15 17:25:55  \n",
       "39  2009-02-18 17:56:00  \n",
       "40  2009-02-18 17:56:28  \n",
       "41  2009-02-18 17:56:41  "
      ]
     },
     "execution_count": 253,
     "metadata": {},
     "output_type": "execute_result"
    }
   ],
   "source": [
    "# Crear Subconjunto\n",
    "amount_df = df[df['raised_amount'] <= 10000000].copy()\n",
    "amount_df.head()"
   ]
  },
  {
   "cell_type": "code",
   "execution_count": 254,
   "id": "59668ae4-466b-4b98-8610-5f07f78c8f7b",
   "metadata": {},
   "outputs": [],
   "source": [
    "# Importar Ggplot\n",
    "from plotnine import *"
   ]
  },
  {
   "cell_type": "code",
   "execution_count": 255,
   "id": "fc3f9ba7-a4b7-44d7-a6b6-1174a9de0d3f",
   "metadata": {},
   "outputs": [
    {
     "name": "stderr",
     "output_type": "stream",
     "text": [
      "C:\\Users\\ramon\\anaconda3\\Lib\\site-packages\\plotnine\\stats\\stat_bin.py:109: PlotnineWarning: 'stat_bin()' using 'bins = 56'. Pick better value with 'binwidth'.\n"
     ]
    },
    {
     "data": {
      "image/png": "[encoded data removed]"
     },
     "metadata": {
      "image/png": {
       "height": 480,
       "width": 640
      }
     },
     "output_type": "display_data"
    }
   ],
   "source": [
    "# Crear Histograma\n",
    "(ggplot(amount_df) + geom_histogram(aes(x='raised_amount'))) "
   ]
  },
  {
   "cell_type": "markdown",
   "id": "498f9874-5b46-4b03-bda3-49820faeabcb",
   "metadata": {},
   "source": [
    "10. Con el conjunto del apartado anterior, investigar sobre la función “contains(opens in a new tab)” y filtrar el dataset por las fechas de creación de las startup en 2000."
   ]
  },
  {
   "cell_type": "code",
   "execution_count": 257,
   "id": "ffe76c18-0e9e-4ad6-a23d-f25756f3ec5a",
   "metadata": {},
   "outputs": [
    {
     "data": {
      "text/html": [
       "<div>\n",
       "<style scoped>\n",
       "    .dataframe tbody tr th:only-of-type {\n",
       "        vertical-align: middle;\n",
       "    }\n",
       "\n",
       "    .dataframe tbody tr th {\n",
       "        vertical-align: top;\n",
       "    }\n",
       "\n",
       "    .dataframe thead th {\n",
       "        text-align: right;\n",
       "    }\n",
       "</style>\n",
       "<table border=\"1\" class=\"dataframe\">\n",
       "  <thead>\n",
       "    <tr style=\"text-align: right;\">\n",
       "      <th></th>\n",
       "      <th>object_id</th>\n",
       "      <th>funded_at</th>\n",
       "      <th>raised_amount</th>\n",
       "      <th>raised_currency_code</th>\n",
       "      <th>created_at</th>\n",
       "    </tr>\n",
       "  </thead>\n",
       "  <tbody>\n",
       "    <tr>\n",
       "      <th>39</th>\n",
       "      <td>f:892</td>\n",
       "      <td>2000-01-01</td>\n",
       "      <td>0.0</td>\n",
       "      <td>USD</td>\n",
       "      <td>2009-02-18 17:56:00</td>\n",
       "    </tr>\n",
       "    <tr>\n",
       "      <th>389</th>\n",
       "      <td>f:1980</td>\n",
       "      <td>2000-10-23</td>\n",
       "      <td>0.0</td>\n",
       "      <td>USD</td>\n",
       "      <td>2011-03-26 22:43:28</td>\n",
       "    </tr>\n",
       "    <tr>\n",
       "      <th>533</th>\n",
       "      <td>f:30</td>\n",
       "      <td>2000-01-01</td>\n",
       "      <td>51.0</td>\n",
       "      <td>EUR</td>\n",
       "      <td>2011-10-28 11:45:45</td>\n",
       "    </tr>\n",
       "    <tr>\n",
       "      <th>1183</th>\n",
       "      <td>f:4546</td>\n",
       "      <td>2000-01-01</td>\n",
       "      <td>0.0</td>\n",
       "      <td>USD</td>\n",
       "      <td>2013-07-18 17:19:49</td>\n",
       "    </tr>\n",
       "    <tr>\n",
       "      <th>1732</th>\n",
       "      <td>c:253</td>\n",
       "      <td>2000-05-01</td>\n",
       "      <td>7700000.0</td>\n",
       "      <td>USD</td>\n",
       "      <td>2007-07-24 10:56:39</td>\n",
       "    </tr>\n",
       "  </tbody>\n",
       "</table>\n",
       "</div>"
      ],
      "text/plain": [
       "     object_id   funded_at  raised_amount raised_currency_code  \\\n",
       "39       f:892  2000-01-01            0.0                  USD   \n",
       "389     f:1980  2000-10-23            0.0                  USD   \n",
       "533       f:30  2000-01-01           51.0                  EUR   \n",
       "1183    f:4546  2000-01-01            0.0                  USD   \n",
       "1732     c:253  2000-05-01      7700000.0                  USD   \n",
       "\n",
       "               created_at  \n",
       "39    2009-02-18 17:56:00  \n",
       "389   2011-03-26 22:43:28  \n",
       "533   2011-10-28 11:45:45  \n",
       "1183  2013-07-18 17:19:49  \n",
       "1732  2007-07-24 10:56:39  "
      ]
     },
     "execution_count": 257,
     "metadata": {},
     "output_type": "execute_result"
    }
   ],
   "source": [
    "funded_df = amount_df[amount_df['funded_at'].str.contains('2000', regex=False)].copy()\n",
    "funded_df.head()"
   ]
  },
  {
   "cell_type": "markdown",
   "id": "706f3c88-dce8-4a06-b433-024894a3b500",
   "metadata": {},
   "source": [
    "11. Sobre el conjunto filtrado por fecha, visualizar la cuantía obtenida explicada por el tipo de moneda."
   ]
  },
  {
   "cell_type": "code",
   "execution_count": 260,
   "id": "4813efff-d51d-4b9f-93ae-42a82be1ebb9",
   "metadata": {},
   "outputs": [
    {
     "name": "stderr",
     "output_type": "stream",
     "text": [
      "C:\\Users\\ramon\\anaconda3\\Lib\\site-packages\\plotnine\\stats\\stat_bin.py:109: PlotnineWarning: 'stat_bin()' using 'bins = 56'. Pick better value with 'binwidth'.\n"
     ]
    },
    {
     "data": {
      "image/png": "[encoded data removed]"
     },
     "metadata": {
      "image/png": {
       "height": 480,
       "width": 640
      }
     },
     "output_type": "display_data"
    }
   ],
   "source": [
    "(\n",
    "    ggplot(amount_df) + \n",
    "    geom_histogram(mapping=aes('raised_amount', fill = 'raised_currency_code'), color='blue') +\n",
    "    facet_wrap('~raised_currency_code')\n",
    ")"
   ]
  },
  {
   "cell_type": "code",
   "execution_count": null,
   "id": "aa9d8761-60eb-4fbb-b78a-2acea885cc8a",
   "metadata": {},
   "outputs": [],
   "source": []
  }
 ],
 "metadata": {
  "kernelspec": {
   "display_name": "Python 3 (ipykernel)",
   "language": "python",
   "name": "python3"
  },
  "language_info": {
   "codemirror_mode": {
    "name": "ipython",
    "version": 3
   },
   "file_extension": ".py",
   "mimetype": "text/x-python",
   "name": "python",
   "nbconvert_exporter": "python",
   "pygments_lexer": "ipython3",
   "version": "3.12.4"
  }
 },
 "nbformat": 4,
 "nbformat_minor": 5
}
