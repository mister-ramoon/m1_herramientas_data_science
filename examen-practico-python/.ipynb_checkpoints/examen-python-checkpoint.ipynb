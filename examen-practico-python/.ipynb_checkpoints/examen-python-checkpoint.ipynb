{
 "cells": [
  {
   "cell_type": "markdown",
   "id": "e9c080f3-fb7e-4a85-a0a5-64472cebfc78",
   "metadata": {},
   "source": [
    "# Examen Python: Informes de felicidad de 2015 y 2016"
   ]
  },
  {
   "cell_type": "markdown",
   "id": "bf52c87c-405a-49de-82b0-d1ec6effdb7b",
   "metadata": {},
   "source": [
    "1. Cargar los dos CSV como datasets."
   ]
  },
  {
   "cell_type": "code",
   "execution_count": 4,
   "id": "562f47ee-9c25-4f3e-b701-51033e8c32af",
   "metadata": {},
   "outputs": [],
   "source": [
    "# Import Pandas\n",
    "import pandas as pd"
   ]
  },
  {
   "cell_type": "code",
   "execution_count": 18,
   "id": "fcefca32-5821-4135-9e4a-31c20454c1b1",
   "metadata": {},
   "outputs": [],
   "source": [
    "# Get csv files\n",
    "happiness2015 = pd.read_csv('2015.csv')\n",
    "happiness2016 = pd.read_csv('2016.csv')"
   ]
  },
  {
   "cell_type": "code",
   "execution_count": null,
   "id": "e10fa9e5-2159-4838-b369-8572042fdfd1",
   "metadata": {},
   "outputs": [],
   "source": [
    "2. Identificra las columnas de ambos datasets: ¿hay diferencias entre ambos?"
   ]
  },
  {
   "cell_type": "code",
   "execution_count": 20,
   "id": "648f23dd-2503-47b5-af3d-f728eb3939f0",
   "metadata": {},
   "outputs": [],
   "source": [
    "# Get csv happiness 2016\n"
   ]
  },
  {
   "cell_type": "code",
   "execution_count": null,
   "id": "b3bb9941-3537-4d9f-8595-a677cac0992e",
   "metadata": {},
   "outputs": [],
   "source": []
  }
 ],
 "metadata": {
  "kernelspec": {
   "display_name": "Python 3 (ipykernel)",
   "language": "python",
   "name": "python3"
  },
  "language_info": {
   "codemirror_mode": {
    "name": "ipython",
    "version": 3
   },
   "file_extension": ".py",
   "mimetype": "text/x-python",
   "name": "python",
   "nbconvert_exporter": "python",
   "pygments_lexer": "ipython3",
   "version": "3.12.4"
  }
 },
 "nbformat": 4,
 "nbformat_minor": 5
}
