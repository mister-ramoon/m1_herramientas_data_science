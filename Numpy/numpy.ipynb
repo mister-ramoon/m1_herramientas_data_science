{
 "cells": [
  {
   "cell_type": "code",
   "execution_count": 3674,
   "id": "322c6f62-e17b-4b16-8d45-53e2b67bcdbb",
   "metadata": {},
   "outputs": [],
   "source": [
    "import numpy as np"
   ]
  },
  {
   "cell_type": "markdown",
   "id": "c2b51b0d-6a8d-43f3-a20c-a7d4431d5987",
   "metadata": {},
   "source": [
    "# Creamos nuestro Primer Array"
   ]
  },
  {
   "cell_type": "code",
   "execution_count": 3676,
   "id": "2255ae66-6e56-4de6-aa8d-0f0acbc6f880",
   "metadata": {},
   "outputs": [],
   "source": [
    "arr = np.array([10,20,98,34])"
   ]
  },
  {
   "cell_type": "markdown",
   "id": "768cb586-6af7-498d-9e3f-0cb259fcab1b",
   "metadata": {},
   "source": [
    "# Observamos el tipo de clase que tiene un array"
   ]
  },
  {
   "cell_type": "code",
   "execution_count": 3678,
   "id": "4fc52ced-86d7-4427-a11d-76c156a9a8a9",
   "metadata": {},
   "outputs": [
    {
     "name": "stdout",
     "output_type": "stream",
     "text": [
      "<class 'numpy.ndarray'>\n"
     ]
    }
   ],
   "source": [
    "print(type(arr))"
   ]
  },
  {
   "cell_type": "code",
   "execution_count": 3679,
   "id": "f745b4b2-9b07-4508-9424-84f65696d583",
   "metadata": {},
   "outputs": [
    {
     "name": "stdout",
     "output_type": "stream",
     "text": [
      "<class 'tuple'>\n",
      "[ 1 58 63 45]\n",
      "<class 'numpy.ndarray'>\n"
     ]
    }
   ],
   "source": [
    "mi_tupla = (1,58,63,45)\n",
    "print(type(mi_tupla))\n",
    "\n",
    "arr_tuple = np.array(mi_tupla)\n",
    "print(arr_tuple)\n",
    "print(type(arr_tuple))"
   ]
  },
  {
   "cell_type": "code",
   "execution_count": 3680,
   "id": "4a5764ce-6a22-46f5-b806-334885f6270b",
   "metadata": {},
   "outputs": [
    {
     "name": "stdout",
     "output_type": "stream",
     "text": [
      "[('one', 'uno'), ('two', 'dos'), ('three', 'tres')]\n",
      "[['one' 'uno']\n",
      " ['two' 'dos']\n",
      " ['three' 'tres']]\n"
     ]
    }
   ],
   "source": [
    "my_dict = {\n",
    "    'one': 'uno',\n",
    "    'two': 'dos',\n",
    "    'three': 'tres'\n",
    "}\n",
    "dict_list = list(my_dict.items())\n",
    "print(dict_list)\n",
    "\n",
    "arr_dict = np.array(dict_list)\n",
    "print(arr_dict)"
   ]
  },
  {
   "cell_type": "code",
   "execution_count": 3681,
   "id": "01d8ddda-6f83-48df-bc2e-9fb8a9537fe8",
   "metadata": {},
   "outputs": [
    {
     "name": "stdout",
     "output_type": "stream",
     "text": [
      "0\n"
     ]
    }
   ],
   "source": [
    "a = np.array(42)\n",
    "print(a.ndim)"
   ]
  },
  {
   "cell_type": "code",
   "execution_count": 3682,
   "id": "e08c5340-7c76-41d8-9987-6135fd75d6ba",
   "metadata": {},
   "outputs": [
    {
     "name": "stdout",
     "output_type": "stream",
     "text": [
      "1\n"
     ]
    }
   ],
   "source": [
    "b = np.array([1,2,3,4,5])\n",
    "print(b.ndim)"
   ]
  },
  {
   "cell_type": "code",
   "execution_count": 3683,
   "id": "1ba739df-ffd6-4dec-9746-fdc9dd4b092e",
   "metadata": {},
   "outputs": [
    {
     "name": "stdout",
     "output_type": "stream",
     "text": [
      "2\n"
     ]
    }
   ],
   "source": [
    "c = np.array([\n",
    "    [1,2,3], [4,5,6]\n",
    "])\n",
    "print(c.ndim)"
   ]
  },
  {
   "cell_type": "code",
   "execution_count": 3684,
   "id": "fcf47b37-6510-4150-b941-60ef9da24d07",
   "metadata": {},
   "outputs": [
    {
     "name": "stdout",
     "output_type": "stream",
     "text": [
      "3\n"
     ]
    }
   ],
   "source": [
    "d = np.array([\n",
    "    [[1,2,3],[1,2,3]],\n",
    "    [[1,2,3],[1,2,3]]\n",
    "])\n",
    "print(d.ndim)"
   ]
  },
  {
   "cell_type": "code",
   "execution_count": 3685,
   "id": "d479e895-5bc5-4cd1-abb4-7d68fad36049",
   "metadata": {},
   "outputs": [
    {
     "name": "stdout",
     "output_type": "stream",
     "text": [
      "4\n"
     ]
    }
   ],
   "source": [
    "e = np.array([\n",
    "    [\n",
    "        [[1,2,3], [4,5,6]],\n",
    "        [[1,2,3], [4,5,6]],\n",
    "        [[1,2,3], [4,5,6]],\n",
    "        [[1,2,3], [4,5,6]]\n",
    "    ]\n",
    "])\n",
    "print(e.ndim)"
   ]
  },
  {
   "cell_type": "markdown",
   "id": "70eb4744-b24f-4a5b-b5ce-508ba99cc1c2",
   "metadata": {},
   "source": [
    "### No tiene dimensiones, solamente el número 42"
   ]
  },
  {
   "cell_type": "code",
   "execution_count": 3687,
   "id": "5d15f472-cb97-4b41-a4f7-395b261f8219",
   "metadata": {},
   "outputs": [
    {
     "name": "stdout",
     "output_type": "stream",
     "text": [
      "()\n"
     ]
    }
   ],
   "source": [
    "print(a.shape)"
   ]
  },
  {
   "cell_type": "markdown",
   "id": "bb2a1e89-84aa-410d-b0cf-1af834a451d3",
   "metadata": {},
   "source": [
    "### Longitud 5 dimensión 1"
   ]
  },
  {
   "cell_type": "code",
   "execution_count": 3689,
   "id": "4be1858d-df6a-4a69-ba9e-5ffeca7f7b4b",
   "metadata": {},
   "outputs": [
    {
     "name": "stdout",
     "output_type": "stream",
     "text": [
      "(5,)\n"
     ]
    }
   ],
   "source": [
    "print(b.shape)"
   ]
  },
  {
   "cell_type": "markdown",
   "id": "8fe78dfc-1fee-495f-ad05-60aaf1938b27",
   "metadata": {},
   "source": [
    "### Longitud 2, cada lista tiene 3 elementos."
   ]
  },
  {
   "cell_type": "code",
   "execution_count": 3691,
   "id": "ae11339e-159d-44f9-9c01-3c4144f185a5",
   "metadata": {},
   "outputs": [
    {
     "name": "stdout",
     "output_type": "stream",
     "text": [
      "(2, 3)\n"
     ]
    }
   ],
   "source": [
    "print(c.shape)"
   ]
  },
  {
   "cell_type": "markdown",
   "id": "5c6eb5d4-e485-496e-ba1f-65e9152d88b4",
   "metadata": {},
   "source": [
    "### Longitud 2, cada sub-lista tiene 2 listas, de 3 elementos"
   ]
  },
  {
   "cell_type": "code",
   "execution_count": 3693,
   "id": "546d1460-2ec7-48ff-9886-a0822e816dbb",
   "metadata": {},
   "outputs": [
    {
     "name": "stdout",
     "output_type": "stream",
     "text": [
      "(2, 2, 3)\n"
     ]
    }
   ],
   "source": [
    "print(d.shape)"
   ]
  },
  {
   "cell_type": "markdown",
   "id": "f48e10d9-5e35-4945-8879-63fe5bb13209",
   "metadata": {},
   "source": [
    "### Longitud 1, dentro hay 4 sub-listas, cada sub-lista tiene 2 listas de 3 elementos"
   ]
  },
  {
   "cell_type": "code",
   "execution_count": 3695,
   "id": "deaa5b6a-85b0-40c0-a476-cef0a03ef84c",
   "metadata": {},
   "outputs": [
    {
     "name": "stdout",
     "output_type": "stream",
     "text": [
      "(1, 4, 2, 3)\n"
     ]
    }
   ],
   "source": [
    "print(e.shape)"
   ]
  },
  {
   "cell_type": "code",
   "execution_count": 3696,
   "id": "51e1b648-1e49-4a23-b217-c6219daf2cf8",
   "metadata": {},
   "outputs": [],
   "source": [
    "my_array = np.arange(11)"
   ]
  },
  {
   "cell_type": "code",
   "execution_count": 3697,
   "id": "22d201ba-2584-4b66-934f-16dbc8e526d4",
   "metadata": {},
   "outputs": [
    {
     "data": {
      "text/plain": [
       "array([0, 1, 2])"
      ]
     },
     "execution_count": 3697,
     "metadata": {},
     "output_type": "execute_result"
    }
   ],
   "source": [
    "my_array[0:3] # De posición 0 a 3"
   ]
  },
  {
   "cell_type": "code",
   "execution_count": 3698,
   "id": "a4c29f7e-b02b-4a52-b6f7-bb07818e1e52",
   "metadata": {},
   "outputs": [
    {
     "data": {
      "text/plain": [
       "array([2, 3, 4, 5, 6])"
      ]
     },
     "execution_count": 3698,
     "metadata": {},
     "output_type": "execute_result"
    }
   ],
   "source": [
    "my_array[2:7] # De posición 2 a 7"
   ]
  },
  {
   "cell_type": "code",
   "execution_count": 3699,
   "id": "e52a6266-d4c5-40a8-b997-2510d517f56c",
   "metadata": {},
   "outputs": [
    {
     "data": {
      "text/plain": [
       "array([0, 1, 2, 3, 4, 5])"
      ]
     },
     "execution_count": 3699,
     "metadata": {},
     "output_type": "execute_result"
    }
   ],
   "source": [
    "my_array[:6] # De inicio a 6"
   ]
  },
  {
   "cell_type": "code",
   "execution_count": 3700,
   "id": "db3845d4-2508-402c-a0c1-ef4a63853788",
   "metadata": {},
   "outputs": [
    {
     "data": {
      "text/plain": [
       "array([ 6,  7,  8,  9, 10])"
      ]
     },
     "execution_count": 3700,
     "metadata": {},
     "output_type": "execute_result"
    }
   ],
   "source": [
    "my_array[6:] # De 6 a final"
   ]
  },
  {
   "cell_type": "code",
   "execution_count": 3701,
   "id": "23055dd1-31d8-4910-8630-68e1f3789caf",
   "metadata": {},
   "outputs": [
    {
     "data": {
      "text/plain": [
       "array([0, 3, 6])"
      ]
     },
     "execution_count": 3701,
     "metadata": {},
     "output_type": "execute_result"
    }
   ],
   "source": [
    "my_array[:9:3] # De inicio a 9 de tres en tres elementos"
   ]
  },
  {
   "cell_type": "code",
   "execution_count": 3702,
   "id": "f7f4efa9-a261-4f53-a804-0dc7128108b7",
   "metadata": {},
   "outputs": [
    {
     "data": {
      "text/plain": [
       "array([ 6,  8, 10])"
      ]
     },
     "execution_count": 3702,
     "metadata": {},
     "output_type": "execute_result"
    }
   ],
   "source": [
    "my_array[6::2] # De 6 a fin de dos en dos elementos"
   ]
  },
  {
   "cell_type": "code",
   "execution_count": 3703,
   "id": "b7444ddb-b9bc-4974-9b5d-6db67c04ec59",
   "metadata": {},
   "outputs": [
    {
     "data": {
      "text/plain": [
       "9"
      ]
     },
     "execution_count": 3703,
     "metadata": {},
     "output_type": "execute_result"
    }
   ],
   "source": [
    "my_array[-2] # Posición 2 empezando por el final"
   ]
  },
  {
   "cell_type": "code",
   "execution_count": 3704,
   "id": "4621d660-a2a4-4489-9649-5daae3c82e62",
   "metadata": {},
   "outputs": [
    {
     "data": {
      "text/plain": [
       "array([0, 1, 2, 3, 4, 5, 6, 7])"
      ]
     },
     "execution_count": 3704,
     "metadata": {},
     "output_type": "execute_result"
    }
   ],
   "source": [
    "my_array[:-3] # De inicio hasta el elemento -3 del array"
   ]
  },
  {
   "cell_type": "code",
   "execution_count": 3705,
   "id": "11fd6af1-5122-4bb6-aca0-5c308b8e65a0",
   "metadata": {},
   "outputs": [
    {
     "data": {
      "text/plain": [
       "array([10,  9,  8,  7,  6,  5,  4,  3,  2,  1,  0])"
      ]
     },
     "execution_count": 3705,
     "metadata": {},
     "output_type": "execute_result"
    }
   ],
   "source": [
    "my_array[::-1] # Array reverso"
   ]
  },
  {
   "cell_type": "code",
   "execution_count": 3706,
   "id": "e14eb43c-e3c8-4d8d-b7a3-f78436386d15",
   "metadata": {},
   "outputs": [
    {
     "data": {
      "text/plain": [
       "array([10,  8,  6,  4,  2,  0])"
      ]
     },
     "execution_count": 3706,
     "metadata": {},
     "output_type": "execute_result"
    }
   ],
   "source": [
    "my_array[::-2] # De fin (reverso) a inicio tomados de 2 en 2"
   ]
  },
  {
   "cell_type": "code",
   "execution_count": 3707,
   "id": "3247ca3d-c0f1-4570-95f6-571131ca4d67",
   "metadata": {},
   "outputs": [
    {
     "data": {
      "text/plain": [
       "array([[[ 0,  1,  2,  3,  4,  5],\n",
       "        [ 6,  7,  8,  9, 10, 11],\n",
       "        [12, 13, 14, 15, 16, 17]],\n",
       "\n",
       "       [[18, 19, 20, 21, 22, 23],\n",
       "        [24, 25, 26, 27, 28, 29],\n",
       "        [30, 31, 32, 33, 34, 35]]])"
      ]
     },
     "execution_count": 3707,
     "metadata": {},
     "output_type": "execute_result"
    }
   ],
   "source": [
    "new_array = np.arange(36).reshape(2,3,6)\n",
    "new_array"
   ]
  },
  {
   "cell_type": "code",
   "execution_count": 3708,
   "id": "27966cf6-bf86-46a8-b76b-9590acbcc6a1",
   "metadata": {},
   "outputs": [
    {
     "data": {
      "text/plain": [
       "array([[0, 1, 2]])"
      ]
     },
     "execution_count": 3708,
     "metadata": {},
     "output_type": "execute_result"
    }
   ],
   "source": [
    "basic_array = np.arange(3).reshape(1,3)\n",
    "basic_array"
   ]
  },
  {
   "cell_type": "code",
   "execution_count": 3709,
   "id": "33dd3907-1580-421a-8b76-bc5873014186",
   "metadata": {},
   "outputs": [
    {
     "data": {
      "text/plain": [
       "array([[[1, 2, 3, 4, 5, 6],\n",
       "        [1, 2, 3, 4, 5, 6]],\n",
       "\n",
       "       [[1, 2, 3, 4, 5, 6],\n",
       "        [1, 2, 3, 4, 5, 6]]])"
      ]
     },
     "execution_count": 3709,
     "metadata": {},
     "output_type": "execute_result"
    }
   ],
   "source": [
    "new_dims = e.reshape(2,2,6)\n",
    "new_dims"
   ]
  },
  {
   "cell_type": "code",
   "execution_count": 3710,
   "id": "401e814c-62f0-4c1d-bdbd-d0c4a3d4b4fe",
   "metadata": {},
   "outputs": [
    {
     "data": {
      "text/plain": [
       "array([1, 2, 3, 4, 5, 6, 1, 2, 3, 4, 5, 6, 1, 2, 3, 4, 5, 6, 1, 2, 3, 4,\n",
       "       5, 6])"
      ]
     },
     "execution_count": 3710,
     "metadata": {},
     "output_type": "execute_result"
    }
   ],
   "source": [
    "new_dims.ravel()"
   ]
  },
  {
   "cell_type": "code",
   "execution_count": 3711,
   "id": "30e222cf-6dde-4c23-ab2d-edddedf15fcd",
   "metadata": {},
   "outputs": [
    {
     "data": {
      "text/plain": [
       "array([1, 2, 3, 4, 5, 6, 1, 2, 3, 4, 5, 6, 1, 2, 3, 4, 5, 6, 1, 2, 3, 4,\n",
       "       5, 6])"
      ]
     },
     "execution_count": 3711,
     "metadata": {},
     "output_type": "execute_result"
    }
   ],
   "source": [
    "new_dims.flatten()"
   ]
  },
  {
   "cell_type": "code",
   "execution_count": 3712,
   "id": "d8e1c493-a26d-4337-9dcf-7b3d4ab3c5cb",
   "metadata": {},
   "outputs": [],
   "source": [
    "pares = np.array([\n",
    "\n",
    "    [0, 2, 4],\n",
    "\n",
    "    [6, 8, 10],\n",
    "\n",
    "    [12, 14, 16]\n",
    "\n",
    "])\n",
    "\n",
    "impares = np.array([\n",
    "\n",
    "    [1, 3, 5],\n",
    "\n",
    "    [7, 9, 11],\n",
    "\n",
    "    [13, 15, 17]\n",
    "\n",
    "])"
   ]
  },
  {
   "cell_type": "markdown",
   "id": "0d00f612-fcfe-4ac7-8679-41b0a1eecac4",
   "metadata": {},
   "source": [
    "### Apila los arrays en referencia a la la longitud 3"
   ]
  },
  {
   "cell_type": "code",
   "execution_count": 3714,
   "id": "f177d9cc-0b70-4ada-b12e-73d7bfcc5154",
   "metadata": {},
   "outputs": [
    {
     "data": {
      "text/plain": [
       "array([[ 0,  2,  4,  1,  3,  5],\n",
       "       [ 6,  8, 10,  7,  9, 11],\n",
       "       [12, 14, 16, 13, 15, 17]])"
      ]
     },
     "execution_count": 3714,
     "metadata": {},
     "output_type": "execute_result"
    }
   ],
   "source": [
    "np.hstack((pares, impares)) "
   ]
  },
  {
   "cell_type": "markdown",
   "id": "8dee7e4b-d46d-4e0b-9d0d-e6b9e36316c1",
   "metadata": {},
   "source": [
    "### Apila los arrays en referencia al número de elementos."
   ]
  },
  {
   "cell_type": "code",
   "execution_count": 3716,
   "id": "ed38a9b7-ff5c-4849-8c41-837ad2ae9c34",
   "metadata": {},
   "outputs": [
    {
     "data": {
      "text/plain": [
       "array([[ 0,  2,  4],\n",
       "       [ 6,  8, 10],\n",
       "       [12, 14, 16],\n",
       "       [ 1,  3,  5],\n",
       "       [ 7,  9, 11],\n",
       "       [13, 15, 17]])"
      ]
     },
     "execution_count": 3716,
     "metadata": {},
     "output_type": "execute_result"
    }
   ],
   "source": [
    "np.vstack((pares, impares)) "
   ]
  },
  {
   "cell_type": "code",
   "execution_count": 3717,
   "id": "8f3dab13-c08f-4825-b039-e7951f0793e9",
   "metadata": {},
   "outputs": [
    {
     "data": {
      "text/plain": [
       "array([[ 0,  2,  4,  1,  3,  5],\n",
       "       [ 6,  8, 10,  7,  9, 11],\n",
       "       [12, 14, 16, 13, 15, 17]])"
      ]
     },
     "execution_count": 3717,
     "metadata": {},
     "output_type": "execute_result"
    }
   ],
   "source": [
    "np.concatenate((pares,impares), axis=1)"
   ]
  },
  {
   "cell_type": "code",
   "execution_count": 3718,
   "id": "8875c00a-4c45-4d8e-b130-c8952f685974",
   "metadata": {},
   "outputs": [
    {
     "data": {
      "text/plain": [
       "array([[ 0,  2,  4],\n",
       "       [ 6,  8, 10],\n",
       "       [12, 14, 16],\n",
       "       [ 1,  3,  5],\n",
       "       [ 7,  9, 11],\n",
       "       [13, 15, 17]])"
      ]
     },
     "execution_count": 3718,
     "metadata": {},
     "output_type": "execute_result"
    }
   ],
   "source": [
    "np.concatenate((pares,impares), axis=0)"
   ]
  },
  {
   "cell_type": "code",
   "execution_count": 3719,
   "id": "0c99c580-fa07-46ab-8d1a-6e737a7c2572",
   "metadata": {},
   "outputs": [
    {
     "data": {
      "text/plain": [
       "array([[[ 0,  1],\n",
       "        [ 2,  3],\n",
       "        [ 4,  5]],\n",
       "\n",
       "       [[ 6,  7],\n",
       "        [ 8,  9],\n",
       "        [10, 11]],\n",
       "\n",
       "       [[12, 13],\n",
       "        [14, 15],\n",
       "        [16, 17]]])"
      ]
     },
     "execution_count": 3719,
     "metadata": {},
     "output_type": "execute_result"
    }
   ],
   "source": [
    "np.dstack((pares,impares))"
   ]
  },
  {
   "cell_type": "markdown",
   "id": "35234af6-d3cd-4c11-9607-9e0359ea2061",
   "metadata": {},
   "source": [
    "### Dividir (spliting) arrays"
   ]
  },
  {
   "cell_type": "code",
   "execution_count": 3721,
   "id": "469f7a99-36ed-4698-a61f-ad0adeb85d19",
   "metadata": {},
   "outputs": [
    {
     "data": {
      "text/plain": [
       "[array([[ 0],\n",
       "        [ 6],\n",
       "        [12]]),\n",
       " array([[ 2],\n",
       "        [ 8],\n",
       "        [14]]),\n",
       " array([[ 4],\n",
       "        [10],\n",
       "        [16]])]"
      ]
     },
     "execution_count": 3721,
     "metadata": {},
     "output_type": "execute_result"
    }
   ],
   "source": [
    "np.hsplit(pares,3)"
   ]
  },
  {
   "cell_type": "code",
   "execution_count": 3722,
   "id": "4016cebd-d5e8-4b9d-8aef-0c4e6d41a54e",
   "metadata": {},
   "outputs": [
    {
     "data": {
      "text/plain": [
       "[array([[0, 2, 4]]), array([[ 6,  8, 10]]), array([[12, 14, 16]])]"
      ]
     },
     "execution_count": 3722,
     "metadata": {},
     "output_type": "execute_result"
    }
   ],
   "source": [
    "np.vsplit(pares, 3)"
   ]
  },
  {
   "cell_type": "code",
   "execution_count": 3723,
   "id": "332113d5-11ae-4863-b1c6-3d6288dfe12d",
   "metadata": {},
   "outputs": [
    {
     "data": {
      "text/plain": [
       "[array([[0, 2, 4]]), array([[ 6,  8, 10]]), array([[12, 14, 16]])]"
      ]
     },
     "execution_count": 3723,
     "metadata": {},
     "output_type": "execute_result"
    }
   ],
   "source": [
    "np.split(pares, 3, axis=1)\n",
    "np.split(pares, 3, axis=0)"
   ]
  },
  {
   "cell_type": "code",
   "execution_count": 3724,
   "id": "45389ea0-375e-47b6-a456-ff3edf59e6ce",
   "metadata": {},
   "outputs": [
    {
     "data": {
      "text/plain": [
       "array([[[ 0,  1,  2],\n",
       "        [ 3,  4,  5],\n",
       "        [ 6,  7,  8]],\n",
       "\n",
       "       [[ 9, 10, 11],\n",
       "        [12, 13, 14],\n",
       "        [15, 16, 17]],\n",
       "\n",
       "       [[18, 19, 20],\n",
       "        [21, 22, 23],\n",
       "        [24, 25, 26]]])"
      ]
     },
     "execution_count": 3724,
     "metadata": {},
     "output_type": "execute_result"
    }
   ],
   "source": [
    "big = np.arange(27).reshape(3,3,3)\n",
    "big"
   ]
  },
  {
   "cell_type": "code",
   "execution_count": null,
   "id": "ad55d6d4-62e6-47fc-ab71-37481bdb88c4",
   "metadata": {},
   "outputs": [],
   "source": []
  },
  {
   "cell_type": "code",
   "execution_count": 3725,
   "id": "b4ab5afb-23cf-4f3d-b237-d6b0e3cbae6d",
   "metadata": {},
   "outputs": [
    {
     "data": {
      "text/plain": [
       "[array([[[ 0],\n",
       "         [ 3],\n",
       "         [ 6]],\n",
       " \n",
       "        [[ 9],\n",
       "         [12],\n",
       "         [15]],\n",
       " \n",
       "        [[18],\n",
       "         [21],\n",
       "         [24]]]),\n",
       " array([[[ 1],\n",
       "         [ 4],\n",
       "         [ 7]],\n",
       " \n",
       "        [[10],\n",
       "         [13],\n",
       "         [16]],\n",
       " \n",
       "        [[19],\n",
       "         [22],\n",
       "         [25]]]),\n",
       " array([[[ 2],\n",
       "         [ 5],\n",
       "         [ 8]],\n",
       " \n",
       "        [[11],\n",
       "         [14],\n",
       "         [17]],\n",
       " \n",
       "        [[20],\n",
       "         [23],\n",
       "         [26]]])]"
      ]
     },
     "execution_count": 3725,
     "metadata": {},
     "output_type": "execute_result"
    }
   ],
   "source": [
    "np.dsplit(big,3)"
   ]
  },
  {
   "cell_type": "markdown",
   "id": "21412e46-5940-453c-acde-2663ccc78e11",
   "metadata": {},
   "source": [
    "### Atributos de un array"
   ]
  },
  {
   "cell_type": "code",
   "execution_count": 3727,
   "id": "64322861-d1ab-48e1-a8bb-160a40cd9277",
   "metadata": {},
   "outputs": [
    {
     "data": {
      "text/plain": [
       "3"
      ]
     },
     "execution_count": 3727,
     "metadata": {},
     "output_type": "execute_result"
    }
   ],
   "source": [
    "big.ndim"
   ]
  },
  {
   "cell_type": "code",
   "execution_count": 3728,
   "id": "2f678e14-3eb6-4d89-b063-a7339583ba99",
   "metadata": {},
   "outputs": [
    {
     "data": {
      "text/plain": [
       "27"
      ]
     },
     "execution_count": 3728,
     "metadata": {},
     "output_type": "execute_result"
    }
   ],
   "source": [
    "big.size"
   ]
  },
  {
   "cell_type": "code",
   "execution_count": 3729,
   "id": "0ac7c73e-3d9d-4459-b0a0-4b00d96983ab",
   "metadata": {},
   "outputs": [
    {
     "data": {
      "text/plain": [
       "4"
      ]
     },
     "execution_count": 3729,
     "metadata": {},
     "output_type": "execute_result"
    }
   ],
   "source": [
    "big.itemsize"
   ]
  },
  {
   "cell_type": "code",
   "execution_count": 3730,
   "id": "c9bcb550-50eb-484b-ad3d-76fbfcb46401",
   "metadata": {},
   "outputs": [
    {
     "data": {
      "text/plain": [
       "108"
      ]
     },
     "execution_count": 3730,
     "metadata": {},
     "output_type": "execute_result"
    }
   ],
   "source": [
    "big.nbytes"
   ]
  },
  {
   "cell_type": "code",
   "execution_count": 3731,
   "id": "ea1d21a2-392a-4fd6-b50b-a0f65484846e",
   "metadata": {},
   "outputs": [
    {
     "data": {
      "text/plain": [
       "array([[[ 0,  9, 18],\n",
       "        [ 3, 12, 21],\n",
       "        [ 6, 15, 24]],\n",
       "\n",
       "       [[ 1, 10, 19],\n",
       "        [ 4, 13, 22],\n",
       "        [ 7, 16, 25]],\n",
       "\n",
       "       [[ 2, 11, 20],\n",
       "        [ 5, 14, 23],\n",
       "        [ 8, 17, 26]]])"
      ]
     },
     "execution_count": 3731,
     "metadata": {},
     "output_type": "execute_result"
    }
   ],
   "source": [
    "big.T"
   ]
  },
  {
   "cell_type": "markdown",
   "id": "d9666c37-7e0d-4c40-886e-f47bd42103c2",
   "metadata": {},
   "source": [
    "### Convertir arrays"
   ]
  },
  {
   "cell_type": "code",
   "execution_count": 3733,
   "id": "b8490b73-2a92-41c6-9e61-f567b8411afa",
   "metadata": {},
   "outputs": [],
   "source": [
    "lista = big.tolist()"
   ]
  },
  {
   "cell_type": "code",
   "execution_count": 3734,
   "id": "7d4af9a0-a46f-4508-9524-f431d919d0be",
   "metadata": {},
   "outputs": [
    {
     "name": "stdout",
     "output_type": "stream",
     "text": [
      "[[[0, 1, 2], [3, 4, 5], [6, 7, 8]], [[9, 10, 11], [12, 13, 14], [15, 16, 17]], [[18, 19, 20], [21, 22, 23], [24, 25, 26]]]\n",
      "<class 'list'>\n"
     ]
    }
   ],
   "source": [
    "print(lista)\n",
    "print(type(lista))"
   ]
  },
  {
   "cell_type": "code",
   "execution_count": 3735,
   "id": "2c85a0e5-5579-4d8b-b98d-299b223ef242",
   "metadata": {},
   "outputs": [
    {
     "data": {
      "text/plain": [
       "array([[[ 0.,  1.,  2.],\n",
       "        [ 3.,  4.,  5.],\n",
       "        [ 6.,  7.,  8.]],\n",
       "\n",
       "       [[ 9., 10., 11.],\n",
       "        [12., 13., 14.],\n",
       "        [15., 16., 17.]],\n",
       "\n",
       "       [[18., 19., 20.],\n",
       "        [21., 22., 23.],\n",
       "        [24., 25., 26.]]])"
      ]
     },
     "execution_count": 3735,
     "metadata": {},
     "output_type": "execute_result"
    }
   ],
   "source": [
    "big.astype(float)"
   ]
  },
  {
   "cell_type": "code",
   "execution_count": 3736,
   "id": "597d30c8-45f1-45c5-bc73-052ecb6d4f41",
   "metadata": {},
   "outputs": [
    {
     "data": {
      "text/plain": [
       "array([[['0', '1', '2'],\n",
       "        ['3', '4', '5'],\n",
       "        ['6', '7', '8']],\n",
       "\n",
       "       [['9', '10', '11'],\n",
       "        ['12', '13', '14'],\n",
       "        ['15', '16', '17']],\n",
       "\n",
       "       [['18', '19', '20'],\n",
       "        ['21', '22', '23'],\n",
       "        ['24', '25', '26']]], dtype='<U11')"
      ]
     },
     "execution_count": 3736,
     "metadata": {},
     "output_type": "execute_result"
    }
   ],
   "source": [
    "big.astype(str)"
   ]
  },
  {
   "cell_type": "markdown",
   "id": "7ee80982-2d6c-4d3f-9c71-86a74eea39b6",
   "metadata": {},
   "source": [
    "### Definimos un array con elementos del 2 hasta 20"
   ]
  },
  {
   "cell_type": "code",
   "execution_count": 3738,
   "id": "9df385a2-acb0-4a9e-a4f4-bfb60946c254",
   "metadata": {},
   "outputs": [
    {
     "name": "stdout",
     "output_type": "stream",
     "text": [
      "[ 2  3  4  5  6  7  8  9 10 11 12 13 14 15 16 17 18 19]\n"
     ]
    }
   ],
   "source": [
    "arr = np.arange(2, 20)\n",
    "print(arr)"
   ]
  },
  {
   "cell_type": "markdown",
   "id": "31fddc57-44be-4191-b2f4-8072f980027d",
   "metadata": {},
   "source": [
    "### Asignamos las dos últimas posiciones a la variable b"
   ]
  },
  {
   "cell_type": "code",
   "execution_count": 3740,
   "id": "7f3d41a7-8773-42ae-9cb2-826af2a085c5",
   "metadata": {},
   "outputs": [
    {
     "name": "stdout",
     "output_type": "stream",
     "text": [
      "[18 19]\n"
     ]
    }
   ],
   "source": [
    "b = arr[-2:]\n",
    "print(b)"
   ]
  },
  {
   "cell_type": "markdown",
   "id": "c7b7d241-ef3a-4ec2-8c5a-fd5da2d995f3",
   "metadata": {},
   "source": [
    "### Asignamos todas las posiciones del array b a cero."
   ]
  },
  {
   "cell_type": "code",
   "execution_count": 3742,
   "id": "dfb9b47a-5e51-449a-aefb-9eb06b822d10",
   "metadata": {},
   "outputs": [
    {
     "name": "stdout",
     "output_type": "stream",
     "text": [
      "[0 0]\n"
     ]
    }
   ],
   "source": [
    "b[::] = 0\n",
    "print(b)"
   ]
  },
  {
   "cell_type": "markdown",
   "id": "20d72102-b681-4d30-897f-c8d596355c52",
   "metadata": {},
   "source": [
    "### Los cambios se reflejan en nuestra variable arr"
   ]
  },
  {
   "cell_type": "code",
   "execution_count": 3744,
   "id": "fcb20425-d1cf-4566-b75d-d012669e73f5",
   "metadata": {},
   "outputs": [
    {
     "data": {
      "text/plain": [
       "array([ 2,  3,  4,  5,  6,  7,  8,  9, 10, 11, 12, 13, 14, 15, 16, 17,  0,\n",
       "        0])"
      ]
     },
     "execution_count": 3744,
     "metadata": {},
     "output_type": "execute_result"
    }
   ],
   "source": [
    "arr"
   ]
  },
  {
   "cell_type": "markdown",
   "id": "2ee6e545-3d08-497c-930b-360711dcabea",
   "metadata": {},
   "source": [
    "### Otro ejemplo"
   ]
  },
  {
   "cell_type": "code",
   "execution_count": 3746,
   "id": "bf8970f8-b1e3-416f-97d0-92d08cd72846",
   "metadata": {},
   "outputs": [
    {
     "name": "stdout",
     "output_type": "stream",
     "text": [
      "[ 0  1  2  3  4  5  6  7  8  9 10 11 12 13 14 15 16 17 18 19 20 21 22 23\n",
      " 24 25 26 27 28 29 30]\n"
     ]
    }
   ],
   "source": [
    "array_dos = np.arange(0, 31)\n",
    "print(array_dos)"
   ]
  },
  {
   "cell_type": "code",
   "execution_count": 3747,
   "id": "e5e944ed-6eba-4d81-8891-d6778170813f",
   "metadata": {},
   "outputs": [
    {
     "name": "stdout",
     "output_type": "stream",
     "text": [
      "[0 1 2 3 4]\n"
     ]
    }
   ],
   "source": [
    "c = array_dos[0:5]\n",
    "print(c)"
   ]
  },
  {
   "cell_type": "code",
   "execution_count": 3748,
   "id": "794fb2a7-7949-4c7e-95d4-fdeffd123fb6",
   "metadata": {},
   "outputs": [
    {
     "name": "stdout",
     "output_type": "stream",
     "text": [
      "[100 100 100 100 100]\n"
     ]
    }
   ],
   "source": [
    "c[::] = 100\n",
    "print(c)"
   ]
  },
  {
   "cell_type": "code",
   "execution_count": 3749,
   "id": "09189ff9-94f8-49da-9390-4e7c124b7ed7",
   "metadata": {},
   "outputs": [
    {
     "data": {
      "text/plain": [
       "array([100, 100, 100, 100, 100,   5,   6,   7,   8,   9,  10,  11,  12,\n",
       "        13,  14,  15,  16,  17,  18,  19,  20,  21,  22,  23,  24,  25,\n",
       "        26,  27,  28,  29,  30])"
      ]
     },
     "execution_count": 3749,
     "metadata": {},
     "output_type": "execute_result"
    }
   ],
   "source": [
    "array_dos"
   ]
  },
  {
   "cell_type": "markdown",
   "id": "f7e51fe2-8719-48f8-9369-f216dfa59cd1",
   "metadata": {},
   "source": [
    "### Ejemplo con función view(I)"
   ]
  },
  {
   "cell_type": "code",
   "execution_count": 3751,
   "id": "8c8cd8b3-8ff9-4762-8aa5-d25003b57803",
   "metadata": {},
   "outputs": [
    {
     "name": "stdout",
     "output_type": "stream",
     "text": [
      "[[10 10]\n",
      " [ 2  3]\n",
      " [ 4  5]]\n"
     ]
    }
   ],
   "source": [
    "array_uno = np.array([[10,10], [2,3], [4,5]]) \n",
    "print(array_uno)"
   ]
  },
  {
   "cell_type": "code",
   "execution_count": 3752,
   "id": "5d8cd64a-6439-48ba-98b1-7e69d5b2d9d9",
   "metadata": {},
   "outputs": [
    {
     "name": "stdout",
     "output_type": "stream",
     "text": [
      "[[10 10]\n",
      " [ 2  3]\n",
      " [ 4  5]]\n"
     ]
    }
   ],
   "source": [
    "array_dos = array_uno.view()\n",
    "print(array_dos)"
   ]
  },
  {
   "cell_type": "code",
   "execution_count": 3753,
   "id": "900a8acf-c2c6-47e3-951a-f87701414e0a",
   "metadata": {},
   "outputs": [
    {
     "name": "stdout",
     "output_type": "stream",
     "text": [
      "[[10000     3]\n",
      " [    2     3]\n",
      " [    4     5]]\n",
      "[[10000     3]\n",
      " [    2     3]\n",
      " [    4     5]]\n"
     ]
    }
   ],
   "source": [
    "array_dos[0] = [10000, 3]\n",
    "print(array_dos)\n",
    "print(array_uno)"
   ]
  },
  {
   "cell_type": "markdown",
   "id": "dc69047d-019f-459b-95e2-08350b6c2598",
   "metadata": {},
   "source": [
    "### Ejemplo con función view(II)"
   ]
  },
  {
   "cell_type": "code",
   "execution_count": 3755,
   "id": "bf8489fa-b548-4ad0-9d59-5c79ea75a552",
   "metadata": {},
   "outputs": [
    {
     "data": {
      "text/plain": [
       "2145787811024"
      ]
     },
     "execution_count": 3755,
     "metadata": {},
     "output_type": "execute_result"
    }
   ],
   "source": [
    "id(array_uno)\n",
    "id(array_dos)"
   ]
  },
  {
   "cell_type": "code",
   "execution_count": 3756,
   "id": "39cdad22-0523-45b0-bfba-c35517b5e1da",
   "metadata": {},
   "outputs": [
    {
     "name": "stdout",
     "output_type": "stream",
     "text": [
      "[[1000    3]\n",
      " [   2    3]\n",
      " [   4    5]]\n"
     ]
    }
   ],
   "source": [
    "array_dos[0] = [1000,3]\n",
    "print(array_dos)"
   ]
  },
  {
   "cell_type": "markdown",
   "id": "cf96364e-bc1d-4b4e-9663-8f16ac236a02",
   "metadata": {},
   "source": [
    "### Ejemplo con función copy"
   ]
  },
  {
   "cell_type": "code",
   "execution_count": 3758,
   "id": "2b96388c-8f81-401a-bf80-e8adb73d5478",
   "metadata": {},
   "outputs": [
    {
     "name": "stdout",
     "output_type": "stream",
     "text": [
      "2145787426448\n",
      "2145788207312\n"
     ]
    }
   ],
   "source": [
    "array_copiado = array_uno.copy()\n",
    "print(id(array_uno))\n",
    "print(id(array_copiado))"
   ]
  },
  {
   "cell_type": "code",
   "execution_count": 3759,
   "id": "3a4c76bf-d006-417c-9c39-9743f28474eb",
   "metadata": {},
   "outputs": [
    {
     "name": "stdout",
     "output_type": "stream",
     "text": [
      "[2200, 34]\n",
      "[[1000    3]\n",
      " [   2    3]\n",
      " [   4    5]]\n"
     ]
    }
   ],
   "source": [
    "array_uno = [2200, 34]\n",
    "print(array_uno)\n",
    "print(array_copiado)"
   ]
  },
  {
   "cell_type": "markdown",
   "id": "186876e9-31d1-48da-9eff-74ae1cee6781",
   "metadata": {},
   "source": [
    "### Suma de todo el array o por sus ejes"
   ]
  },
  {
   "cell_type": "code",
   "execution_count": 3761,
   "id": "1b223c92-5358-4c7e-bd02-ca295843aa11",
   "metadata": {},
   "outputs": [
    {
     "data": {
      "text/plain": [
       "array([[3, 1],\n",
       "       [1, 1]])"
      ]
     },
     "execution_count": 3761,
     "metadata": {},
     "output_type": "execute_result"
    }
   ],
   "source": [
    "e = np.array([[[1, 0], [0, 0]],\n",
    "              [[1, 1], [1, 0]],\n",
    "              [[1, 0], [0, 1]]])\n",
    "e.sum(axis=0)"
   ]
  },
  {
   "cell_type": "code",
   "execution_count": 3762,
   "id": "0c9073b9-3dc9-4d1f-9480-28976baeef31",
   "metadata": {},
   "outputs": [
    {
     "data": {
      "text/plain": [
       "array([[1, 0],\n",
       "       [2, 1],\n",
       "       [1, 1]])"
      ]
     },
     "execution_count": 3762,
     "metadata": {},
     "output_type": "execute_result"
    }
   ],
   "source": [
    "e.sum(axis=1)"
   ]
  },
  {
   "cell_type": "markdown",
   "id": "f23097b6-98b3-48d0-8f04-8556e0a1c9ce",
   "metadata": {},
   "source": [
    "### Generar un array con valores inicializados para ser rellenados posteriormente empty"
   ]
  },
  {
   "cell_type": "code",
   "execution_count": 3764,
   "id": "3ab56ed8-f7f7-44ae-8cb4-fc8d7b639422",
   "metadata": {},
   "outputs": [
    {
     "name": "stdout",
     "output_type": "stream",
     "text": [
      "[5. 5. 5. 5. 5. 5. 5. 5. 5. 5.]\n"
     ]
    }
   ],
   "source": [
    "nothing = np.empty(10)\n",
    "print(nothing)"
   ]
  },
  {
   "cell_type": "markdown",
   "id": "d1b99dd2-496d-4fc0-b823-528de6a59bdc",
   "metadata": {},
   "source": [
    "### Generar un array de ceros o unos"
   ]
  },
  {
   "cell_type": "code",
   "execution_count": 3766,
   "id": "62df9fa9-8571-419d-9492-ee89b6151aaa",
   "metadata": {},
   "outputs": [
    {
     "name": "stdout",
     "output_type": "stream",
     "text": [
      "[1. 1. 1. 1. 1.]\n"
     ]
    }
   ],
   "source": [
    "ones = np.ones(5)\n",
    "print(ones)"
   ]
  },
  {
   "cell_type": "code",
   "execution_count": 3767,
   "id": "6f816c06-3eb8-4a6f-9580-4c29af12ea42",
   "metadata": {},
   "outputs": [
    {
     "name": "stdout",
     "output_type": "stream",
     "text": [
      "[0. 0. 0. 0. 0.]\n"
     ]
    }
   ],
   "source": [
    "zeros = np.zeros(5)\n",
    "print(zeros)"
   ]
  },
  {
   "cell_type": "markdown",
   "id": "bc91bb2d-b6fa-4a18-a47e-b23bf72ab3df",
   "metadata": {},
   "source": [
    "### Generar Números Aleatorios"
   ]
  },
  {
   "cell_type": "code",
   "execution_count": 3769,
   "id": "880aace8-e80a-4311-9136-3ebefd141273",
   "metadata": {},
   "outputs": [
    {
     "name": "stdout",
     "output_type": "stream",
     "text": [
      "[0.64697997 0.63351387 0.2067981  0.66732492 0.57446829 0.39963607\n",
      " 0.60929059 0.35643728 0.85638328 0.66543236]\n"
     ]
    }
   ],
   "source": [
    "rand = np.random.rand(10)\n",
    "print(rand)"
   ]
  },
  {
   "cell_type": "code",
   "execution_count": 3770,
   "id": "c5e70a08-fbb7-48f1-ae8f-220ffab911cd",
   "metadata": {},
   "outputs": [
    {
     "name": "stdout",
     "output_type": "stream",
     "text": [
      "[-1.92571501  0.53723662  1.34756918 -0.64190539  0.5092749   0.97540738\n",
      " -1.18901636 -0.54851543  0.69170848 -0.14452521]\n"
     ]
    }
   ],
   "source": [
    "randn = np.random.randn(10)\n",
    "print(randn)"
   ]
  },
  {
   "cell_type": "code",
   "execution_count": 3771,
   "id": "e9933164-0461-46ad-9b0e-2585d3ae18ad",
   "metadata": {},
   "outputs": [
    {
     "name": "stdout",
     "output_type": "stream",
     "text": [
      "[58 75 32 87 86 68 54 44 84 23]\n"
     ]
    }
   ],
   "source": [
    "randint = np.random.randint(20,100,10)\n",
    "print(randint)"
   ]
  },
  {
   "cell_type": "code",
   "execution_count": 3772,
   "id": "32aa5e0a-af7a-4e9e-ae3a-a46cd953ba26",
   "metadata": {},
   "outputs": [
    {
     "name": "stdout",
     "output_type": "stream",
     "text": [
      "[0.44891591 0.88080663 0.96150356 0.2115504  0.83042145 0.04135716\n",
      " 0.77032177 0.38718578 0.22928994 0.92424924]\n"
     ]
    }
   ],
   "source": [
    "random = np.random.random(10)\n",
    "print(random)"
   ]
  },
  {
   "cell_type": "code",
   "execution_count": 3773,
   "id": "b807a37e-07fd-46dc-8973-a05921ca17b2",
   "metadata": {},
   "outputs": [
    {
     "name": "stdout",
     "output_type": "stream",
     "text": [
      "[9.27822741e-03 1.07379133e-02 5.23827442e-01 3.99355214e-03\n",
      " 4.69839784e-01 4.37733229e-01 1.60712955e-03 5.06706727e-06\n",
      " 1.27289329e-01 5.71417655e-03]\n"
     ]
    }
   ],
   "source": [
    "beta = np.random.beta(0.2, 0.5, 10)\n",
    "print(beta)"
   ]
  },
  {
   "cell_type": "code",
   "execution_count": 3774,
   "id": "dc804f33-4d1d-44d2-b91f-f6c9fc8a8f0a",
   "metadata": {},
   "outputs": [
    {
     "name": "stdout",
     "output_type": "stream",
     "text": [
      "[2.58419958e-01 9.67863003e-02 3.95948684e-01 3.23531753e-03\n",
      " 3.79768011e-01 5.74563705e-06 3.74637823e-03 4.39051861e-03\n",
      " 2.30916544e-02 2.13827991e-07]\n"
     ]
    }
   ],
   "source": [
    "gamma = np.random.gamma(0.25, 0.3, 10)\n",
    "print(gamma)"
   ]
  },
  {
   "cell_type": "code",
   "execution_count": 3775,
   "id": "4ae6395d-50cf-44c6-a32e-2db0752957cd",
   "metadata": {},
   "outputs": [
    {
     "name": "stdout",
     "output_type": "stream",
     "text": [
      "[8 2 6 6 2 9 6 7 3 5]\n"
     ]
    }
   ],
   "source": [
    "binomial = np.random.binomial(10, 0.5, 10)\n",
    "print(binomial)"
   ]
  },
  {
   "cell_type": "markdown",
   "id": "1656a5cd-f402-4206-a7d6-35aa4e1bbb7f",
   "metadata": {},
   "source": [
    "### Redondear todos los elementos de un array round"
   ]
  },
  {
   "cell_type": "code",
   "execution_count": 3777,
   "id": "2aa096bd-0bef-4a74-b280-108c2003d0c9",
   "metadata": {},
   "outputs": [
    {
     "data": {
      "text/plain": [
       "array([0.26, 0.1 , 0.4 , 0.  , 0.38, 0.  , 0.  , 0.  , 0.02, 0.  ])"
      ]
     },
     "execution_count": 3777,
     "metadata": {},
     "output_type": "execute_result"
    }
   ],
   "source": [
    "gamma.round(2)"
   ]
  },
  {
   "cell_type": "markdown",
   "id": "9ab65bf0-8fb0-48b2-8191-1bb181086e8d",
   "metadata": {},
   "source": [
    "### Rellenar n elemenetos de un array fill."
   ]
  },
  {
   "cell_type": "code",
   "execution_count": 3779,
   "id": "bb7ef325-97f4-44cf-9e30-a490e9237110",
   "metadata": {},
   "outputs": [
    {
     "name": "stdout",
     "output_type": "stream",
     "text": [
      "[0. 0. 0. 0. 0. 5. 5. 5. 5. 5. 5. 5. 5. 5. 5. 0. 0. 0. 0. 0.]\n"
     ]
    }
   ],
   "source": [
    "zero_array = np.zeros(20)\n",
    "zero_array[5:15].fill(5)\n",
    "print(zero_array)"
   ]
  },
  {
   "cell_type": "markdown",
   "id": "c38839fe-bd7d-4cfe-a62c-62e3b56296e8",
   "metadata": {},
   "source": [
    "### Media del array o por sus ejes mean"
   ]
  },
  {
   "cell_type": "code",
   "execution_count": 3781,
   "id": "f9f1eb1d-2f59-4bcb-86b6-2b9d9d3e309c",
   "metadata": {},
   "outputs": [
    {
     "data": {
      "text/plain": [
       "array([[1.        , 0.33333333],\n",
       "       [0.33333333, 0.33333333]])"
      ]
     },
     "execution_count": 3781,
     "metadata": {},
     "output_type": "execute_result"
    }
   ],
   "source": [
    "e.mean(axis = 0)"
   ]
  },
  {
   "cell_type": "code",
   "execution_count": 3782,
   "id": "03d5878f-3343-4a76-8f32-4044a926d0d5",
   "metadata": {},
   "outputs": [
    {
     "data": {
      "text/plain": [
       "array([[0.5, 0. ],\n",
       "       [1. , 0.5],\n",
       "       [0.5, 0.5]])"
      ]
     },
     "execution_count": 3782,
     "metadata": {},
     "output_type": "execute_result"
    }
   ],
   "source": [
    "e.mean(axis = 1)"
   ]
  },
  {
   "cell_type": "code",
   "execution_count": 3783,
   "id": "f5bf5be0-48c6-4c06-bf3b-ca3599784262",
   "metadata": {},
   "outputs": [
    {
     "data": {
      "text/plain": [
       "0.5"
      ]
     },
     "execution_count": 3783,
     "metadata": {},
     "output_type": "execute_result"
    }
   ],
   "source": [
    "e.mean()"
   ]
  },
  {
   "cell_type": "markdown",
   "id": "891cc0a0-4939-48e7-a9d8-8d1b2c43f882",
   "metadata": {},
   "source": [
    "### Producto de un array"
   ]
  },
  {
   "cell_type": "code",
   "execution_count": 3785,
   "id": "a9a99725-2d59-4da6-a012-d40ddaea36c9",
   "metadata": {},
   "outputs": [
    {
     "data": {
      "text/plain": [
       "array([[[[1, 2, 3],\n",
       "         [1, 2, 3]],\n",
       "\n",
       "        [[0, 0, 0],\n",
       "         [0, 0, 0]]],\n",
       "\n",
       "\n",
       "       [[[2, 4, 6],\n",
       "         [2, 4, 6]],\n",
       "\n",
       "        [[1, 2, 3],\n",
       "         [1, 2, 3]]],\n",
       "\n",
       "\n",
       "       [[[1, 2, 3],\n",
       "         [1, 2, 3]],\n",
       "\n",
       "        [[1, 2, 3],\n",
       "         [1, 2, 3]]]])"
      ]
     },
     "execution_count": 3785,
     "metadata": {},
     "output_type": "execute_result"
    }
   ],
   "source": [
    "e.dot(d)"
   ]
  },
  {
   "cell_type": "markdown",
   "id": "6600a3f6-df50-4ac0-93e7-043bd5a4fd9a",
   "metadata": {},
   "source": [
    "### Valor mínimo de un array min"
   ]
  },
  {
   "cell_type": "code",
   "execution_count": 3787,
   "id": "acff4338-6c62-444a-9ec6-5d2751955c2a",
   "metadata": {},
   "outputs": [],
   "source": [
    "aux = np.array([\n",
    "    [1, 100, 5],\n",
    "    [2, 4, 0]\n",
    "])"
   ]
  },
  {
   "cell_type": "code",
   "execution_count": 3788,
   "id": "8fa948b6-d44b-42ff-9bb4-4483c15a4293",
   "metadata": {},
   "outputs": [
    {
     "data": {
      "text/plain": [
       "0"
      ]
     },
     "execution_count": 3788,
     "metadata": {},
     "output_type": "execute_result"
    }
   ],
   "source": [
    "aux.min()"
   ]
  },
  {
   "cell_type": "code",
   "execution_count": 3789,
   "id": "352258d6-8ad4-41eb-86a2-58fc6b16a705",
   "metadata": {},
   "outputs": [
    {
     "data": {
      "text/plain": [
       "array([1, 4, 0])"
      ]
     },
     "execution_count": 3789,
     "metadata": {},
     "output_type": "execute_result"
    }
   ],
   "source": [
    "aux.min(axis=0)"
   ]
  },
  {
   "cell_type": "code",
   "execution_count": 3790,
   "id": "1b01c46e-e2e6-4bc8-9d9d-cad56432d26b",
   "metadata": {},
   "outputs": [
    {
     "data": {
      "text/plain": [
       "array([1, 0])"
      ]
     },
     "execution_count": 3790,
     "metadata": {},
     "output_type": "execute_result"
    }
   ],
   "source": [
    "aux.min(axis=1)"
   ]
  },
  {
   "cell_type": "markdown",
   "id": "2e0f5143-9a00-4774-9a61-aeaf114b7bd8",
   "metadata": {},
   "source": [
    "### Valor máximo de un array max"
   ]
  },
  {
   "cell_type": "code",
   "execution_count": 3792,
   "id": "6896a05a-6eca-4d35-bbac-ba9c3786db90",
   "metadata": {},
   "outputs": [
    {
     "name": "stdout",
     "output_type": "stream",
     "text": [
      "100\n"
     ]
    }
   ],
   "source": [
    "print(aux.max())"
   ]
  },
  {
   "cell_type": "code",
   "execution_count": 3793,
   "id": "57839f1b-3314-4f6d-ba0a-d62908750ace",
   "metadata": {},
   "outputs": [
    {
     "name": "stdout",
     "output_type": "stream",
     "text": [
      "[  2 100   5]\n"
     ]
    }
   ],
   "source": [
    "print(aux.max(axis=0))"
   ]
  },
  {
   "cell_type": "code",
   "execution_count": 3794,
   "id": "c669fdee-884f-49da-87fe-94c556ee436e",
   "metadata": {},
   "outputs": [
    {
     "name": "stdout",
     "output_type": "stream",
     "text": [
      "[  2 100   5]\n"
     ]
    }
   ],
   "source": [
    "print(aux.max(axis=0))"
   ]
  },
  {
   "cell_type": "markdown",
   "id": "f1a0394b-0e27-4bca-8b1e-b2ec083e4f91",
   "metadata": {},
   "source": [
    "### Posición de índice con el valor mínimo de un array \"argmin\""
   ]
  },
  {
   "cell_type": "code",
   "execution_count": 3796,
   "id": "38a28e5f-7f99-4555-9ae8-3631ad45711f",
   "metadata": {},
   "outputs": [
    {
     "data": {
      "text/plain": [
       "5"
      ]
     },
     "execution_count": 3796,
     "metadata": {},
     "output_type": "execute_result"
    }
   ],
   "source": [
    "aux.argmin()"
   ]
  },
  {
   "cell_type": "markdown",
   "id": "7eee0f88-7501-4ae0-865a-badcc9a8261a",
   "metadata": {},
   "source": [
    "### Posición de índice con el valor máximo de un array \"argmax\""
   ]
  },
  {
   "cell_type": "code",
   "execution_count": 3798,
   "id": "0cd3bf78-be9b-4303-9371-684ded4cc4b4",
   "metadata": {},
   "outputs": [
    {
     "data": {
      "text/plain": [
       "1"
      ]
     },
     "execution_count": 3798,
     "metadata": {},
     "output_type": "execute_result"
    }
   ],
   "source": [
    "aux.argmax()"
   ]
  },
  {
   "cell_type": "markdown",
   "id": "72c4b3c8-df37-468d-beaf-9363846b80c0",
   "metadata": {},
   "source": [
    "### Ordenar valores de un array sort"
   ]
  },
  {
   "cell_type": "code",
   "execution_count": 3897,
   "id": "99488675-ded2-442a-8e88-f91c1cc742b0",
   "metadata": {},
   "outputs": [
    {
     "data": {
      "text/plain": [
       "array([[  1,   5, 100],\n",
       "       [  0,   2,   4]])"
      ]
     },
     "execution_count": 3897,
     "metadata": {},
     "output_type": "execute_result"
    }
   ],
   "source": [
    "aux.sort()\n",
    "aux"
   ]
  }
 ],
 "metadata": {
  "kernelspec": {
   "display_name": "Python 3 (ipykernel)",
   "language": "python",
   "name": "python3"
  },
  "language_info": {
   "codemirror_mode": {
    "name": "ipython",
    "version": 3
   },
   "file_extension": ".py",
   "mimetype": "text/x-python",
   "name": "python",
   "nbconvert_exporter": "python",
   "pygments_lexer": "ipython3",
   "version": "3.12.4"
  }
 },
 "nbformat": 4,
 "nbformat_minor": 5
}
