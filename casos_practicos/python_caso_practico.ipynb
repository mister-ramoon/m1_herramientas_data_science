{
 "cells": [
  {
   "cell_type": "code",
   "execution_count": 41,
   "id": "21c8fe8f-3e34-4f11-bdfa-bc7c34c89efa",
   "metadata": {},
   "outputs": [
    {
     "name": "stdout",
     "output_type": "stream",
     "text": [
      "Cantidad de números en la lita: 12\n",
      "Número máximo de la lista 342\n",
      "Número mínimo de la lista 1\n",
      "Número de la media en la lista 54.675000000000004\n"
     ]
    }
   ],
   "source": [
    "numbers_list = [1,20,5.6,50.5,119,19,342,4,21,64,5,5]\n",
    "\n",
    "def numbers_length():\n",
    "    return len(numbers_list)\n",
    "\n",
    "def max_number():\n",
    "    return print('Número máximo de la lista', max(numbers_list))\n",
    "\n",
    "def min_number():\n",
    "    return print('Número mínimo de la lista', min(numbers_list))\n",
    "\n",
    "def reduce_number():\n",
    "    sum_values = sum(numbers_list)\n",
    "    list_length = numbers_length()\n",
    "    \n",
    "    return print('Número de la media en la lista', sum_values / list_length)\n",
    "\n",
    "if __name__ == '__main__':\n",
    "    print('Cantidad de números en la lita:', numbers_length())\n",
    "    max_number()\n",
    "    min_number()\n",
    "    reduce_number()"
   ]
  },
  {
   "cell_type": "code",
   "execution_count": 33,
   "id": "cf6ebf1a-c363-4e21-89da-11f42ab3bda4",
   "metadata": {},
   "outputs": [
    {
     "data": {
      "text/plain": [
       "['Mario', 'Ana', 'Ivan', 'Laura', 'Beatriz']"
      ]
     },
     "execution_count": 33,
     "metadata": {},
     "output_type": "execute_result"
    }
   ],
   "source": [
    "list_one = ['Mario', 'Paula', 'David', 'Ana', 'Jorge', 'Ivan', 'Laura', 'Beatriz']\n",
    "list_two = ['Paula', 'Francisco', 'Jorge', 'Juan', 'David']\n",
    "\n",
    "def get_new_list():\n",
    "\n",
    "    for item in list_two:\n",
    "        if item in list_one:\n",
    "            list_one.remove(item)\n",
    "        else:\n",
    "            pass\n",
    "       \n",
    "    return list_one\n",
    "\n",
    "get_new_list()"
   ]
  },
  {
   "cell_type": "code",
   "execution_count": 35,
   "id": "ec1823ee-e943-4b0c-9595-94118023812f",
   "metadata": {},
   "outputs": [
    {
     "name": "stdout",
     "output_type": "stream",
     "text": [
      "La empresa ACCIONA tiene los siguientes precios [78.6, 84.95, 77.2]\n",
      "La empresa ACERINOX tiene los siguientes precios [50, 51.25, 58.42]\n",
      "La empresa INDITEX tiene los siguientes precios [50, 57.89, 68.5]\n",
      "La empresa ENEGAS tiene los siguientes precios [50, 50, 50]\n",
      "La empresa FERROVIAL tiene los siguientes precios [78.58, 50, 65.45]\n"
     ]
    }
   ],
   "source": [
    "precios = {\n",
    "    'ACCIONA': [78.60, 84.95, 77.20],\n",
    "    'ACERINOX': [5.88, 51.25, 58.42],\n",
    "    'INDITEX': [49.99, 57.89, 68.5],\n",
    "    'ENEGAS': [0.5, 0.78, 48.75],\n",
    "    'FERROVIAL': [78.58, 24.25, 65.45]\n",
    "}\n",
    "\n",
    "def update_value(value):\n",
    "    \"\"\"\n",
    "    Función que actualiza un valor en función de un punto de corte.\n",
    "    \n",
    "    input\n",
    "    value: float\n",
    "    \n",
    "    output\n",
    "    value: float | new_value: int\n",
    "    \"\"\"\n",
    "    \n",
    "    if value < 50:\n",
    "        return 50\n",
    "    else:\n",
    "        return value\n",
    "\n",
    "def update_dict(input_dict):\n",
    "    \"\"\"\n",
    "    Función que recibe como parámetro de entrada un diccionario de datos\n",
    "    y acutaliza sus valores, devolviendo el diccionario actualizado\n",
    "    \n",
    "    input \n",
    "    input_dict: dict\n",
    "    \n",
    "    output\n",
    "    input_dict: dict\n",
    "    \"\"\"\n",
    "    # Recorremos los campos clave\n",
    "    for campo_clave in input_dict.keys():\n",
    "        \n",
    "        # Obtenemos la lista\n",
    "        sub_lista = input_dict[campo_clave]\n",
    "        \n",
    "        # Recorremos cada valor de la lista\n",
    "        for item_lista in range(len(sub_lista)):\n",
    "            # Actualizamos el valor pasando como parámetro de entrada\n",
    "            # el valor de la lista en cada iteracción\n",
    "            sub_lista[item_lista] = update_value(value=sub_lista[item_lista])\n",
    "            \n",
    "        # Cuando finalizamos la actualización de la lista\n",
    "        # Sobreescribimos la lista antigua por la nueva\n",
    "        \n",
    "        input_dict[campo_clave] = sub_lista\n",
    "        \n",
    "    # Devolvemos el diccionario actualizado.\n",
    "    return input_dict \n",
    "\n",
    "def show_companies(dict_object):\n",
    "    \"\"\"\n",
    "    Función que imprime los ítems de un diccionario de datos por \n",
    "    cada valor del campo clave.\n",
    "    \n",
    "    input\n",
    "    dict_object: dict\n",
    "    \n",
    "    output: None\n",
    "    \"\"\"\n",
    "    for item in dict_object.keys():\n",
    "        print('La empresa {} tiene los siguientes precios {}'.format(item, dict_object[item]))\n",
    "        \n",
    "        \n",
    "    # No return\n",
    "\n",
    "if __name__ == '__main__':\n",
    "    clean_dict = update_dict(input_dict = precios)\n",
    "    show_companies(dict_object=clean_dict)"
   ]
  },
  {
   "cell_type": "code",
   "execution_count": null,
   "id": "2d472418-feef-4b27-a4d1-9433290e052e",
   "metadata": {},
   "outputs": [],
   "source": []
  }
 ],
 "metadata": {
  "kernelspec": {
   "display_name": "Python 3 (ipykernel)",
   "language": "python",
   "name": "python3"
  },
  "language_info": {
   "codemirror_mode": {
    "name": "ipython",
    "version": 3
   },
   "file_extension": ".py",
   "mimetype": "text/x-python",
   "name": "python",
   "nbconvert_exporter": "python",
   "pygments_lexer": "ipython3",
   "version": "3.12.4"
  }
 },
 "nbformat": 4,
 "nbformat_minor": 5
}
