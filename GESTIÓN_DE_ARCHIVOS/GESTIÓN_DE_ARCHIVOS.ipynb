{
 "cells": [
  {
   "cell_type": "markdown",
   "metadata": {},
   "source": [
    "# GESTIÓN DE ARCHIVOS\n",
    "\n",
    "## CSV\n",
    "\n",
    "### Lectura de un csv"
   ]
  },
  {
   "cell_type": "code",
   "execution_count": 1,
   "metadata": {},
   "outputs": [],
   "source": [
    "import csv"
   ]
  },
  {
   "cell_type": "code",
   "execution_count": 2,
   "metadata": {},
   "outputs": [],
   "source": [
    "compras_file = open('compras.csv', mode='rt')"
   ]
  },
  {
   "cell_type": "code",
   "execution_count": 3,
   "metadata": {},
   "outputs": [
    {
     "data": {
      "text/plain": [
       "<_io.TextIOWrapper name='compras.csv' mode='rt' encoding='cp1252'>"
      ]
     },
     "execution_count": 3,
     "metadata": {},
     "output_type": "execute_result"
    }
   ],
   "source": [
    "compras_file"
   ]
  },
  {
   "cell_type": "code",
   "execution_count": 4,
   "metadata": {},
   "outputs": [],
   "source": [
    "reader_compras = csv.reader(compras_file)"
   ]
  },
  {
   "cell_type": "code",
   "execution_count": 5,
   "metadata": {},
   "outputs": [
    {
     "data": {
      "text/plain": [
       "<_csv.reader at 0x244a5ac1f98>"
      ]
     },
     "execution_count": 5,
     "metadata": {},
     "output_type": "execute_result"
    }
   ],
   "source": [
    "reader_compras"
   ]
  },
  {
   "cell_type": "code",
   "execution_count": 6,
   "metadata": {},
   "outputs": [
    {
     "data": {
      "text/plain": [
       "[['ï»¿FECHA', 'ARTICULO', 'CUANTIA', 'PRECIO UNIDAD', 'TOTAL'],\n",
       " ['15/03/2020', 'Barra Pan', '2', '0.55', '1.1'],\n",
       " ['16/03/2020', 'BolÃ\\xadgrafo Bic', '3', '0.22', '0.66'],\n",
       " ['17/03/2020', 'Cuaderno', '1', '1.25', '1.25'],\n",
       " ['18/03/2020', 'Refresco', '5', '0.8', '4'],\n",
       " ['19/03/2020', 'Silla Gamer', '1', '153', '153'],\n",
       " ['20/03/2020', 'Paquete folios A4', '3', '2.48', '7.44'],\n",
       " ['21/03/2020', 'Pack x6 Vaso cristal', '2', '6', '12'],\n",
       " ['22/03/2020', 'Manzanas (Kg.)', '1', '2.48', '2.48'],\n",
       " ['23/03/2020', 'Naranjas (Kg.)', '2', '1.29', '2.58'],\n",
       " ['24/03/2020', 'Naranja Malla', '1', '1.5', '1.5']]"
      ]
     },
     "execution_count": 6,
     "metadata": {},
     "output_type": "execute_result"
    }
   ],
   "source": [
    "clean_compras = list(reader_compras)\n",
    "\n",
    "clean_compras"
   ]
  },
  {
   "cell_type": "markdown",
   "metadata": {},
   "source": [
    "### Escritura de un csv"
   ]
  },
  {
   "cell_type": "markdown",
   "metadata": {},
   "source": [
    "Agreagaremos unas cuántas líneas más al .csv, todo compras del mismo día"
   ]
  },
  {
   "cell_type": "code",
   "execution_count": 7,
   "metadata": {},
   "outputs": [],
   "source": [
    "clean_compras.append(['24/03/2020', 'Nueva compra 1', '1', '1', '1'])\n",
    "clean_compras.append(['24/03/2020', 'Nueva compra 2', '2', '1.25', '2.5'])\n",
    "clean_compras.append(['24/03/2020', 'Nueva compra 3', '1', '2', '2'])"
   ]
  },
  {
   "cell_type": "code",
   "execution_count": 8,
   "metadata": {},
   "outputs": [
    {
     "data": {
      "text/plain": [
       "[['ï»¿FECHA', 'ARTICULO', 'CUANTIA', 'PRECIO UNIDAD', 'TOTAL'],\n",
       " ['15/03/2020', 'Barra Pan', '2', '0.55', '1.1'],\n",
       " ['16/03/2020', 'BolÃ\\xadgrafo Bic', '3', '0.22', '0.66'],\n",
       " ['17/03/2020', 'Cuaderno', '1', '1.25', '1.25'],\n",
       " ['18/03/2020', 'Refresco', '5', '0.8', '4'],\n",
       " ['19/03/2020', 'Silla Gamer', '1', '153', '153'],\n",
       " ['20/03/2020', 'Paquete folios A4', '3', '2.48', '7.44'],\n",
       " ['21/03/2020', 'Pack x6 Vaso cristal', '2', '6', '12'],\n",
       " ['22/03/2020', 'Manzanas (Kg.)', '1', '2.48', '2.48'],\n",
       " ['23/03/2020', 'Naranjas (Kg.)', '2', '1.29', '2.58'],\n",
       " ['24/03/2020', 'Naranja Malla', '1', '1.5', '1.5'],\n",
       " ['24/03/2020', 'Nueva compra 1', '1', '1', '1'],\n",
       " ['24/03/2020', 'Nueva compra 2', '2', '1.25', '2.5'],\n",
       " ['24/03/2020', 'Nueva compra 3', '1', '2', '2']]"
      ]
     },
     "execution_count": 8,
     "metadata": {},
     "output_type": "execute_result"
    }
   ],
   "source": [
    "clean_compras"
   ]
  },
  {
   "cell_type": "code",
   "execution_count": 9,
   "metadata": {},
   "outputs": [],
   "source": [
    "file = open('compras_actualizadas.csv', 'wt', newline='')\n",
    "writer = csv.writer(file)\n",
    "writer.writerows(clean_compras)\n",
    "file.close()"
   ]
  },
  {
   "cell_type": "markdown",
   "metadata": {},
   "source": [
    "## JSON\n",
    "\n",
    "### Lectura de un archivo json\n",
    "\n",
    "importamos la librería json"
   ]
  },
  {
   "cell_type": "code",
   "execution_count": 10,
   "metadata": {},
   "outputs": [],
   "source": [
    "import json"
   ]
  },
  {
   "cell_type": "code",
   "execution_count": 11,
   "metadata": {},
   "outputs": [],
   "source": [
    "with open('mercados.json', 'rb') as f:\n",
    "    mercados = json.load(f)"
   ]
  },
  {
   "cell_type": "code",
   "execution_count": 12,
   "metadata": {},
   "outputs": [
    {
     "data": {
      "text/plain": [
       "{'IBEX_35': [{'ACCIONA': [95.95, 14.7, 95.95, 95.95, 6.302]},\n",
       "  {'B. SANTANDER': [2.2195, 9.99, 2.2195, 2.2195, 203.685]},\n",
       "  {'IBERDROLA': [8.588, 4.32, 8.588, 8.588, 98.298]}],\n",
       " 'IBEX_MEDIUM_CAP': [{'EUSKALTEL': [6.15, 3.71, 6.15, 6.02, 947]},\n",
       "  {'LIBERBANK': [0.1552, 7.48, 0.1648, 0.1551, 304.384]},\n",
       "  {'SACYR': [1.196, 4.09, 1.226, 1.196, 125.271]}]}"
      ]
     },
     "execution_count": 12,
     "metadata": {},
     "output_type": "execute_result"
    }
   ],
   "source": [
    "mercados"
   ]
  },
  {
   "cell_type": "code",
   "execution_count": 13,
   "metadata": {},
   "outputs": [
    {
     "data": {
      "text/plain": [
       "dict_keys(['IBEX_35', 'IBEX_MEDIUM_CAP'])"
      ]
     },
     "execution_count": 13,
     "metadata": {},
     "output_type": "execute_result"
    }
   ],
   "source": [
    "mercados.keys()"
   ]
  },
  {
   "cell_type": "code",
   "execution_count": 14,
   "metadata": {},
   "outputs": [
    {
     "data": {
      "text/plain": [
       "[{'EUSKALTEL': [6.15, 3.71, 6.15, 6.02, 947]},\n",
       " {'LIBERBANK': [0.1552, 7.48, 0.1648, 0.1551, 304.384]},\n",
       " {'SACYR': [1.196, 4.09, 1.226, 1.196, 125.271]}]"
      ]
     },
     "execution_count": 14,
     "metadata": {},
     "output_type": "execute_result"
    }
   ],
   "source": [
    "mercados['IBEX_MEDIUM_CAP']"
   ]
  },
  {
   "cell_type": "code",
   "execution_count": 15,
   "metadata": {},
   "outputs": [
    {
     "name": "stdout",
     "output_type": "stream",
     "text": [
      "{'EUSKALTEL': [6.15, 3.71, 6.15, 6.02, 947]}\n",
      "{'LIBERBANK': [0.1552, 7.48, 0.1648, 0.1551, 304.384]}\n",
      "{'SACYR': [1.196, 4.09, 1.226, 1.196, 125.271]}\n"
     ]
    }
   ],
   "source": [
    "for company in mercados['IBEX_MEDIUM_CAP']:\n",
    "    print(company)"
   ]
  },
  {
   "cell_type": "code",
   "execution_count": 16,
   "metadata": {},
   "outputs": [
    {
     "name": "stdout",
     "output_type": "stream",
     "text": [
      "[6.15, 3.71, 6.15, 6.02, 947]\n",
      "[0.1552, 7.48, 0.1648, 0.1551, 304.384]\n",
      "[1.196, 4.09, 1.226, 1.196, 125.271]\n"
     ]
    }
   ],
   "source": [
    "for company in mercados['IBEX_MEDIUM_CAP']:\n",
    "    for value in company.keys():\n",
    "        print(company[value])"
   ]
  },
  {
   "cell_type": "markdown",
   "metadata": {},
   "source": [
    "### Escritura de un json\n",
    "\n",
    "Agregamos nuevos campos."
   ]
  },
  {
   "cell_type": "code",
   "execution_count": 17,
   "metadata": {},
   "outputs": [],
   "source": [
    "new_market = [\n",
    "    {'New_Market_1': [1, 2, 3, 4, 5]},\n",
    "    {'New_Market_2': [5, 4, 3, 2, 1]}\n",
    "]"
   ]
  },
  {
   "cell_type": "code",
   "execution_count": 18,
   "metadata": {},
   "outputs": [],
   "source": [
    "mercados.update({'NEW_MARKET' : new_market})"
   ]
  },
  {
   "cell_type": "code",
   "execution_count": 19,
   "metadata": {},
   "outputs": [
    {
     "data": {
      "text/plain": [
       "{'IBEX_35': [{'ACCIONA': [95.95, 14.7, 95.95, 95.95, 6.302]},\n",
       "  {'B. SANTANDER': [2.2195, 9.99, 2.2195, 2.2195, 203.685]},\n",
       "  {'IBERDROLA': [8.588, 4.32, 8.588, 8.588, 98.298]}],\n",
       " 'IBEX_MEDIUM_CAP': [{'EUSKALTEL': [6.15, 3.71, 6.15, 6.02, 947]},\n",
       "  {'LIBERBANK': [0.1552, 7.48, 0.1648, 0.1551, 304.384]},\n",
       "  {'SACYR': [1.196, 4.09, 1.226, 1.196, 125.271]}],\n",
       " 'NEW_MARKET': [{'New_Market_1': [1, 2, 3, 4, 5]},\n",
       "  {'New_Market_2': [5, 4, 3, 2, 1]}]}"
      ]
     },
     "execution_count": 19,
     "metadata": {},
     "output_type": "execute_result"
    }
   ],
   "source": [
    "mercados"
   ]
  },
  {
   "cell_type": "code",
   "execution_count": 20,
   "metadata": {},
   "outputs": [],
   "source": [
    "with open('Mercados_update.json', 'w') as outfile:\n",
    "    json.dump(mercados, outfile)"
   ]
  },
  {
   "cell_type": "code",
   "execution_count": 21,
   "metadata": {},
   "outputs": [],
   "source": [
    "with open('Mercados_update_ok.json', 'w') as outfile:\n",
    "    json.dump(mercados, outfile, indent=4)"
   ]
  },
  {
   "cell_type": "markdown",
   "metadata": {},
   "source": [
    "## XML\n",
    "\n",
    "### Lectura de un archivo xml\n",
    "\n",
    "importamos la librería json"
   ]
  },
  {
   "cell_type": "code",
   "execution_count": 22,
   "metadata": {},
   "outputs": [],
   "source": [
    "import xml.dom.minidom"
   ]
  },
  {
   "cell_type": "markdown",
   "metadata": {},
   "source": [
    "Lo primero de todo parseamos el archivo xml"
   ]
  },
  {
   "cell_type": "code",
   "execution_count": 23,
   "metadata": {},
   "outputs": [],
   "source": [
    "raw_xml = xml.dom.minidom.parse('books.xml')"
   ]
  },
  {
   "cell_type": "code",
   "execution_count": 24,
   "metadata": {},
   "outputs": [
    {
     "data": {
      "text/plain": [
       "<xml.dom.minidom.Document at 0x244a5b04dc8>"
      ]
     },
     "execution_count": 24,
     "metadata": {},
     "output_type": "execute_result"
    }
   ],
   "source": [
    "raw_xml"
   ]
  },
  {
   "cell_type": "markdown",
   "metadata": {},
   "source": [
    "En casi todos los XML tendremos siempre un Elemento principal que abre y cierra el XML, en nuestro caso es Catalog. Para poder procesarlo utilizaremos la función <code>__documentElement__</code>"
   ]
  },
  {
   "cell_type": "code",
   "execution_count": 25,
   "metadata": {},
   "outputs": [],
   "source": [
    "libros_object = raw_xml.documentElement"
   ]
  },
  {
   "cell_type": "code",
   "execution_count": 26,
   "metadata": {},
   "outputs": [
    {
     "data": {
      "text/plain": [
       "<DOM Element: Catalog at 0x244a5a8f7c8>"
      ]
     },
     "execution_count": 26,
     "metadata": {},
     "output_type": "execute_result"
    }
   ],
   "source": [
    "libros_object"
   ]
  },
  {
   "cell_type": "markdown",
   "metadata": {},
   "source": [
    "Como podemos comprobar, ahora nuestro objeto DOM ha encontrado el elemento __Catalog__, por lo que ahora podremos iterar y procesar todos sus elementos o nodos. En este caso, simplemente tenemos elementos Book bajo el elemento general Catalog. Por lo tanto, utilizaremos la función <code>__getElementsByTagName(Nombre_Nodo)__</code>"
   ]
  },
  {
   "cell_type": "code",
   "execution_count": 27,
   "metadata": {},
   "outputs": [],
   "source": [
    "books = libros_object.getElementsByTagName('Book')"
   ]
  },
  {
   "cell_type": "code",
   "execution_count": 28,
   "metadata": {},
   "outputs": [
    {
     "data": {
      "text/plain": [
       "[<DOM Element: Book at 0x244a5a8fb88>, <DOM Element: Book at 0x244a5b350e8>]"
      ]
     },
     "execution_count": 28,
     "metadata": {},
     "output_type": "execute_result"
    }
   ],
   "source": [
    "books"
   ]
  },
  {
   "cell_type": "markdown",
   "metadata": {},
   "source": [
    "Si atendemos a la lista capturada, podremos ver que tenemos dos objetos DOM en los que el elemento es Book, ahora, ya podemos iterar sobre el resto de elementos de cada libro. Si nos fijamos bien, estamos realizando la misma operación de Catalog a Book que de Book a Autor, por lo que de nuevo utilizaremos <code>__getElementsByTagName(Nombre_Nodo)__</code>, en este caso, para ir accediendo a cada campo, de forma iterativa con un bucle for"
   ]
  },
  {
   "cell_type": "code",
   "execution_count": 29,
   "metadata": {},
   "outputs": [
    {
     "name": "stdout",
     "output_type": "stream",
     "text": [
      "[<DOM Element: Author at 0x244a5a8f9a8>]\n",
      "[<DOM Element: Author at 0x244a5b35188>]\n"
     ]
    }
   ],
   "source": [
    "for item in books:\n",
    "    Author = item.getElementsByTagName('Author')\n",
    "    print(Author)"
   ]
  },
  {
   "cell_type": "markdown",
   "metadata": {},
   "source": [
    "Como ya no tenemos más elementos sobre los que iterar, si no que ya queremos acceder directamente al contenido, por ejemplo el primer autor: Garghentini, Davide, tenemos que acceder a los elementos de las listas DOM Element, como podemos comprobar cada lista son de longitud 1, no obstante, lo comprobamos."
   ]
  },
  {
   "cell_type": "code",
   "execution_count": 30,
   "metadata": {},
   "outputs": [
    {
     "name": "stdout",
     "output_type": "stream",
     "text": [
      "1\n",
      "1\n"
     ]
    }
   ],
   "source": [
    "for item in books:\n",
    "    print(len(item.getElementsByTagName('Author')))\n",
    "#     Author = item.getElementsByTagName('Author')\n",
    "#     print(Author)"
   ]
  },
  {
   "cell_type": "markdown",
   "metadata": {},
   "source": [
    "Es decir, las listas son indexables por [0], aquí es importante recordar que si tuviéramos más elementos sobre Author, tendríamos que crear un nuevo bucle for para ir recorriendo estos subelementos. Por lo tanto sobre lista del elemento Author, para acceder al contenido utilizamos la función <code>__childNodes__</code> que nos devolverá una nueva lista"
   ]
  },
  {
   "cell_type": "code",
   "execution_count": 31,
   "metadata": {},
   "outputs": [
    {
     "name": "stdout",
     "output_type": "stream",
     "text": [
      "[<DOM Text node \"'Garghentin'...\">]\n",
      "[<DOM Text node \"'Garcia, De'...\">]\n"
     ]
    }
   ],
   "source": [
    "for item in books:\n",
    "    Author = item.getElementsByTagName('Author')[0].childNodes\n",
    "    print(Author)"
   ]
  },
  {
   "cell_type": "markdown",
   "metadata": {},
   "source": [
    "De nuevo hemos obtenido una lista por cada autor de cada libro, vamos a ver la longitud de estas listas."
   ]
  },
  {
   "cell_type": "code",
   "execution_count": 32,
   "metadata": {},
   "outputs": [
    {
     "name": "stdout",
     "output_type": "stream",
     "text": [
      "1\n",
      "1\n"
     ]
    }
   ],
   "source": [
    "for item in books:\n",
    "    print(len(item.getElementsByTagName('Author')[0].childNodes))\n",
    "#     Author = item.getElementsByTagName('Author')[0].childNodes\n",
    "#     print(Author)"
   ]
  },
  {
   "cell_type": "markdown",
   "metadata": {},
   "source": [
    "De nuevo, tenemos solamente un autor, por lo tanto son indexables por [0]"
   ]
  },
  {
   "cell_type": "code",
   "execution_count": 33,
   "metadata": {},
   "outputs": [
    {
     "name": "stdout",
     "output_type": "stream",
     "text": [
      "<DOM Text node \"'Garghentin'...\">\n",
      "<DOM Text node \"'Garcia, De'...\">\n"
     ]
    }
   ],
   "source": [
    "for item in books:\n",
    "    Author = item.getElementsByTagName('Author')[0].childNodes[0]\n",
    "    print(Author)"
   ]
  },
  {
   "cell_type": "markdown",
   "metadata": {},
   "source": [
    "Finalmente, vemos que estamos en un nodo conel atributo Text, para poder recuperar este texto, tenemos que hacer uso de la función <code>__.data__</code>"
   ]
  },
  {
   "cell_type": "code",
   "execution_count": 34,
   "metadata": {},
   "outputs": [
    {
     "name": "stdout",
     "output_type": "stream",
     "text": [
      "Garghentini, Davide\n",
      "Garcia, Debra\n"
     ]
    }
   ],
   "source": [
    "for item in books:\n",
    "    Author = item.getElementsByTagName('Author')[0].childNodes[0].data\n",
    "    print(Author)"
   ]
  },
  {
   "cell_type": "markdown",
   "metadata": {},
   "source": [
    "Ya hemos llegado al nombre de cada autor, para comprender este código de una forma más sencilla donde en lugar de obtener un ítem por línea, realicemos nuevos bucles por si la longitud de las lista es diferente podríamos reescribir el anterior código a lo siguiente."
   ]
  },
  {
   "cell_type": "code",
   "execution_count": 35,
   "metadata": {},
   "outputs": [
    {
     "name": "stdout",
     "output_type": "stream",
     "text": [
      "Garghentini, Davide\n",
      "Garcia, Debra\n"
     ]
    }
   ],
   "source": [
    "for item in books:\n",
    "    target = 'Autor'\n",
    "    for tag in item.getElementsByTagName('Author'):\n",
    "        for nodo in tag.childNodes:\n",
    "            autor = nodo.data\n",
    "            print(autor)"
   ]
  },
  {
   "cell_type": "markdown",
   "metadata": {},
   "source": [
    "Finalmente, podemos mostrar toda la información del XML iterando sobre los nodos hijos del mismo modo que hemos realizado con el autor."
   ]
  },
  {
   "cell_type": "code",
   "execution_count": 36,
   "metadata": {},
   "outputs": [
    {
     "name": "stdout",
     "output_type": "stream",
     "text": [
      "Procesando libro ...\n",
      "\t * Autor: Garghentini, Davide \n",
      "\t * Título: XML Developer's Guide \n",
      "\t * Género: Computer \n",
      "\t * Precio: 44.95 \n",
      "\t * Fecha publicación: 2000-10-01 \n",
      "\t * Descripción: An in-depth look at creating applications\n",
      "      with XML. \n",
      "-------------------------\n",
      "Procesando libro ...\n",
      "\t * Autor: Garcia, Debra \n",
      "\t * Título: Midnight Rain \n",
      "\t * Género: Fantasy \n",
      "\t * Precio: 5.95 \n",
      "\t * Fecha publicación: 2000-12-16 \n",
      "\t * Descripción: A former architect battles corporate zombies,\n",
      "      an evil sorceress, and her own childhood to become queen\n",
      "      of the world. \n",
      "-------------------------\n"
     ]
    }
   ],
   "source": [
    "for item in books:\n",
    "    print('Procesando libro ...')\n",
    "    \n",
    "    # Recuperamos los campos\n",
    "    Author = item.getElementsByTagName('Author')[0].childNodes[0].data\n",
    "    Title = item.getElementsByTagName('Title')[0].childNodes[0].data\n",
    "    Genre = item.getElementsByTagName('Genre')[0].childNodes[0].data\n",
    "    Price = item.getElementsByTagName('Price')[0].childNodes[0].data\n",
    "    PublishDate = item.getElementsByTagName('PublishDate')[0].childNodes[0].data\n",
    "    Description = item.getElementsByTagName('Description')[0].childNodes[0].data\n",
    "    \n",
    "    # Imprimimos los campos\n",
    "    print('\\t * Autor: {} '.format(Author))\n",
    "    print('\\t * Título: {} '.format(Title))\n",
    "    print('\\t * Género: {} '.format(Genre))\n",
    "    print('\\t * Precio: {} '.format(Price))\n",
    "    print('\\t * Fecha publicación: {} '.format(PublishDate))\n",
    "    print('\\t * Descripción: {} '.format(Description))\n",
    "    print('-'*25)"
   ]
  },
  {
   "cell_type": "markdown",
   "metadata": {},
   "source": [
    "Análogamente utilizando más bucles para los índices ..."
   ]
  },
  {
   "cell_type": "code",
   "execution_count": 37,
   "metadata": {},
   "outputs": [
    {
     "name": "stdout",
     "output_type": "stream",
     "text": [
      "Procesando libro ...\n",
      "\t * Title: XML Developer's Guide \n",
      "\t * Genre: Computer \n",
      "\t * Price: 44.95 \n",
      "\t * PublishDate: 2000-10-01 \n",
      "\t * Description: An in-depth look at creating applications\n",
      "      with XML. \n",
      "-------------------------\n",
      "Procesando libro ...\n",
      "\t * Title: Midnight Rain \n",
      "\t * Genre: Fantasy \n",
      "\t * Price: 5.95 \n",
      "\t * PublishDate: 2000-12-16 \n",
      "\t * Description: A former architect battles corporate zombies,\n",
      "      an evil sorceress, and her own childhood to become queen\n",
      "      of the world. \n",
      "-------------------------\n"
     ]
    }
   ],
   "source": [
    "for item in books:\n",
    "    print('Procesando libro ...')\n",
    "    \n",
    "    target = ['Autor', 'Title', 'Genre', 'Price', 'PublishDate', 'Description']\n",
    "    \n",
    "    for elemento in target:\n",
    "        # Iteramos por cada elemento\n",
    "        for tag in item.getElementsByTagName(elemento):\n",
    "            # Iteramos por cada tag name\n",
    "            for nodo in tag.childNodes:\n",
    "                # Iteramos por cada nodo\n",
    "                final_data = nodo.data\n",
    "                print('\\t * {}: {} '.format(elemento, final_data))\n",
    "    print('-'*25)"
   ]
  }
 ],
 "metadata": {
  "kernelspec": {
   "display_name": "Python 3 (ipykernel)",
   "language": "python",
   "name": "python3"
  },
  "language_info": {
   "codemirror_mode": {
    "name": "ipython",
    "version": 3
   },
   "file_extension": ".py",
   "mimetype": "text/x-python",
   "name": "python",
   "nbconvert_exporter": "python",
   "pygments_lexer": "ipython3",
   "version": "3.12.4"
  }
 },
 "nbformat": 4,
 "nbformat_minor": 4
}
